{
  "nbformat": 4,
  "nbformat_minor": 0,
  "metadata": {
    "colab": {
      "name": "Jax MNIST",
      "provenance": [],
      "collapsed_sections": []
    },
    "kernelspec": {
      "name": "python3",
      "display_name": "Python 3"
    },
    "language_info": {
      "name": "python"
    },
    "widgets": {
      "application/vnd.jupyter.widget-state+json": {
        "1aac1d0c80ae4cf99a19e8b04597378f": {
          "model_module": "@jupyter-widgets/controls",
          "model_name": "HBoxModel",
          "model_module_version": "1.5.0",
          "state": {
            "_dom_classes": [],
            "_model_module": "@jupyter-widgets/controls",
            "_model_module_version": "1.5.0",
            "_model_name": "HBoxModel",
            "_view_count": null,
            "_view_module": "@jupyter-widgets/controls",
            "_view_module_version": "1.5.0",
            "_view_name": "HBoxView",
            "box_style": "",
            "children": [
              "IPY_MODEL_d1c4751fef1d4313bec8c5d3771152e5",
              "IPY_MODEL_9ea75594ade3429eaba22681f69e83cb",
              "IPY_MODEL_5d2af19cf5d1455a8d8636d202d267fc"
            ],
            "layout": "IPY_MODEL_e58b44e2b6a84a50a38c7e3a76aeef35"
          }
        },
        "d1c4751fef1d4313bec8c5d3771152e5": {
          "model_module": "@jupyter-widgets/controls",
          "model_name": "HTMLModel",
          "model_module_version": "1.5.0",
          "state": {
            "_dom_classes": [],
            "_model_module": "@jupyter-widgets/controls",
            "_model_module_version": "1.5.0",
            "_model_name": "HTMLModel",
            "_view_count": null,
            "_view_module": "@jupyter-widgets/controls",
            "_view_module_version": "1.5.0",
            "_view_name": "HTMLView",
            "description": "",
            "description_tooltip": null,
            "layout": "IPY_MODEL_79504a38c6214ef891c2abe0e9ee09f4",
            "placeholder": "​",
            "style": "IPY_MODEL_cf66a9c0787d467b86f6ede439cf8e25",
            "value": ""
          }
        },
        "9ea75594ade3429eaba22681f69e83cb": {
          "model_module": "@jupyter-widgets/controls",
          "model_name": "FloatProgressModel",
          "model_module_version": "1.5.0",
          "state": {
            "_dom_classes": [],
            "_model_module": "@jupyter-widgets/controls",
            "_model_module_version": "1.5.0",
            "_model_name": "FloatProgressModel",
            "_view_count": null,
            "_view_module": "@jupyter-widgets/controls",
            "_view_module_version": "1.5.0",
            "_view_name": "ProgressView",
            "bar_style": "success",
            "description": "",
            "description_tooltip": null,
            "layout": "IPY_MODEL_893882c9240145f6bedcdd23833f3c5a",
            "max": 9912422,
            "min": 0,
            "orientation": "horizontal",
            "style": "IPY_MODEL_3728ef2df4d4411792fcfd200995e90f",
            "value": 9912422
          }
        },
        "5d2af19cf5d1455a8d8636d202d267fc": {
          "model_module": "@jupyter-widgets/controls",
          "model_name": "HTMLModel",
          "model_module_version": "1.5.0",
          "state": {
            "_dom_classes": [],
            "_model_module": "@jupyter-widgets/controls",
            "_model_module_version": "1.5.0",
            "_model_name": "HTMLModel",
            "_view_count": null,
            "_view_module": "@jupyter-widgets/controls",
            "_view_module_version": "1.5.0",
            "_view_name": "HTMLView",
            "description": "",
            "description_tooltip": null,
            "layout": "IPY_MODEL_e4083e5f54ba4913a2618e1ba58f0341",
            "placeholder": "​",
            "style": "IPY_MODEL_148dbd7dcabd4251b616765526a01ce2",
            "value": " 9913344/? [00:00&lt;00:00, 25525654.11it/s]"
          }
        },
        "e58b44e2b6a84a50a38c7e3a76aeef35": {
          "model_module": "@jupyter-widgets/base",
          "model_name": "LayoutModel",
          "model_module_version": "1.2.0",
          "state": {
            "_model_module": "@jupyter-widgets/base",
            "_model_module_version": "1.2.0",
            "_model_name": "LayoutModel",
            "_view_count": null,
            "_view_module": "@jupyter-widgets/base",
            "_view_module_version": "1.2.0",
            "_view_name": "LayoutView",
            "align_content": null,
            "align_items": null,
            "align_self": null,
            "border": null,
            "bottom": null,
            "display": null,
            "flex": null,
            "flex_flow": null,
            "grid_area": null,
            "grid_auto_columns": null,
            "grid_auto_flow": null,
            "grid_auto_rows": null,
            "grid_column": null,
            "grid_gap": null,
            "grid_row": null,
            "grid_template_areas": null,
            "grid_template_columns": null,
            "grid_template_rows": null,
            "height": null,
            "justify_content": null,
            "justify_items": null,
            "left": null,
            "margin": null,
            "max_height": null,
            "max_width": null,
            "min_height": null,
            "min_width": null,
            "object_fit": null,
            "object_position": null,
            "order": null,
            "overflow": null,
            "overflow_x": null,
            "overflow_y": null,
            "padding": null,
            "right": null,
            "top": null,
            "visibility": null,
            "width": null
          }
        },
        "79504a38c6214ef891c2abe0e9ee09f4": {
          "model_module": "@jupyter-widgets/base",
          "model_name": "LayoutModel",
          "model_module_version": "1.2.0",
          "state": {
            "_model_module": "@jupyter-widgets/base",
            "_model_module_version": "1.2.0",
            "_model_name": "LayoutModel",
            "_view_count": null,
            "_view_module": "@jupyter-widgets/base",
            "_view_module_version": "1.2.0",
            "_view_name": "LayoutView",
            "align_content": null,
            "align_items": null,
            "align_self": null,
            "border": null,
            "bottom": null,
            "display": null,
            "flex": null,
            "flex_flow": null,
            "grid_area": null,
            "grid_auto_columns": null,
            "grid_auto_flow": null,
            "grid_auto_rows": null,
            "grid_column": null,
            "grid_gap": null,
            "grid_row": null,
            "grid_template_areas": null,
            "grid_template_columns": null,
            "grid_template_rows": null,
            "height": null,
            "justify_content": null,
            "justify_items": null,
            "left": null,
            "margin": null,
            "max_height": null,
            "max_width": null,
            "min_height": null,
            "min_width": null,
            "object_fit": null,
            "object_position": null,
            "order": null,
            "overflow": null,
            "overflow_x": null,
            "overflow_y": null,
            "padding": null,
            "right": null,
            "top": null,
            "visibility": null,
            "width": null
          }
        },
        "cf66a9c0787d467b86f6ede439cf8e25": {
          "model_module": "@jupyter-widgets/controls",
          "model_name": "DescriptionStyleModel",
          "model_module_version": "1.5.0",
          "state": {
            "_model_module": "@jupyter-widgets/controls",
            "_model_module_version": "1.5.0",
            "_model_name": "DescriptionStyleModel",
            "_view_count": null,
            "_view_module": "@jupyter-widgets/base",
            "_view_module_version": "1.2.0",
            "_view_name": "StyleView",
            "description_width": ""
          }
        },
        "893882c9240145f6bedcdd23833f3c5a": {
          "model_module": "@jupyter-widgets/base",
          "model_name": "LayoutModel",
          "model_module_version": "1.2.0",
          "state": {
            "_model_module": "@jupyter-widgets/base",
            "_model_module_version": "1.2.0",
            "_model_name": "LayoutModel",
            "_view_count": null,
            "_view_module": "@jupyter-widgets/base",
            "_view_module_version": "1.2.0",
            "_view_name": "LayoutView",
            "align_content": null,
            "align_items": null,
            "align_self": null,
            "border": null,
            "bottom": null,
            "display": null,
            "flex": null,
            "flex_flow": null,
            "grid_area": null,
            "grid_auto_columns": null,
            "grid_auto_flow": null,
            "grid_auto_rows": null,
            "grid_column": null,
            "grid_gap": null,
            "grid_row": null,
            "grid_template_areas": null,
            "grid_template_columns": null,
            "grid_template_rows": null,
            "height": null,
            "justify_content": null,
            "justify_items": null,
            "left": null,
            "margin": null,
            "max_height": null,
            "max_width": null,
            "min_height": null,
            "min_width": null,
            "object_fit": null,
            "object_position": null,
            "order": null,
            "overflow": null,
            "overflow_x": null,
            "overflow_y": null,
            "padding": null,
            "right": null,
            "top": null,
            "visibility": null,
            "width": null
          }
        },
        "3728ef2df4d4411792fcfd200995e90f": {
          "model_module": "@jupyter-widgets/controls",
          "model_name": "ProgressStyleModel",
          "model_module_version": "1.5.0",
          "state": {
            "_model_module": "@jupyter-widgets/controls",
            "_model_module_version": "1.5.0",
            "_model_name": "ProgressStyleModel",
            "_view_count": null,
            "_view_module": "@jupyter-widgets/base",
            "_view_module_version": "1.2.0",
            "_view_name": "StyleView",
            "bar_color": null,
            "description_width": ""
          }
        },
        "e4083e5f54ba4913a2618e1ba58f0341": {
          "model_module": "@jupyter-widgets/base",
          "model_name": "LayoutModel",
          "model_module_version": "1.2.0",
          "state": {
            "_model_module": "@jupyter-widgets/base",
            "_model_module_version": "1.2.0",
            "_model_name": "LayoutModel",
            "_view_count": null,
            "_view_module": "@jupyter-widgets/base",
            "_view_module_version": "1.2.0",
            "_view_name": "LayoutView",
            "align_content": null,
            "align_items": null,
            "align_self": null,
            "border": null,
            "bottom": null,
            "display": null,
            "flex": null,
            "flex_flow": null,
            "grid_area": null,
            "grid_auto_columns": null,
            "grid_auto_flow": null,
            "grid_auto_rows": null,
            "grid_column": null,
            "grid_gap": null,
            "grid_row": null,
            "grid_template_areas": null,
            "grid_template_columns": null,
            "grid_template_rows": null,
            "height": null,
            "justify_content": null,
            "justify_items": null,
            "left": null,
            "margin": null,
            "max_height": null,
            "max_width": null,
            "min_height": null,
            "min_width": null,
            "object_fit": null,
            "object_position": null,
            "order": null,
            "overflow": null,
            "overflow_x": null,
            "overflow_y": null,
            "padding": null,
            "right": null,
            "top": null,
            "visibility": null,
            "width": null
          }
        },
        "148dbd7dcabd4251b616765526a01ce2": {
          "model_module": "@jupyter-widgets/controls",
          "model_name": "DescriptionStyleModel",
          "model_module_version": "1.5.0",
          "state": {
            "_model_module": "@jupyter-widgets/controls",
            "_model_module_version": "1.5.0",
            "_model_name": "DescriptionStyleModel",
            "_view_count": null,
            "_view_module": "@jupyter-widgets/base",
            "_view_module_version": "1.2.0",
            "_view_name": "StyleView",
            "description_width": ""
          }
        },
        "d06a350c89034c139a23d522f2c5d6b8": {
          "model_module": "@jupyter-widgets/controls",
          "model_name": "HBoxModel",
          "model_module_version": "1.5.0",
          "state": {
            "_dom_classes": [],
            "_model_module": "@jupyter-widgets/controls",
            "_model_module_version": "1.5.0",
            "_model_name": "HBoxModel",
            "_view_count": null,
            "_view_module": "@jupyter-widgets/controls",
            "_view_module_version": "1.5.0",
            "_view_name": "HBoxView",
            "box_style": "",
            "children": [
              "IPY_MODEL_bd72759d961b4565a680f7e969caf239",
              "IPY_MODEL_f9e09bd90e8145178b6eaf73f9835e4a",
              "IPY_MODEL_f19074b610da4e298e99ad9e4ba02174"
            ],
            "layout": "IPY_MODEL_48d5a5e2f6244a568eff7006ee9ae8a1"
          }
        },
        "bd72759d961b4565a680f7e969caf239": {
          "model_module": "@jupyter-widgets/controls",
          "model_name": "HTMLModel",
          "model_module_version": "1.5.0",
          "state": {
            "_dom_classes": [],
            "_model_module": "@jupyter-widgets/controls",
            "_model_module_version": "1.5.0",
            "_model_name": "HTMLModel",
            "_view_count": null,
            "_view_module": "@jupyter-widgets/controls",
            "_view_module_version": "1.5.0",
            "_view_name": "HTMLView",
            "description": "",
            "description_tooltip": null,
            "layout": "IPY_MODEL_2bac3bb9c179460f86688b128842a964",
            "placeholder": "​",
            "style": "IPY_MODEL_72fd37b357a240ef892cc33a19185400",
            "value": ""
          }
        },
        "f9e09bd90e8145178b6eaf73f9835e4a": {
          "model_module": "@jupyter-widgets/controls",
          "model_name": "FloatProgressModel",
          "model_module_version": "1.5.0",
          "state": {
            "_dom_classes": [],
            "_model_module": "@jupyter-widgets/controls",
            "_model_module_version": "1.5.0",
            "_model_name": "FloatProgressModel",
            "_view_count": null,
            "_view_module": "@jupyter-widgets/controls",
            "_view_module_version": "1.5.0",
            "_view_name": "ProgressView",
            "bar_style": "success",
            "description": "",
            "description_tooltip": null,
            "layout": "IPY_MODEL_74364e9c1fda4174b889c172b5692674",
            "max": 28881,
            "min": 0,
            "orientation": "horizontal",
            "style": "IPY_MODEL_54ec1749c64741b7b0bc043d875016de",
            "value": 28881
          }
        },
        "f19074b610da4e298e99ad9e4ba02174": {
          "model_module": "@jupyter-widgets/controls",
          "model_name": "HTMLModel",
          "model_module_version": "1.5.0",
          "state": {
            "_dom_classes": [],
            "_model_module": "@jupyter-widgets/controls",
            "_model_module_version": "1.5.0",
            "_model_name": "HTMLModel",
            "_view_count": null,
            "_view_module": "@jupyter-widgets/controls",
            "_view_module_version": "1.5.0",
            "_view_name": "HTMLView",
            "description": "",
            "description_tooltip": null,
            "layout": "IPY_MODEL_63f1046d5641498e8560797d11da0a34",
            "placeholder": "​",
            "style": "IPY_MODEL_ee9a128a4eeb451287ffc85e0eb1dc2d",
            "value": " 29696/? [00:00&lt;00:00, 612643.26it/s]"
          }
        },
        "48d5a5e2f6244a568eff7006ee9ae8a1": {
          "model_module": "@jupyter-widgets/base",
          "model_name": "LayoutModel",
          "model_module_version": "1.2.0",
          "state": {
            "_model_module": "@jupyter-widgets/base",
            "_model_module_version": "1.2.0",
            "_model_name": "LayoutModel",
            "_view_count": null,
            "_view_module": "@jupyter-widgets/base",
            "_view_module_version": "1.2.0",
            "_view_name": "LayoutView",
            "align_content": null,
            "align_items": null,
            "align_self": null,
            "border": null,
            "bottom": null,
            "display": null,
            "flex": null,
            "flex_flow": null,
            "grid_area": null,
            "grid_auto_columns": null,
            "grid_auto_flow": null,
            "grid_auto_rows": null,
            "grid_column": null,
            "grid_gap": null,
            "grid_row": null,
            "grid_template_areas": null,
            "grid_template_columns": null,
            "grid_template_rows": null,
            "height": null,
            "justify_content": null,
            "justify_items": null,
            "left": null,
            "margin": null,
            "max_height": null,
            "max_width": null,
            "min_height": null,
            "min_width": null,
            "object_fit": null,
            "object_position": null,
            "order": null,
            "overflow": null,
            "overflow_x": null,
            "overflow_y": null,
            "padding": null,
            "right": null,
            "top": null,
            "visibility": null,
            "width": null
          }
        },
        "2bac3bb9c179460f86688b128842a964": {
          "model_module": "@jupyter-widgets/base",
          "model_name": "LayoutModel",
          "model_module_version": "1.2.0",
          "state": {
            "_model_module": "@jupyter-widgets/base",
            "_model_module_version": "1.2.0",
            "_model_name": "LayoutModel",
            "_view_count": null,
            "_view_module": "@jupyter-widgets/base",
            "_view_module_version": "1.2.0",
            "_view_name": "LayoutView",
            "align_content": null,
            "align_items": null,
            "align_self": null,
            "border": null,
            "bottom": null,
            "display": null,
            "flex": null,
            "flex_flow": null,
            "grid_area": null,
            "grid_auto_columns": null,
            "grid_auto_flow": null,
            "grid_auto_rows": null,
            "grid_column": null,
            "grid_gap": null,
            "grid_row": null,
            "grid_template_areas": null,
            "grid_template_columns": null,
            "grid_template_rows": null,
            "height": null,
            "justify_content": null,
            "justify_items": null,
            "left": null,
            "margin": null,
            "max_height": null,
            "max_width": null,
            "min_height": null,
            "min_width": null,
            "object_fit": null,
            "object_position": null,
            "order": null,
            "overflow": null,
            "overflow_x": null,
            "overflow_y": null,
            "padding": null,
            "right": null,
            "top": null,
            "visibility": null,
            "width": null
          }
        },
        "72fd37b357a240ef892cc33a19185400": {
          "model_module": "@jupyter-widgets/controls",
          "model_name": "DescriptionStyleModel",
          "model_module_version": "1.5.0",
          "state": {
            "_model_module": "@jupyter-widgets/controls",
            "_model_module_version": "1.5.0",
            "_model_name": "DescriptionStyleModel",
            "_view_count": null,
            "_view_module": "@jupyter-widgets/base",
            "_view_module_version": "1.2.0",
            "_view_name": "StyleView",
            "description_width": ""
          }
        },
        "74364e9c1fda4174b889c172b5692674": {
          "model_module": "@jupyter-widgets/base",
          "model_name": "LayoutModel",
          "model_module_version": "1.2.0",
          "state": {
            "_model_module": "@jupyter-widgets/base",
            "_model_module_version": "1.2.0",
            "_model_name": "LayoutModel",
            "_view_count": null,
            "_view_module": "@jupyter-widgets/base",
            "_view_module_version": "1.2.0",
            "_view_name": "LayoutView",
            "align_content": null,
            "align_items": null,
            "align_self": null,
            "border": null,
            "bottom": null,
            "display": null,
            "flex": null,
            "flex_flow": null,
            "grid_area": null,
            "grid_auto_columns": null,
            "grid_auto_flow": null,
            "grid_auto_rows": null,
            "grid_column": null,
            "grid_gap": null,
            "grid_row": null,
            "grid_template_areas": null,
            "grid_template_columns": null,
            "grid_template_rows": null,
            "height": null,
            "justify_content": null,
            "justify_items": null,
            "left": null,
            "margin": null,
            "max_height": null,
            "max_width": null,
            "min_height": null,
            "min_width": null,
            "object_fit": null,
            "object_position": null,
            "order": null,
            "overflow": null,
            "overflow_x": null,
            "overflow_y": null,
            "padding": null,
            "right": null,
            "top": null,
            "visibility": null,
            "width": null
          }
        },
        "54ec1749c64741b7b0bc043d875016de": {
          "model_module": "@jupyter-widgets/controls",
          "model_name": "ProgressStyleModel",
          "model_module_version": "1.5.0",
          "state": {
            "_model_module": "@jupyter-widgets/controls",
            "_model_module_version": "1.5.0",
            "_model_name": "ProgressStyleModel",
            "_view_count": null,
            "_view_module": "@jupyter-widgets/base",
            "_view_module_version": "1.2.0",
            "_view_name": "StyleView",
            "bar_color": null,
            "description_width": ""
          }
        },
        "63f1046d5641498e8560797d11da0a34": {
          "model_module": "@jupyter-widgets/base",
          "model_name": "LayoutModel",
          "model_module_version": "1.2.0",
          "state": {
            "_model_module": "@jupyter-widgets/base",
            "_model_module_version": "1.2.0",
            "_model_name": "LayoutModel",
            "_view_count": null,
            "_view_module": "@jupyter-widgets/base",
            "_view_module_version": "1.2.0",
            "_view_name": "LayoutView",
            "align_content": null,
            "align_items": null,
            "align_self": null,
            "border": null,
            "bottom": null,
            "display": null,
            "flex": null,
            "flex_flow": null,
            "grid_area": null,
            "grid_auto_columns": null,
            "grid_auto_flow": null,
            "grid_auto_rows": null,
            "grid_column": null,
            "grid_gap": null,
            "grid_row": null,
            "grid_template_areas": null,
            "grid_template_columns": null,
            "grid_template_rows": null,
            "height": null,
            "justify_content": null,
            "justify_items": null,
            "left": null,
            "margin": null,
            "max_height": null,
            "max_width": null,
            "min_height": null,
            "min_width": null,
            "object_fit": null,
            "object_position": null,
            "order": null,
            "overflow": null,
            "overflow_x": null,
            "overflow_y": null,
            "padding": null,
            "right": null,
            "top": null,
            "visibility": null,
            "width": null
          }
        },
        "ee9a128a4eeb451287ffc85e0eb1dc2d": {
          "model_module": "@jupyter-widgets/controls",
          "model_name": "DescriptionStyleModel",
          "model_module_version": "1.5.0",
          "state": {
            "_model_module": "@jupyter-widgets/controls",
            "_model_module_version": "1.5.0",
            "_model_name": "DescriptionStyleModel",
            "_view_count": null,
            "_view_module": "@jupyter-widgets/base",
            "_view_module_version": "1.2.0",
            "_view_name": "StyleView",
            "description_width": ""
          }
        },
        "df45628fa7fd4cd0b31fc07abc632760": {
          "model_module": "@jupyter-widgets/controls",
          "model_name": "HBoxModel",
          "model_module_version": "1.5.0",
          "state": {
            "_dom_classes": [],
            "_model_module": "@jupyter-widgets/controls",
            "_model_module_version": "1.5.0",
            "_model_name": "HBoxModel",
            "_view_count": null,
            "_view_module": "@jupyter-widgets/controls",
            "_view_module_version": "1.5.0",
            "_view_name": "HBoxView",
            "box_style": "",
            "children": [
              "IPY_MODEL_7f18501493a643c3bc7117dc0cc25105",
              "IPY_MODEL_24adc82128b04fbd879d35520e5f24eb",
              "IPY_MODEL_dc493f2fa7694f03bd730400a7e77143"
            ],
            "layout": "IPY_MODEL_b33e8f5cd8ac4140b60cd9b12169bc73"
          }
        },
        "7f18501493a643c3bc7117dc0cc25105": {
          "model_module": "@jupyter-widgets/controls",
          "model_name": "HTMLModel",
          "model_module_version": "1.5.0",
          "state": {
            "_dom_classes": [],
            "_model_module": "@jupyter-widgets/controls",
            "_model_module_version": "1.5.0",
            "_model_name": "HTMLModel",
            "_view_count": null,
            "_view_module": "@jupyter-widgets/controls",
            "_view_module_version": "1.5.0",
            "_view_name": "HTMLView",
            "description": "",
            "description_tooltip": null,
            "layout": "IPY_MODEL_da204e8bb55044b7903ece4c799cb681",
            "placeholder": "​",
            "style": "IPY_MODEL_fd7a2ae51809423bba6c83b104040cff",
            "value": ""
          }
        },
        "24adc82128b04fbd879d35520e5f24eb": {
          "model_module": "@jupyter-widgets/controls",
          "model_name": "FloatProgressModel",
          "model_module_version": "1.5.0",
          "state": {
            "_dom_classes": [],
            "_model_module": "@jupyter-widgets/controls",
            "_model_module_version": "1.5.0",
            "_model_name": "FloatProgressModel",
            "_view_count": null,
            "_view_module": "@jupyter-widgets/controls",
            "_view_module_version": "1.5.0",
            "_view_name": "ProgressView",
            "bar_style": "success",
            "description": "",
            "description_tooltip": null,
            "layout": "IPY_MODEL_c1370e9e06ca4bb890ece41f36c01d39",
            "max": 1648877,
            "min": 0,
            "orientation": "horizontal",
            "style": "IPY_MODEL_2e3cf01cd3f54943bd40885788a6788b",
            "value": 1648877
          }
        },
        "dc493f2fa7694f03bd730400a7e77143": {
          "model_module": "@jupyter-widgets/controls",
          "model_name": "HTMLModel",
          "model_module_version": "1.5.0",
          "state": {
            "_dom_classes": [],
            "_model_module": "@jupyter-widgets/controls",
            "_model_module_version": "1.5.0",
            "_model_name": "HTMLModel",
            "_view_count": null,
            "_view_module": "@jupyter-widgets/controls",
            "_view_module_version": "1.5.0",
            "_view_name": "HTMLView",
            "description": "",
            "description_tooltip": null,
            "layout": "IPY_MODEL_b75badd62c444cab9b2a055c36a19a21",
            "placeholder": "​",
            "style": "IPY_MODEL_676ac6ae9db2431ebbeeab3371e41bb2",
            "value": " 1649664/? [00:00&lt;00:00, 14642899.76it/s]"
          }
        },
        "b33e8f5cd8ac4140b60cd9b12169bc73": {
          "model_module": "@jupyter-widgets/base",
          "model_name": "LayoutModel",
          "model_module_version": "1.2.0",
          "state": {
            "_model_module": "@jupyter-widgets/base",
            "_model_module_version": "1.2.0",
            "_model_name": "LayoutModel",
            "_view_count": null,
            "_view_module": "@jupyter-widgets/base",
            "_view_module_version": "1.2.0",
            "_view_name": "LayoutView",
            "align_content": null,
            "align_items": null,
            "align_self": null,
            "border": null,
            "bottom": null,
            "display": null,
            "flex": null,
            "flex_flow": null,
            "grid_area": null,
            "grid_auto_columns": null,
            "grid_auto_flow": null,
            "grid_auto_rows": null,
            "grid_column": null,
            "grid_gap": null,
            "grid_row": null,
            "grid_template_areas": null,
            "grid_template_columns": null,
            "grid_template_rows": null,
            "height": null,
            "justify_content": null,
            "justify_items": null,
            "left": null,
            "margin": null,
            "max_height": null,
            "max_width": null,
            "min_height": null,
            "min_width": null,
            "object_fit": null,
            "object_position": null,
            "order": null,
            "overflow": null,
            "overflow_x": null,
            "overflow_y": null,
            "padding": null,
            "right": null,
            "top": null,
            "visibility": null,
            "width": null
          }
        },
        "da204e8bb55044b7903ece4c799cb681": {
          "model_module": "@jupyter-widgets/base",
          "model_name": "LayoutModel",
          "model_module_version": "1.2.0",
          "state": {
            "_model_module": "@jupyter-widgets/base",
            "_model_module_version": "1.2.0",
            "_model_name": "LayoutModel",
            "_view_count": null,
            "_view_module": "@jupyter-widgets/base",
            "_view_module_version": "1.2.0",
            "_view_name": "LayoutView",
            "align_content": null,
            "align_items": null,
            "align_self": null,
            "border": null,
            "bottom": null,
            "display": null,
            "flex": null,
            "flex_flow": null,
            "grid_area": null,
            "grid_auto_columns": null,
            "grid_auto_flow": null,
            "grid_auto_rows": null,
            "grid_column": null,
            "grid_gap": null,
            "grid_row": null,
            "grid_template_areas": null,
            "grid_template_columns": null,
            "grid_template_rows": null,
            "height": null,
            "justify_content": null,
            "justify_items": null,
            "left": null,
            "margin": null,
            "max_height": null,
            "max_width": null,
            "min_height": null,
            "min_width": null,
            "object_fit": null,
            "object_position": null,
            "order": null,
            "overflow": null,
            "overflow_x": null,
            "overflow_y": null,
            "padding": null,
            "right": null,
            "top": null,
            "visibility": null,
            "width": null
          }
        },
        "fd7a2ae51809423bba6c83b104040cff": {
          "model_module": "@jupyter-widgets/controls",
          "model_name": "DescriptionStyleModel",
          "model_module_version": "1.5.0",
          "state": {
            "_model_module": "@jupyter-widgets/controls",
            "_model_module_version": "1.5.0",
            "_model_name": "DescriptionStyleModel",
            "_view_count": null,
            "_view_module": "@jupyter-widgets/base",
            "_view_module_version": "1.2.0",
            "_view_name": "StyleView",
            "description_width": ""
          }
        },
        "c1370e9e06ca4bb890ece41f36c01d39": {
          "model_module": "@jupyter-widgets/base",
          "model_name": "LayoutModel",
          "model_module_version": "1.2.0",
          "state": {
            "_model_module": "@jupyter-widgets/base",
            "_model_module_version": "1.2.0",
            "_model_name": "LayoutModel",
            "_view_count": null,
            "_view_module": "@jupyter-widgets/base",
            "_view_module_version": "1.2.0",
            "_view_name": "LayoutView",
            "align_content": null,
            "align_items": null,
            "align_self": null,
            "border": null,
            "bottom": null,
            "display": null,
            "flex": null,
            "flex_flow": null,
            "grid_area": null,
            "grid_auto_columns": null,
            "grid_auto_flow": null,
            "grid_auto_rows": null,
            "grid_column": null,
            "grid_gap": null,
            "grid_row": null,
            "grid_template_areas": null,
            "grid_template_columns": null,
            "grid_template_rows": null,
            "height": null,
            "justify_content": null,
            "justify_items": null,
            "left": null,
            "margin": null,
            "max_height": null,
            "max_width": null,
            "min_height": null,
            "min_width": null,
            "object_fit": null,
            "object_position": null,
            "order": null,
            "overflow": null,
            "overflow_x": null,
            "overflow_y": null,
            "padding": null,
            "right": null,
            "top": null,
            "visibility": null,
            "width": null
          }
        },
        "2e3cf01cd3f54943bd40885788a6788b": {
          "model_module": "@jupyter-widgets/controls",
          "model_name": "ProgressStyleModel",
          "model_module_version": "1.5.0",
          "state": {
            "_model_module": "@jupyter-widgets/controls",
            "_model_module_version": "1.5.0",
            "_model_name": "ProgressStyleModel",
            "_view_count": null,
            "_view_module": "@jupyter-widgets/base",
            "_view_module_version": "1.2.0",
            "_view_name": "StyleView",
            "bar_color": null,
            "description_width": ""
          }
        },
        "b75badd62c444cab9b2a055c36a19a21": {
          "model_module": "@jupyter-widgets/base",
          "model_name": "LayoutModel",
          "model_module_version": "1.2.0",
          "state": {
            "_model_module": "@jupyter-widgets/base",
            "_model_module_version": "1.2.0",
            "_model_name": "LayoutModel",
            "_view_count": null,
            "_view_module": "@jupyter-widgets/base",
            "_view_module_version": "1.2.0",
            "_view_name": "LayoutView",
            "align_content": null,
            "align_items": null,
            "align_self": null,
            "border": null,
            "bottom": null,
            "display": null,
            "flex": null,
            "flex_flow": null,
            "grid_area": null,
            "grid_auto_columns": null,
            "grid_auto_flow": null,
            "grid_auto_rows": null,
            "grid_column": null,
            "grid_gap": null,
            "grid_row": null,
            "grid_template_areas": null,
            "grid_template_columns": null,
            "grid_template_rows": null,
            "height": null,
            "justify_content": null,
            "justify_items": null,
            "left": null,
            "margin": null,
            "max_height": null,
            "max_width": null,
            "min_height": null,
            "min_width": null,
            "object_fit": null,
            "object_position": null,
            "order": null,
            "overflow": null,
            "overflow_x": null,
            "overflow_y": null,
            "padding": null,
            "right": null,
            "top": null,
            "visibility": null,
            "width": null
          }
        },
        "676ac6ae9db2431ebbeeab3371e41bb2": {
          "model_module": "@jupyter-widgets/controls",
          "model_name": "DescriptionStyleModel",
          "model_module_version": "1.5.0",
          "state": {
            "_model_module": "@jupyter-widgets/controls",
            "_model_module_version": "1.5.0",
            "_model_name": "DescriptionStyleModel",
            "_view_count": null,
            "_view_module": "@jupyter-widgets/base",
            "_view_module_version": "1.2.0",
            "_view_name": "StyleView",
            "description_width": ""
          }
        },
        "a04c38a0afb6491c9deac108c21c14c1": {
          "model_module": "@jupyter-widgets/controls",
          "model_name": "HBoxModel",
          "model_module_version": "1.5.0",
          "state": {
            "_dom_classes": [],
            "_model_module": "@jupyter-widgets/controls",
            "_model_module_version": "1.5.0",
            "_model_name": "HBoxModel",
            "_view_count": null,
            "_view_module": "@jupyter-widgets/controls",
            "_view_module_version": "1.5.0",
            "_view_name": "HBoxView",
            "box_style": "",
            "children": [
              "IPY_MODEL_95e8e13a8ece4614a4e3d90a123f7fe7",
              "IPY_MODEL_ba441bbac5134549ab7061d849f4033a",
              "IPY_MODEL_8238a302e2114978809d515d13329514"
            ],
            "layout": "IPY_MODEL_35ceed3f7d2d47fca26763d4d438f8e1"
          }
        },
        "95e8e13a8ece4614a4e3d90a123f7fe7": {
          "model_module": "@jupyter-widgets/controls",
          "model_name": "HTMLModel",
          "model_module_version": "1.5.0",
          "state": {
            "_dom_classes": [],
            "_model_module": "@jupyter-widgets/controls",
            "_model_module_version": "1.5.0",
            "_model_name": "HTMLModel",
            "_view_count": null,
            "_view_module": "@jupyter-widgets/controls",
            "_view_module_version": "1.5.0",
            "_view_name": "HTMLView",
            "description": "",
            "description_tooltip": null,
            "layout": "IPY_MODEL_20d02ecc08ee4277899ea8f3d50feaa9",
            "placeholder": "​",
            "style": "IPY_MODEL_1e9ae581168546b497493fe03f438d05",
            "value": ""
          }
        },
        "ba441bbac5134549ab7061d849f4033a": {
          "model_module": "@jupyter-widgets/controls",
          "model_name": "FloatProgressModel",
          "model_module_version": "1.5.0",
          "state": {
            "_dom_classes": [],
            "_model_module": "@jupyter-widgets/controls",
            "_model_module_version": "1.5.0",
            "_model_name": "FloatProgressModel",
            "_view_count": null,
            "_view_module": "@jupyter-widgets/controls",
            "_view_module_version": "1.5.0",
            "_view_name": "ProgressView",
            "bar_style": "success",
            "description": "",
            "description_tooltip": null,
            "layout": "IPY_MODEL_43bc64e2c1ac47248d007dcb5375c39d",
            "max": 4542,
            "min": 0,
            "orientation": "horizontal",
            "style": "IPY_MODEL_7574a32f8a63469786ffcc9b182f991e",
            "value": 4542
          }
        },
        "8238a302e2114978809d515d13329514": {
          "model_module": "@jupyter-widgets/controls",
          "model_name": "HTMLModel",
          "model_module_version": "1.5.0",
          "state": {
            "_dom_classes": [],
            "_model_module": "@jupyter-widgets/controls",
            "_model_module_version": "1.5.0",
            "_model_name": "HTMLModel",
            "_view_count": null,
            "_view_module": "@jupyter-widgets/controls",
            "_view_module_version": "1.5.0",
            "_view_name": "HTMLView",
            "description": "",
            "description_tooltip": null,
            "layout": "IPY_MODEL_ca58e12bb9d74884a2e89ef9a653540b",
            "placeholder": "​",
            "style": "IPY_MODEL_e34df7b7984b4e04a69594baad3664ae",
            "value": " 5120/? [00:00&lt;00:00, 119700.99it/s]"
          }
        },
        "35ceed3f7d2d47fca26763d4d438f8e1": {
          "model_module": "@jupyter-widgets/base",
          "model_name": "LayoutModel",
          "model_module_version": "1.2.0",
          "state": {
            "_model_module": "@jupyter-widgets/base",
            "_model_module_version": "1.2.0",
            "_model_name": "LayoutModel",
            "_view_count": null,
            "_view_module": "@jupyter-widgets/base",
            "_view_module_version": "1.2.0",
            "_view_name": "LayoutView",
            "align_content": null,
            "align_items": null,
            "align_self": null,
            "border": null,
            "bottom": null,
            "display": null,
            "flex": null,
            "flex_flow": null,
            "grid_area": null,
            "grid_auto_columns": null,
            "grid_auto_flow": null,
            "grid_auto_rows": null,
            "grid_column": null,
            "grid_gap": null,
            "grid_row": null,
            "grid_template_areas": null,
            "grid_template_columns": null,
            "grid_template_rows": null,
            "height": null,
            "justify_content": null,
            "justify_items": null,
            "left": null,
            "margin": null,
            "max_height": null,
            "max_width": null,
            "min_height": null,
            "min_width": null,
            "object_fit": null,
            "object_position": null,
            "order": null,
            "overflow": null,
            "overflow_x": null,
            "overflow_y": null,
            "padding": null,
            "right": null,
            "top": null,
            "visibility": null,
            "width": null
          }
        },
        "20d02ecc08ee4277899ea8f3d50feaa9": {
          "model_module": "@jupyter-widgets/base",
          "model_name": "LayoutModel",
          "model_module_version": "1.2.0",
          "state": {
            "_model_module": "@jupyter-widgets/base",
            "_model_module_version": "1.2.0",
            "_model_name": "LayoutModel",
            "_view_count": null,
            "_view_module": "@jupyter-widgets/base",
            "_view_module_version": "1.2.0",
            "_view_name": "LayoutView",
            "align_content": null,
            "align_items": null,
            "align_self": null,
            "border": null,
            "bottom": null,
            "display": null,
            "flex": null,
            "flex_flow": null,
            "grid_area": null,
            "grid_auto_columns": null,
            "grid_auto_flow": null,
            "grid_auto_rows": null,
            "grid_column": null,
            "grid_gap": null,
            "grid_row": null,
            "grid_template_areas": null,
            "grid_template_columns": null,
            "grid_template_rows": null,
            "height": null,
            "justify_content": null,
            "justify_items": null,
            "left": null,
            "margin": null,
            "max_height": null,
            "max_width": null,
            "min_height": null,
            "min_width": null,
            "object_fit": null,
            "object_position": null,
            "order": null,
            "overflow": null,
            "overflow_x": null,
            "overflow_y": null,
            "padding": null,
            "right": null,
            "top": null,
            "visibility": null,
            "width": null
          }
        },
        "1e9ae581168546b497493fe03f438d05": {
          "model_module": "@jupyter-widgets/controls",
          "model_name": "DescriptionStyleModel",
          "model_module_version": "1.5.0",
          "state": {
            "_model_module": "@jupyter-widgets/controls",
            "_model_module_version": "1.5.0",
            "_model_name": "DescriptionStyleModel",
            "_view_count": null,
            "_view_module": "@jupyter-widgets/base",
            "_view_module_version": "1.2.0",
            "_view_name": "StyleView",
            "description_width": ""
          }
        },
        "43bc64e2c1ac47248d007dcb5375c39d": {
          "model_module": "@jupyter-widgets/base",
          "model_name": "LayoutModel",
          "model_module_version": "1.2.0",
          "state": {
            "_model_module": "@jupyter-widgets/base",
            "_model_module_version": "1.2.0",
            "_model_name": "LayoutModel",
            "_view_count": null,
            "_view_module": "@jupyter-widgets/base",
            "_view_module_version": "1.2.0",
            "_view_name": "LayoutView",
            "align_content": null,
            "align_items": null,
            "align_self": null,
            "border": null,
            "bottom": null,
            "display": null,
            "flex": null,
            "flex_flow": null,
            "grid_area": null,
            "grid_auto_columns": null,
            "grid_auto_flow": null,
            "grid_auto_rows": null,
            "grid_column": null,
            "grid_gap": null,
            "grid_row": null,
            "grid_template_areas": null,
            "grid_template_columns": null,
            "grid_template_rows": null,
            "height": null,
            "justify_content": null,
            "justify_items": null,
            "left": null,
            "margin": null,
            "max_height": null,
            "max_width": null,
            "min_height": null,
            "min_width": null,
            "object_fit": null,
            "object_position": null,
            "order": null,
            "overflow": null,
            "overflow_x": null,
            "overflow_y": null,
            "padding": null,
            "right": null,
            "top": null,
            "visibility": null,
            "width": null
          }
        },
        "7574a32f8a63469786ffcc9b182f991e": {
          "model_module": "@jupyter-widgets/controls",
          "model_name": "ProgressStyleModel",
          "model_module_version": "1.5.0",
          "state": {
            "_model_module": "@jupyter-widgets/controls",
            "_model_module_version": "1.5.0",
            "_model_name": "ProgressStyleModel",
            "_view_count": null,
            "_view_module": "@jupyter-widgets/base",
            "_view_module_version": "1.2.0",
            "_view_name": "StyleView",
            "bar_color": null,
            "description_width": ""
          }
        },
        "ca58e12bb9d74884a2e89ef9a653540b": {
          "model_module": "@jupyter-widgets/base",
          "model_name": "LayoutModel",
          "model_module_version": "1.2.0",
          "state": {
            "_model_module": "@jupyter-widgets/base",
            "_model_module_version": "1.2.0",
            "_model_name": "LayoutModel",
            "_view_count": null,
            "_view_module": "@jupyter-widgets/base",
            "_view_module_version": "1.2.0",
            "_view_name": "LayoutView",
            "align_content": null,
            "align_items": null,
            "align_self": null,
            "border": null,
            "bottom": null,
            "display": null,
            "flex": null,
            "flex_flow": null,
            "grid_area": null,
            "grid_auto_columns": null,
            "grid_auto_flow": null,
            "grid_auto_rows": null,
            "grid_column": null,
            "grid_gap": null,
            "grid_row": null,
            "grid_template_areas": null,
            "grid_template_columns": null,
            "grid_template_rows": null,
            "height": null,
            "justify_content": null,
            "justify_items": null,
            "left": null,
            "margin": null,
            "max_height": null,
            "max_width": null,
            "min_height": null,
            "min_width": null,
            "object_fit": null,
            "object_position": null,
            "order": null,
            "overflow": null,
            "overflow_x": null,
            "overflow_y": null,
            "padding": null,
            "right": null,
            "top": null,
            "visibility": null,
            "width": null
          }
        },
        "e34df7b7984b4e04a69594baad3664ae": {
          "model_module": "@jupyter-widgets/controls",
          "model_name": "DescriptionStyleModel",
          "model_module_version": "1.5.0",
          "state": {
            "_model_module": "@jupyter-widgets/controls",
            "_model_module_version": "1.5.0",
            "_model_name": "DescriptionStyleModel",
            "_view_count": null,
            "_view_module": "@jupyter-widgets/base",
            "_view_module_version": "1.2.0",
            "_view_name": "StyleView",
            "description_width": ""
          }
        }
      }
    }
  },
  "cells": [
    {
      "cell_type": "code",
      "source": [
        "#@title License\n",
        "# Copyright 2018 Google LLC\n",
        "#\n",
        "# Licensed under the Apache License, Version 2.0 (the \"License\");\n",
        "# you may not use this file except in compliance with the License.\n",
        "# You may obtain a copy of the License at\n",
        "#\n",
        "#     https://www.apache.org/licenses/LICENSE-2.0\n",
        "#\n",
        "# Unless required by applicable law or agreed to in writing, software\n",
        "# distributed under the License is distributed on an \"AS IS\" BASIS,\n",
        "# WITHOUT WARRANTIES OR CONDITIONS OF ANY KIND, either express or implied.\n",
        "# See the License for the specific language governing permissions and\n",
        "# limitations under the License.\n",
        "\n",
        "\"\"\"A basic MNIST example using JAX with the mini-libraries stax and optimizers.\n",
        "\n",
        "The mini-library jax.example_libraries.stax is for neural network building, and\n",
        "the mini-library jax.example_libraries.optimizers is for first-order stochastic\n",
        "optimization.\n",
        "\"\"\""
      ],
      "metadata": {
        "id": "UgFcqL9zzuh6"
      },
      "execution_count": null,
      "outputs": []
    },
    {
      "cell_type": "code",
      "source": [
        "#@title Imports\n",
        "import time\n",
        "import itertools\n",
        "\n",
        "import jax.numpy as jnp\n",
        "from jax import grad, jit, vmap\n",
        "from jax import random\n",
        "\n",
        "import matplotlib.pyplot as plt\n",
        "import pandas as pd\n",
        "import seaborn as sns\n",
        "\n",
        "from google.colab import files\n",
        "import time\n",
        "\n",
        "!pip install alive_progress\n",
        "from alive_progress import alive_bar"
      ],
      "metadata": {
        "id": "uutSDVLuzxQw",
        "cellView": "form"
      },
      "execution_count": null,
      "outputs": []
    },
    {
      "cell_type": "markdown",
      "metadata": {
        "id": "MTVcKi-ZYB3R"
      },
      "source": [
        "## Hyperparameters\n",
        "Let's get a few bookkeeping items out of the way."
      ]
    },
    {
      "cell_type": "code",
      "execution_count": null,
      "metadata": {
        "id": "-fmWA06xYE7d"
      },
      "outputs": [],
      "source": [
        "# A helper function to randomly initialize weights and biases\n",
        "# for a dense neural network layer\n",
        "def random_layer_params(m, n, key, scale=1e-2):\n",
        "  w_key, b_key = random.split(key)\n",
        "  return scale * random.normal(w_key, (n, m)), scale * random.normal(b_key, (n,))\n",
        "\n",
        "# Initialize all layers for a fully-connected neural network with sizes \"sizes\"\n",
        "def init_network_params(sizes, key):\n",
        "  keys = random.split(key, len(sizes))\n",
        "  return [random_layer_params(m, n, k) for m, n, k in zip(sizes[:-1], sizes[1:], keys)]"
      ]
    },
    {
      "cell_type": "markdown",
      "metadata": {
        "id": "BtoNk_yxWtIw"
      },
      "source": [
        "## Auto-batching predictions\n",
        "\n",
        "Let us first define our prediction function. Note that we're defining this for a _single_ image example. We're going to use JAX's `vmap` function to automatically handle mini-batches, with no performance penalty."
      ]
    },
    {
      "cell_type": "code",
      "source": [
        "nonlinearity = \"relu\""
      ],
      "metadata": {
        "id": "nNfFdMT5Ejlj"
      },
      "execution_count": null,
      "outputs": []
    },
    {
      "cell_type": "code",
      "execution_count": null,
      "metadata": {
        "id": "7APc6tD7TiuZ"
      },
      "outputs": [],
      "source": [
        "from jax.scipy.special import logsumexp\n",
        "from jax.nn import sigmoid\n",
        "\n",
        "def relu(x):\n",
        "  return jnp.maximum(0, x)\n",
        "\n",
        "def predict(params, image):\n",
        "  # per-example predictions\n",
        "  activations = image\n",
        "  for w, b in params[:-1]:\n",
        "    outputs = jnp.dot(w, activations) + b\n",
        "    if nonlinearity == 'relu':\n",
        "      activations = relu(outputs)\n",
        "    elif nonlinearity == \"sigmoid\":\n",
        "      activations = sigmoid(outputs)\n",
        "    else:\n",
        "      raise ValueError(f'{nonlinearity} not supported')\n",
        "  \n",
        "  final_w, final_b = params[-1]\n",
        "  logits = jnp.dot(final_w, activations) + final_b\n",
        "  return logits - logsumexp(logits)"
      ]
    },
    {
      "cell_type": "markdown",
      "metadata": {
        "id": "dRW_TvCTWgaP"
      },
      "source": [
        "Let's check that our prediction function only works on single images."
      ]
    },
    {
      "cell_type": "code",
      "source": [
        "layer_sizes = [784, 512, 512, 10]\n",
        "# layer_sizes = [784, 24, 24, 10]\n",
        "step_size = 0.1\n",
        "batch_size = 128\n",
        "n_targets = 10\n",
        "params = init_network_params(layer_sizes, random.PRNGKey(0))"
      ],
      "metadata": {
        "colab": {
          "base_uri": "https://localhost:8080/"
        },
        "id": "-juK_aSoY7zR",
        "outputId": "6bc7ab08-e955-4728-9600-62c26f745407"
      },
      "execution_count": 6,
      "outputs": [
        {
          "output_type": "stream",
          "name": "stderr",
          "text": [
            "WARNING:absl:No GPU/TPU found, falling back to CPU. (Set TF_CPP_MIN_LOG_LEVEL=0 and rerun for more info.)\n"
          ]
        }
      ]
    },
    {
      "cell_type": "code",
      "execution_count": 7,
      "metadata": {
        "id": "4sW2A5mnXHc5",
        "outputId": "955e4487-54ed-44f7-f739-4a34ec672e3c",
        "colab": {
          "base_uri": "https://localhost:8080/"
        }
      },
      "outputs": [
        {
          "output_type": "stream",
          "name": "stdout",
          "text": [
            "(10,)\n"
          ]
        }
      ],
      "source": [
        "# This works on single examples\n",
        "random_flattened_image = random.normal(random.PRNGKey(1), (28 * 28,))\n",
        "preds = predict(params, random_flattened_image)\n",
        "print(preds.shape)"
      ]
    },
    {
      "cell_type": "code",
      "execution_count": 8,
      "metadata": {
        "id": "PpyQxuedXfhp",
        "outputId": "9263c731-a2d6-4e37-c205-7bebbdb77664",
        "colab": {
          "base_uri": "https://localhost:8080/"
        }
      },
      "outputs": [
        {
          "output_type": "stream",
          "name": "stdout",
          "text": [
            "Invalid shapes!\n"
          ]
        }
      ],
      "source": [
        "# Doesn't work with a batch\n",
        "random_flattened_images = random.normal(random.PRNGKey(1), (10, 28 * 28))\n",
        "try:\n",
        "  preds = predict(params, random_flattened_images)\n",
        "except TypeError:\n",
        "  print('Invalid shapes!')"
      ]
    },
    {
      "cell_type": "code",
      "execution_count": 9,
      "metadata": {
        "id": "oJOOncKMXbwK",
        "outputId": "8a825ae1-653f-4e2e-97df-5ae2bfb09af2",
        "colab": {
          "base_uri": "https://localhost:8080/"
        }
      },
      "outputs": [
        {
          "output_type": "stream",
          "name": "stdout",
          "text": [
            "(10, 10)\n"
          ]
        }
      ],
      "source": [
        "# Let's upgrade it to handle batches using `vmap`\n",
        "\n",
        "# Make a batched version of the `predict` function\n",
        "batched_predict = vmap(predict, in_axes=(None, 0))\n",
        "\n",
        "# `batched_predict` has the same call signature as `predict`\n",
        "batched_preds = batched_predict(params, random_flattened_images)\n",
        "print(batched_preds.shape)"
      ]
    },
    {
      "cell_type": "markdown",
      "metadata": {
        "id": "elsG6nX03BvW"
      },
      "source": [
        "At this point, we have all the ingredients we need to define our neural network and train it. We've built an auto-batched version of `predict`, which we should be able to use in a loss function. We should be able to use `grad` to take the derivative of the loss with respect to the neural network parameters. Last, we should be able to use `jit` to speed up everything."
      ]
    },
    {
      "cell_type": "markdown",
      "metadata": {
        "id": "NwDuFqc9X7ER"
      },
      "source": [
        "## Utility and loss functions"
      ]
    },
    {
      "cell_type": "code",
      "execution_count": 10,
      "metadata": {
        "id": "6lTI6I4lWdh5"
      },
      "outputs": [],
      "source": [
        "def one_hot(x, k, dtype=jnp.float32):\n",
        "  \"\"\"Create a one-hot encoding of x of size k.\"\"\"\n",
        "  return jnp.array(x[:, None] == jnp.arange(k), dtype)\n",
        "  \n",
        "def accuracy(params, images, targets):\n",
        "  target_class = jnp.argmax(targets, axis=1)\n",
        "  predicted_class = jnp.argmax(batched_predict(params, images), axis=1)\n",
        "  return jnp.mean(predicted_class == target_class)\n",
        "\n",
        "def accuracy_and_predictions(params, images, targets):\n",
        "  target_class = jnp.argmax(targets, axis=1)\n",
        "  predicted_class = jnp.argmax(batched_predict(params, images), axis=1)\n",
        "  correct_or_not = predicted_class == target_class\n",
        "  return jnp.mean(correct_or_not), correct_or_not\n",
        "\n",
        "def loss(params, images, targets):\n",
        "  preds = batched_predict(params, images)\n",
        "  return -jnp.mean(preds * targets)\n",
        "\n",
        "@jit\n",
        "def update(params, x, y):\n",
        "  grads = grad(loss)(params, x, y)\n",
        "  return [(w - step_size * dw, b - step_size * db)\n",
        "          for (w, b), (dw, db) in zip(params, grads)]"
      ]
    },
    {
      "cell_type": "markdown",
      "metadata": {
        "id": "umJJGZCC2oKl"
      },
      "source": [
        "## Data Loading with PyTorch\n",
        "\n",
        "JAX is laser-focused on program transformations and accelerator-backed NumPy, so we don't include data loading or munging in the JAX library. There are already a lot of great data loaders out there, so let's just use them instead of reinventing anything. We'll grab PyTorch's data loader, and make a tiny shim to make it work with NumPy arrays."
      ]
    },
    {
      "cell_type": "code",
      "execution_count": 11,
      "metadata": {
        "id": "gEvWt8_u2pqG",
        "outputId": "b9d2892e-190f-4e5e-dc0d-acaa30841bb9",
        "colab": {
          "base_uri": "https://localhost:8080/"
        }
      },
      "outputs": [
        {
          "output_type": "stream",
          "name": "stdout",
          "text": [
            "Requirement already satisfied: torch in /usr/local/lib/python3.7/dist-packages (1.11.0+cu113)\n",
            "Requirement already satisfied: torchvision in /usr/local/lib/python3.7/dist-packages (0.12.0+cu113)\n",
            "Requirement already satisfied: typing-extensions in /usr/local/lib/python3.7/dist-packages (from torch) (4.2.0)\n",
            "Requirement already satisfied: requests in /usr/local/lib/python3.7/dist-packages (from torchvision) (2.23.0)\n",
            "Requirement already satisfied: pillow!=8.3.*,>=5.3.0 in /usr/local/lib/python3.7/dist-packages (from torchvision) (7.1.2)\n",
            "Requirement already satisfied: numpy in /usr/local/lib/python3.7/dist-packages (from torchvision) (1.21.6)\n",
            "Requirement already satisfied: certifi>=2017.4.17 in /usr/local/lib/python3.7/dist-packages (from requests->torchvision) (2021.10.8)\n",
            "Requirement already satisfied: idna<3,>=2.5 in /usr/local/lib/python3.7/dist-packages (from requests->torchvision) (2.10)\n",
            "Requirement already satisfied: urllib3!=1.25.0,!=1.25.1,<1.26,>=1.21.1 in /usr/local/lib/python3.7/dist-packages (from requests->torchvision) (1.24.3)\n",
            "Requirement already satisfied: chardet<4,>=3.0.2 in /usr/local/lib/python3.7/dist-packages (from requests->torchvision) (3.0.4)\n"
          ]
        }
      ],
      "source": [
        "!pip install torch torchvision"
      ]
    },
    {
      "cell_type": "code",
      "execution_count": 12,
      "metadata": {
        "cellView": "both",
        "id": "94PjXZ8y3dVF"
      },
      "outputs": [],
      "source": [
        "import numpy as np\n",
        "from torch.utils import data\n",
        "from torchvision.datasets import MNIST\n",
        "\n",
        "def numpy_collate(batch):\n",
        "  if isinstance(batch[0], np.ndarray):\n",
        "    return np.stack(batch)\n",
        "  elif isinstance(batch[0], (tuple,list)):\n",
        "    transposed = zip(*batch)\n",
        "    return [numpy_collate(samples) for samples in transposed]\n",
        "  else:\n",
        "    return np.array(batch)\n",
        "\n",
        "class NumpyLoader(data.DataLoader):\n",
        "  def __init__(self, dataset, batch_size=1,\n",
        "                shuffle=False, sampler=None,\n",
        "                batch_sampler=None, num_workers=0,\n",
        "                pin_memory=False, drop_last=False,\n",
        "                timeout=0, worker_init_fn=None):\n",
        "    super(self.__class__, self).__init__(dataset,\n",
        "        batch_size=batch_size,\n",
        "        shuffle=shuffle,\n",
        "        sampler=sampler,\n",
        "        batch_sampler=batch_sampler,\n",
        "        num_workers=num_workers,\n",
        "        collate_fn=numpy_collate,\n",
        "        pin_memory=pin_memory,\n",
        "        drop_last=drop_last,\n",
        "        timeout=timeout,\n",
        "        worker_init_fn=worker_init_fn)\n",
        "\n",
        "class FlattenAndCast(object):\n",
        "  def __call__(self, pic):\n",
        "    return np.ravel(np.array(pic, dtype=jnp.float32))"
      ]
    },
    {
      "cell_type": "code",
      "execution_count": 13,
      "metadata": {
        "id": "l314jsfP4TN4",
        "colab": {
          "base_uri": "https://localhost:8080/",
          "height": 451,
          "referenced_widgets": [
            "1aac1d0c80ae4cf99a19e8b04597378f",
            "d1c4751fef1d4313bec8c5d3771152e5",
            "9ea75594ade3429eaba22681f69e83cb",
            "5d2af19cf5d1455a8d8636d202d267fc",
            "e58b44e2b6a84a50a38c7e3a76aeef35",
            "79504a38c6214ef891c2abe0e9ee09f4",
            "cf66a9c0787d467b86f6ede439cf8e25",
            "893882c9240145f6bedcdd23833f3c5a",
            "3728ef2df4d4411792fcfd200995e90f",
            "e4083e5f54ba4913a2618e1ba58f0341",
            "148dbd7dcabd4251b616765526a01ce2",
            "d06a350c89034c139a23d522f2c5d6b8",
            "bd72759d961b4565a680f7e969caf239",
            "f9e09bd90e8145178b6eaf73f9835e4a",
            "f19074b610da4e298e99ad9e4ba02174",
            "48d5a5e2f6244a568eff7006ee9ae8a1",
            "2bac3bb9c179460f86688b128842a964",
            "72fd37b357a240ef892cc33a19185400",
            "74364e9c1fda4174b889c172b5692674",
            "54ec1749c64741b7b0bc043d875016de",
            "63f1046d5641498e8560797d11da0a34",
            "ee9a128a4eeb451287ffc85e0eb1dc2d",
            "df45628fa7fd4cd0b31fc07abc632760",
            "7f18501493a643c3bc7117dc0cc25105",
            "24adc82128b04fbd879d35520e5f24eb",
            "dc493f2fa7694f03bd730400a7e77143",
            "b33e8f5cd8ac4140b60cd9b12169bc73",
            "da204e8bb55044b7903ece4c799cb681",
            "fd7a2ae51809423bba6c83b104040cff",
            "c1370e9e06ca4bb890ece41f36c01d39",
            "2e3cf01cd3f54943bd40885788a6788b",
            "b75badd62c444cab9b2a055c36a19a21",
            "676ac6ae9db2431ebbeeab3371e41bb2",
            "a04c38a0afb6491c9deac108c21c14c1",
            "95e8e13a8ece4614a4e3d90a123f7fe7",
            "ba441bbac5134549ab7061d849f4033a",
            "8238a302e2114978809d515d13329514",
            "35ceed3f7d2d47fca26763d4d438f8e1",
            "20d02ecc08ee4277899ea8f3d50feaa9",
            "1e9ae581168546b497493fe03f438d05",
            "43bc64e2c1ac47248d007dcb5375c39d",
            "7574a32f8a63469786ffcc9b182f991e",
            "ca58e12bb9d74884a2e89ef9a653540b",
            "e34df7b7984b4e04a69594baad3664ae"
          ]
        },
        "outputId": "025d43b5-5a49-4b4e-91f3-794437f44454"
      },
      "outputs": [
        {
          "output_type": "stream",
          "name": "stdout",
          "text": [
            "Downloading http://yann.lecun.com/exdb/mnist/train-images-idx3-ubyte.gz\n",
            "Downloading http://yann.lecun.com/exdb/mnist/train-images-idx3-ubyte.gz to /tmp/mnist/MNIST/raw/train-images-idx3-ubyte.gz\n"
          ]
        },
        {
          "output_type": "display_data",
          "data": {
            "text/plain": [
              "  0%|          | 0/9912422 [00:00<?, ?it/s]"
            ],
            "application/vnd.jupyter.widget-view+json": {
              "version_major": 2,
              "version_minor": 0,
              "model_id": "1aac1d0c80ae4cf99a19e8b04597378f"
            }
          },
          "metadata": {}
        },
        {
          "output_type": "stream",
          "name": "stdout",
          "text": [
            "Extracting /tmp/mnist/MNIST/raw/train-images-idx3-ubyte.gz to /tmp/mnist/MNIST/raw\n",
            "\n",
            "Downloading http://yann.lecun.com/exdb/mnist/train-labels-idx1-ubyte.gz\n",
            "Downloading http://yann.lecun.com/exdb/mnist/train-labels-idx1-ubyte.gz to /tmp/mnist/MNIST/raw/train-labels-idx1-ubyte.gz\n"
          ]
        },
        {
          "output_type": "display_data",
          "data": {
            "text/plain": [
              "  0%|          | 0/28881 [00:00<?, ?it/s]"
            ],
            "application/vnd.jupyter.widget-view+json": {
              "version_major": 2,
              "version_minor": 0,
              "model_id": "d06a350c89034c139a23d522f2c5d6b8"
            }
          },
          "metadata": {}
        },
        {
          "output_type": "stream",
          "name": "stdout",
          "text": [
            "Extracting /tmp/mnist/MNIST/raw/train-labels-idx1-ubyte.gz to /tmp/mnist/MNIST/raw\n",
            "\n",
            "Downloading http://yann.lecun.com/exdb/mnist/t10k-images-idx3-ubyte.gz\n",
            "Downloading http://yann.lecun.com/exdb/mnist/t10k-images-idx3-ubyte.gz to /tmp/mnist/MNIST/raw/t10k-images-idx3-ubyte.gz\n"
          ]
        },
        {
          "output_type": "display_data",
          "data": {
            "text/plain": [
              "  0%|          | 0/1648877 [00:00<?, ?it/s]"
            ],
            "application/vnd.jupyter.widget-view+json": {
              "version_major": 2,
              "version_minor": 0,
              "model_id": "df45628fa7fd4cd0b31fc07abc632760"
            }
          },
          "metadata": {}
        },
        {
          "output_type": "stream",
          "name": "stdout",
          "text": [
            "Extracting /tmp/mnist/MNIST/raw/t10k-images-idx3-ubyte.gz to /tmp/mnist/MNIST/raw\n",
            "\n",
            "Downloading http://yann.lecun.com/exdb/mnist/t10k-labels-idx1-ubyte.gz\n",
            "Downloading http://yann.lecun.com/exdb/mnist/t10k-labels-idx1-ubyte.gz to /tmp/mnist/MNIST/raw/t10k-labels-idx1-ubyte.gz\n"
          ]
        },
        {
          "output_type": "display_data",
          "data": {
            "text/plain": [
              "  0%|          | 0/4542 [00:00<?, ?it/s]"
            ],
            "application/vnd.jupyter.widget-view+json": {
              "version_major": 2,
              "version_minor": 0,
              "model_id": "a04c38a0afb6491c9deac108c21c14c1"
            }
          },
          "metadata": {}
        },
        {
          "output_type": "stream",
          "name": "stdout",
          "text": [
            "Extracting /tmp/mnist/MNIST/raw/t10k-labels-idx1-ubyte.gz to /tmp/mnist/MNIST/raw\n",
            "\n"
          ]
        }
      ],
      "source": [
        "# Define our dataset, using torch datasets\n",
        "mnist_dataset = MNIST('/tmp/mnist/', download=True, transform=FlattenAndCast())\n",
        "training_generator = NumpyLoader(mnist_dataset, batch_size=batch_size, num_workers=0)"
      ]
    },
    {
      "cell_type": "code",
      "execution_count": 14,
      "metadata": {
        "id": "FTNo4beUvb6t",
        "outputId": "a8265c52-ab9a-43a6-c08a-7d29da647106",
        "colab": {
          "base_uri": "https://localhost:8080/"
        }
      },
      "outputs": [
        {
          "output_type": "stream",
          "name": "stderr",
          "text": [
            "/usr/local/lib/python3.7/dist-packages/torchvision/datasets/mnist.py:75: UserWarning: train_data has been renamed data\n",
            "  warnings.warn(\"train_data has been renamed data\")\n",
            "/usr/local/lib/python3.7/dist-packages/torchvision/datasets/mnist.py:65: UserWarning: train_labels has been renamed targets\n",
            "  warnings.warn(\"train_labels has been renamed targets\")\n",
            "/usr/local/lib/python3.7/dist-packages/torchvision/datasets/mnist.py:80: UserWarning: test_data has been renamed data\n",
            "  warnings.warn(\"test_data has been renamed data\")\n",
            "/usr/local/lib/python3.7/dist-packages/torchvision/datasets/mnist.py:70: UserWarning: test_labels has been renamed targets\n",
            "  warnings.warn(\"test_labels has been renamed targets\")\n"
          ]
        }
      ],
      "source": [
        "# Get the full train dataset (for checking accuracy while training)\n",
        "train_images = np.array(mnist_dataset.train_data).reshape(len(mnist_dataset.train_data), -1)\n",
        "train_labels = one_hot(np.array(mnist_dataset.train_labels), n_targets)\n",
        "\n",
        "# Get full test dataset\n",
        "mnist_dataset_test = MNIST('/tmp/mnist/', download=True, train=False)\n",
        "test_images = jnp.array(mnist_dataset_test.test_data.numpy().reshape(len(mnist_dataset_test.test_data), -1), dtype=jnp.float32)\n",
        "test_labels = one_hot(np.array(mnist_dataset_test.test_labels), n_targets)"
      ]
    },
    {
      "cell_type": "markdown",
      "metadata": {
        "id": "xxPd6Qw3Z98v"
      },
      "source": [
        "## Training Loop"
      ]
    },
    {
      "cell_type": "code",
      "source": [
        "def get_sizes(l):\n",
        "  \"\"\"Get size of arrays in tuples in list\"\"\"\n",
        "  return [[x.shape for x in y] for y in l]\n",
        "\n",
        "def get_flat(list_tuple_array):\n",
        "  \"\"\"Flatten all parameters or gradients\"\"\"\n",
        "  return jnp.concatenate([jnp.concatenate([x[0].flatten(), x[1].flatten()]) for x in list_tuple_array])\n",
        "\n",
        "def get_hvp(f, flat_params, v, x, y):\n",
        "  return grad(lambda flat_params: jnp.vdot(get_flat(grad(f)(flat_params, x, y)), v))(flat_params)"
      ],
      "metadata": {
        "id": "5gGYRjgJI8xE"
      },
      "execution_count": 15,
      "outputs": []
    },
    {
      "cell_type": "code",
      "source": [
        "def power_alg(hvp_fn, flat_v, iters=10):\n",
        "  hvp_v = hvp_fn(flat_v)\n",
        "  flat_hvp_v = get_flat(hvp_v)\n",
        "  normed_hvp_v = flat_hvp_v/jnp.linalg.norm(flat_hvp_v)\n",
        "  if iters == 0:\n",
        "    return jnp.dot(flat_v, flat_hvp_v), normed_hvp_v\n",
        "\n",
        "  return power_alg(hvp_fn, normed_hvp_v, iters=iters-1)"
      ],
      "metadata": {
        "id": "PUeRtILKQS9v"
      },
      "execution_count": 16,
      "outputs": []
    },
    {
      "cell_type": "code",
      "source": [
        "num_epochs = 20\n",
        "LOG_DATA = False\n",
        "LOG_EVERY = 25"
      ],
      "metadata": {
        "id": "cq92RPrxZsZO"
      },
      "execution_count": 17,
      "outputs": []
    },
    {
      "cell_type": "code",
      "source": [
        "layer_sizes = [784, 512, 512, 10]\n",
        "# layer_sizes = [784, 24, 24, 10]\n",
        "step_size = 0.1\n",
        "batch_size = 128\n",
        "n_targets = 10\n",
        "params = init_network_params(layer_sizes, random.PRNGKey(0))"
      ],
      "metadata": {
        "id": "dXMkcZJJOYbT"
      },
      "execution_count": 18,
      "outputs": []
    },
    {
      "cell_type": "code",
      "source": [
        "def get_h_eig1(params, x, y, iters=20):\n",
        "  flat_params = get_flat(params)\n",
        "  flat_v = np.random.rand(*flat_params.shape)\n",
        "  hvp = get_hvp(loss, params, flat_v, x, y)\n",
        "  hvp_fn = lambda flat_v: get_hvp(loss, params, flat_v, x, y)\n",
        "\n",
        "  eig1, eigvec1 = power_alg(hvp_fn, flat_v, iters=iters)\n",
        "  return eig1, eigvec1"
      ],
      "metadata": {
        "id": "iDVLOac75Xe-"
      },
      "execution_count": 19,
      "outputs": []
    },
    {
      "cell_type": "code",
      "execution_count": 20,
      "metadata": {
        "id": "X2DnZo3iYj18",
        "colab": {
          "base_uri": "https://localhost:8080/"
        },
        "outputId": "5ba0376f-92ff-49e7-9e88-5363c9dc481c"
      },
      "outputs": [
        {
          "output_type": "stream",
          "name": "stdout",
          "text": [
            "Epoch 0 in 19.66 sec\n",
            "Training set accuracy 0.9541666507720947\n",
            "Test set accuracy 0.949999988079071\n",
            "\n",
            "Epoch 1 in 8.50 sec\n",
            "Training set accuracy 0.9732666611671448\n",
            "Test set accuracy 0.9663999676704407\n",
            "\n",
            "Epoch 2 in 8.59 sec\n",
            "Training set accuracy 0.9847500324249268\n",
            "Test set accuracy 0.9738999605178833\n",
            "\n",
            "Epoch 3 in 15.93 sec\n",
            "Training set accuracy 0.989983320236206\n",
            "Test set accuracy 0.9763000011444092\n",
            "\n",
            "Epoch 4 in 11.66 sec\n",
            "Training set accuracy 0.9916000366210938\n",
            "Test set accuracy 0.9771999716758728\n",
            "\n",
            "Epoch 5 in 8.57 sec\n",
            "Training set accuracy 0.9940333366394043\n",
            "Test set accuracy 0.9787999987602234\n",
            "\n",
            "Epoch 6 in 8.50 sec\n",
            "Training set accuracy 0.9947666525840759\n",
            "Test set accuracy 0.9783999919891357\n",
            "\n",
            "Epoch 7 in 8.54 sec\n",
            "Training set accuracy 0.9966833591461182\n",
            "Test set accuracy 0.9789999723434448\n",
            "\n",
            "Epoch 8 in 9.22 sec\n",
            "Training set accuracy 0.9977166652679443\n",
            "Test set accuracy 0.979699969291687\n",
            "\n",
            "Epoch 9 in 8.56 sec\n",
            "Training set accuracy 0.9996166825294495\n",
            "Test set accuracy 0.9821999669075012\n",
            "\n",
            "Epoch 10 in 8.46 sec\n",
            "Training set accuracy 0.9997166991233826\n",
            "Test set accuracy 0.9822999835014343\n",
            "\n",
            "Epoch 11 in 9.74 sec\n",
            "Training set accuracy 0.9998500347137451\n",
            "Test set accuracy 0.9825999736785889\n",
            "\n",
            "Epoch 12 in 8.45 sec\n",
            "Training set accuracy 0.9999499917030334\n",
            "Test set accuracy 0.9824999570846558\n",
            "\n",
            "Epoch 13 in 8.48 sec\n",
            "Training set accuracy 0.9999666810035706\n",
            "Test set accuracy 0.9824000000953674\n",
            "\n",
            "Epoch 14 in 8.51 sec\n",
            "Training set accuracy 0.9999833703041077\n",
            "Test set accuracy 0.9824000000953674\n",
            "\n",
            "Epoch 15 in 8.54 sec\n",
            "Training set accuracy 0.9999833703041077\n",
            "Test set accuracy 0.982699990272522\n",
            "\n",
            "Epoch 16 in 8.59 sec\n",
            "Training set accuracy 1.0\n",
            "Test set accuracy 0.9824000000953674\n",
            "\n",
            "Epoch 17 in 8.52 sec\n",
            "Training set accuracy 1.0\n",
            "Test set accuracy 0.9828999638557434\n",
            "\n",
            "Epoch 18 in 8.58 sec\n",
            "Training set accuracy 1.0\n",
            "Test set accuracy 0.9827999472618103\n",
            "\n",
            "Epoch 19 in 8.51 sec\n",
            "Training set accuracy 1.0\n",
            "Test set accuracy 0.9827999472618103\n",
            "\n"
          ]
        }
      ],
      "source": [
        "log = []\n",
        "for epoch in range(num_epochs):\n",
        "  start_time = time.time()\n",
        "  for i, (x, y) in enumerate(training_generator):\n",
        "    y = one_hot(y, n_targets)\n",
        "    params = update(params, x, y)\n",
        "\n",
        "    if LOG_DATA:\n",
        "      if i % LOG_EVERY == 0:\n",
        "        \n",
        "        eig1, eigvec1 = get_h_eig1(params, x, y, iters=20)\n",
        "        # train_acc = accuracy(params, train_images, train_labels)\n",
        "        train_acc, train_correct_or_not = accuracy_and_predictions(params, train_images, train_labels)\n",
        "        test_acc = accuracy(params, test_images, test_labels)\n",
        "        log.append({'step': i, \n",
        "                    'epoch': epoch, \n",
        "                    'eig1': float(eig1),\n",
        "                    'train': float(train_acc),\n",
        "                    'test': float(test_acc),}\n",
        "                  )\n",
        "\n",
        "  epoch_time = time.time() - start_time\n",
        "\n",
        "  train_acc, train_correct_or_not = accuracy_and_predictions(params, train_images, train_labels)\n",
        "  test_acc = accuracy(params, test_images, test_labels)\n",
        "  print(\"Epoch {} in {:0.2f} sec\".format(epoch, epoch_time))\n",
        "  print(\"Training set accuracy {}\".format(train_acc))\n",
        "  print(\"Test set accuracy {}\".format(test_acc))\n",
        "  if LOG_DATA:\n",
        "    print('Eig1: ', eig1)\n",
        "  print('')\n",
        "\n",
        "  "
      ]
    },
    {
      "cell_type": "code",
      "source": [
        "def get_energy(idxs, params, eigvec1, x, y):\n",
        "  energy_log = []\n",
        "  with alive_bar(len(idxs)) as bar:\n",
        "    for i, idx in enumerate(idxs):\n",
        "      bar()\n",
        "      ex = x[idx][None, :]\n",
        "      ey = y[idx][None, :]\n",
        "      # 2. The gradient at the examples\n",
        "      egrad = grad(loss)(params, ex, ey)\n",
        "\n",
        "      # 3. top k eigvec of H \n",
        "      flat_egrad = get_flat(egrad)\n",
        "      eproj1 = np.dot(flat_egrad, eigvec1) * eigvec1\n",
        "\n",
        "      # 4. ✨ energy ✨\n",
        "      eenergy = np.linalg.norm(eproj1) / np.linalg.norm(flat_egrad)\n",
        "      energy_log.append(eenergy)\n",
        "  return energy_log\n",
        "\n",
        "def plot_energy(params, train_images, train_labels, num_examples=500, eigvec1=None):\n",
        "  if eigvec1 is None:\n",
        "    startt = time.time()\n",
        "    eig1, eigvec1 = get_h_eig1(params, train_images, train_labels, iters=10)\n",
        "    print(time.time()-startt)\n",
        "\n",
        "  # 1. list of datapoints that are misclassified\n",
        "  wrong_idxs = np.where(~train_correct_or_not)[0]\n",
        "  if len(wrong_idxs) > 0:\n",
        "    num_wrong_examples = np.max(num_examples)\n",
        "    sub_wrong_idxs = np.random.choice(wrong_idxs, num_wrong_examples)\n",
        "    wrong_energy = get_energy(sub_wrong_idxs, params, eigvec1, train_images, train_labels)\n",
        "    plt.hist(wrong_energy, label='wrong', alpha=0.5)\n",
        "\n",
        "  right_idxs = np.where(train_correct_or_not)[0]\n",
        "  sub_right_idxs = np.random.choice(right_idxs, num_examples)\n",
        "  right_energy = get_energy(sub_right_idxs, params, eigvec1, train_images, train_labels)\n",
        "\n",
        "  plt.hist(right_energy, label='right', alpha=0.5)\n",
        "  plt.legend()\n",
        "  if len(wrong_idxs) > 0:\n",
        "    return {'right': right_energy, 'wrong': wrong_energy}, eigvec1\n",
        "  else:\n",
        "    return {'right': right_energy}, eigvec1"
      ],
      "metadata": {
        "id": "w1wDkzP1zLfj"
      },
      "execution_count": 86,
      "outputs": []
    },
    {
      "cell_type": "code",
      "source": [
        "layer_sizes = [784, 512, 512, 10]\n",
        "# layer_sizes = [784, 24, 24, 10]\n",
        "step_size = 0.1\n",
        "batch_size = 128\n",
        "n_targets = 10\n",
        "params = init_network_params(layer_sizes, random.PRNGKey(0))"
      ],
      "metadata": {
        "id": "11ogwzKh604y"
      },
      "execution_count": 81,
      "outputs": []
    },
    {
      "cell_type": "code",
      "source": [
        "log = []\n",
        "log_energies = []\n",
        "log_eigvec1 = {}\n",
        "log_params = {}\n",
        "SAVE=False"
      ],
      "metadata": {
        "id": "5D2aFiJr9O_m"
      },
      "execution_count": 23,
      "outputs": []
    },
    {
      "cell_type": "code",
      "source": [
        "if SAVE:\n",
        "  for epoch in range(num_epochs):\n",
        "    start_time = time.time()\n",
        "    for i, (x, y) in enumerate(training_generator):\n",
        "      y = one_hot(y, n_targets)\n",
        "      params = update(params, x, y)\n",
        "\n",
        "    epoch_time = time.time() - start_time\n",
        "\n",
        "    log_params[epoch]=params\n",
        "    train_acc, train_correct_or_not = accuracy_and_predictions(params, train_images, train_labels)\n",
        "    test_acc = accuracy(params, test_images, test_labels)\n",
        "    print(\"Epoch {} in {:0.2f} sec\".format(epoch, epoch_time))\n",
        "    print(\"Training set accuracy {}\".format(train_acc))\n",
        "    print(\"Test set accuracy {}\".format(test_acc))\n",
        "    if LOG_DATA:\n",
        "      print('Eig1: ', eig1)\n",
        "    print('')\n",
        "\n",
        "    if epoch in [0, 2, 4, 8, 16]:\n",
        "      energies, eigvec1 = plot_energy(params, train_images, train_labels)\n",
        "      log_energies.append(energies)\n",
        "      log_eigvec1[epoch] = eigvec1\n",
        "      plt.show()\n",
        "\n",
        "\n",
        "  with open('/content/gdrive/My Drive/opt-log_eigvec1', 'wb') as f:\n",
        "    np.save(f, log_eigvec1)\n",
        "  with open('/content/gdrive/My Drive/opt-log_params', 'wb') as f:\n",
        "    np.save(f, log_params)\n",
        "else:\n",
        "  with open('/content/gdrive/My Drive/opt-log_eigvec1', 'rb') as f:\n",
        "    log_eigvec1 = np.load(f, allow_pickle=True).item()\n",
        "  with open('/content/gdrive/My Drive/opt-log_params', 'rb') as f:\n",
        "    log_params = np.load(f, allow_pickle=True).item()"
      ],
      "metadata": {
        "colab": {
          "base_uri": "https://localhost:8080/",
          "height": 1000
        },
        "id": "TjRA-ESk6X5a",
        "outputId": "4bf5073d-2bfe-4383-b9e5-1762119b21e5"
      },
      "execution_count": 26,
      "outputs": [
        {
          "metadata": {
            "tags": null
          },
          "name": "stdout",
          "output_type": "stream",
          "text": [
            "Epoch 1 in 12.81 sec\n",
            "Training set accuracy 0.9732666611671448\n",
            "Test set accuracy 0.9663999676704407\n",
            "\n",
            "Epoch 2 in 10.17 sec\n",
            "Training set accuracy 0.9847500324249268\n",
            "Test set accuracy 0.9738999605178833\n",
            "\n",
            "152.4703197479248\n",
            "|████████████████████████████████████████| 500/500 [100%] in 15.1s (33.06/s) \n",
            "|████████████████████████████████████████| 500/500 [100%] in 15.1s (33.21/s) \n"
          ]
        },
        {
          "data": {
            "image/png": "[encoded data removed]",
            "text/plain": [
              "<Figure size 432x288 with 1 Axes>"
            ]
          },
          "metadata": {},
          "output_type": "display_data"
        },
        {
          "output_type": "stream",
          "name": "stdout",
          "text": [
            "Epoch 3 in 8.33 sec\n",
            "Training set accuracy 0.989983320236206\n",
            "Test set accuracy 0.9763000011444092\n",
            "\n",
            "Epoch 4 in 8.46 sec\n",
            "Training set accuracy 0.9916000366210938\n",
            "Test set accuracy 0.9771999716758728\n",
            "\n",
            "151.84684920310974\n",
            "|████████████████████████████████████████| 500/500 [100%] in 15.1s (33.03/s) \n",
            "|████████████████████████████████████████| 500/500 [100%] in 15.1s (33.09/s) \n"
          ]
        },
        {
          "output_type": "display_data",
          "data": {
            "text/plain": [
              "<Figure size 432x288 with 1 Axes>"
            ],
            "image/png": "[encoded data removed]"
          },
          "metadata": {
            "needs_background": "light"
          }
        },
        {
          "output_type": "stream",
          "name": "stdout",
          "text": [
            "Epoch 5 in 8.50 sec\n",
            "Training set accuracy 0.9940333366394043\n",
            "Test set accuracy 0.9787999987602234\n",
            "\n",
            "Epoch 6 in 8.41 sec\n",
            "Training set accuracy 0.9947666525840759\n",
            "Test set accuracy 0.9783999919891357\n",
            "\n",
            "Epoch 7 in 8.35 sec\n",
            "Training set accuracy 0.9966833591461182\n",
            "Test set accuracy 0.9789999723434448\n",
            "\n",
            "Epoch 8 in 8.39 sec\n",
            "Training set accuracy 0.9977166652679443\n",
            "Test set accuracy 0.979699969291687\n",
            "\n",
            "151.11220717430115\n",
            "|████████████████████████████████████████| 500/500 [100%] in 15.0s (33.39/s) \n",
            "|████████████████████████████████████████| 500/500 [100%] in 14.7s (33.92/s) \n"
          ]
        },
        {
          "output_type": "display_data",
          "data": {
            "text/plain": [
              "<Figure size 432x288 with 1 Axes>"
            ],
            "image/png": "[encoded data removed]"
          },
          "metadata": {
            "needs_background": "light"
          }
        },
        {
          "output_type": "stream",
          "name": "stdout",
          "text": [
            "Epoch 9 in 8.35 sec\n",
            "Training set accuracy 0.9996166825294495\n",
            "Test set accuracy 0.9821999669075012\n",
            "\n",
            "Epoch 10 in 8.35 sec\n",
            "Training set accuracy 0.9997166991233826\n",
            "Test set accuracy 0.9822999835014343\n",
            "\n",
            "Epoch 11 in 8.36 sec\n",
            "Training set accuracy 0.9998500347137451\n",
            "Test set accuracy 0.9825999736785889\n",
            "\n",
            "Epoch 12 in 8.47 sec\n",
            "Training set accuracy 0.9999499917030334\n",
            "Test set accuracy 0.9824999570846558\n",
            "\n",
            "Epoch 13 in 8.36 sec\n",
            "Training set accuracy 0.9999666810035706\n",
            "Test set accuracy 0.9824000000953674\n",
            "\n",
            "Epoch 14 in 8.31 sec\n",
            "Training set accuracy 0.9999833703041077\n",
            "Test set accuracy 0.9824000000953674\n",
            "\n",
            "Epoch 15 in 8.35 sec\n",
            "Training set accuracy 0.9999833703041077\n",
            "Test set accuracy 0.982699990272522\n",
            "\n",
            "Epoch 16 in 8.34 sec\n",
            "Training set accuracy 1.0\n",
            "Test set accuracy 0.9824000000953674\n",
            "\n",
            "151.45801448822021\n",
            "|████████████████████████████████████████| 500/500 [100%] in 15.0s (33.43/s) \n"
          ]
        },
        {
          "output_type": "display_data",
          "data": {
            "text/plain": [
              "<Figure size 432x288 with 1 Axes>"
            ],
            "image/png": "[encoded data removed]"
          },
          "metadata": {
            "needs_background": "light"
          }
        },
        {
          "output_type": "stream",
          "name": "stdout",
          "text": [
            "Epoch 17 in 8.40 sec\n",
            "Training set accuracy 1.0\n",
            "Test set accuracy 0.9828999638557434\n",
            "\n",
            "Epoch 18 in 8.43 sec\n",
            "Training set accuracy 1.0\n",
            "Test set accuracy 0.9827999472618103\n",
            "\n",
            "Epoch 19 in 8.41 sec\n",
            "Training set accuracy 1.0\n",
            "Test set accuracy 0.9827999472618103\n",
            "\n"
          ]
        }
      ]
    },
    {
      "cell_type": "code",
      "source": [
        "for epoch, energies in zip([0, 5, 10, 15], log_energies):\n",
        "  plt.hist(energies['right'], label='right', alpha=0.5)\n",
        "  plt.hist(energies['wrong'], label='wrong', alpha=0.5)\n",
        "  plt.title(epoch)\n",
        "  plt.legend()\n",
        "\n",
        "  plt.show()"
      ],
      "metadata": {
        "colab": {
          "base_uri": "https://localhost:8080/",
          "height": 1000
        },
        "id": "6JKj7wJ1AnS_",
        "outputId": "e67e6b80-1082-4570-f21c-dd625319e329"
      },
      "execution_count": 27,
      "outputs": [
        {
          "output_type": "display_data",
          "data": {
            "text/plain": [
              "<Figure size 432x288 with 1 Axes>"
            ],
            "image/png": "[encoded data removed]"
          },
          "metadata": {
            "needs_background": "light"
          }
        },
        {
          "output_type": "display_data",
          "data": {
            "text/plain": [
              "<Figure size 432x288 with 1 Axes>"
            ],
            "image/png": "[encoded data removed]"
          },
          "metadata": {
            "needs_background": "light"
          }
        },
        {
          "output_type": "display_data",
          "data": {
            "text/plain": [
              "<Figure size 432x288 with 1 Axes>"
            ],
            "image/png": "[encoded data removed]"
          },
          "metadata": {
            "needs_background": "light"
          }
        },
        {
          "output_type": "display_data",
          "data": {
            "text/plain": [
              "<Figure size 432x288 with 1 Axes>"
            ],
            "image/png": "[encoded data removed]"
          },
          "metadata": {
            "needs_background": "light"
          }
        }
      ]
    },
    {
      "cell_type": "code",
      "source": [
        "import pandas as pd"
      ],
      "metadata": {
        "id": "ayqKTmTWBUi9"
      },
      "execution_count": 28,
      "outputs": []
    },
    {
      "cell_type": "code",
      "source": [
        "new_log_energies = []\n",
        "for epoch, energies in zip(sorted(list(log_eigvec1.keys())), log_energies):\n",
        "  for t, energy in energies.items():\n",
        "    if t == 'epoch':\n",
        "      continue\n",
        "    for e in energy:\n",
        "      new_log_energies.append({'epoch': epoch, 'class': t, 'energy': e})\n"
      ],
      "metadata": {
        "id": "SfIxWcg_BEBQ"
      },
      "execution_count": 50,
      "outputs": []
    },
    {
      "cell_type": "code",
      "source": [
        "df = pd.DataFrame(new_log_energies)\n",
        "df"
      ],
      "metadata": {
        "colab": {
          "base_uri": "https://localhost:8080/",
          "height": 423
        },
        "id": "UyKSPt-_CTes",
        "outputId": "5347f9e7-ec41-4af0-d489-a8651c8c86b2"
      },
      "execution_count": 51,
      "outputs": [
        {
          "output_type": "execute_result",
          "data": {
            "text/plain": [
              "      epoch  class    energy\n",
              "0         0  right  0.033710\n",
              "1         0  right  0.273259\n",
              "2         0  right  0.012245\n",
              "3         0  right  0.000072\n",
              "4         0  right  0.062237\n",
              "...     ...    ...       ...\n",
              "4495     16  right  0.008566\n",
              "4496     16  right  0.055827\n",
              "4497     16  right  0.049976\n",
              "4498     16  right  0.032204\n",
              "4499     16  right  0.322549\n",
              "\n",
              "[4500 rows x 3 columns]"
            ],
            "text/html": [
              "\n",
              "  <div id=\"df-3506c005-f35b-4e8d-b0b5-738645ccee09\">\n",
              "    <div class=\"colab-df-container\">\n",
              "      <div>\n",
              "<style scoped>\n",
              "    .dataframe tbody tr th:only-of-type {\n",
              "        vertical-align: middle;\n",
              "    }\n",
              "\n",
              "    .dataframe tbody tr th {\n",
              "        vertical-align: top;\n",
              "    }\n",
              "\n",
              "    .dataframe thead th {\n",
              "        text-align: right;\n",
              "    }\n",
              "</style>\n",
              "<table border=\"1\" class=\"dataframe\">\n",
              "  <thead>\n",
              "    <tr style=\"text-align: right;\">\n",
              "      <th></th>\n",
              "      <th>epoch</th>\n",
              "      <th>class</th>\n",
              "      <th>energy</th>\n",
              "    </tr>\n",
              "  </thead>\n",
              "  <tbody>\n",
              "    <tr>\n",
              "      <th>0</th>\n",
              "      <td>0</td>\n",
              "      <td>right</td>\n",
              "      <td>0.033710</td>\n",
              "    </tr>\n",
              "    <tr>\n",
              "      <th>1</th>\n",
              "      <td>0</td>\n",
              "      <td>right</td>\n",
              "      <td>0.273259</td>\n",
              "    </tr>\n",
              "    <tr>\n",
              "      <th>2</th>\n",
              "      <td>0</td>\n",
              "      <td>right</td>\n",
              "      <td>0.012245</td>\n",
              "    </tr>\n",
              "    <tr>\n",
              "      <th>3</th>\n",
              "      <td>0</td>\n",
              "      <td>right</td>\n",
              "      <td>0.000072</td>\n",
              "    </tr>\n",
              "    <tr>\n",
              "      <th>4</th>\n",
              "      <td>0</td>\n",
              "      <td>right</td>\n",
              "      <td>0.062237</td>\n",
              "    </tr>\n",
              "    <tr>\n",
              "      <th>...</th>\n",
              "      <td>...</td>\n",
              "      <td>...</td>\n",
              "      <td>...</td>\n",
              "    </tr>\n",
              "    <tr>\n",
              "      <th>4495</th>\n",
              "      <td>16</td>\n",
              "      <td>right</td>\n",
              "      <td>0.008566</td>\n",
              "    </tr>\n",
              "    <tr>\n",
              "      <th>4496</th>\n",
              "      <td>16</td>\n",
              "      <td>right</td>\n",
              "      <td>0.055827</td>\n",
              "    </tr>\n",
              "    <tr>\n",
              "      <th>4497</th>\n",
              "      <td>16</td>\n",
              "      <td>right</td>\n",
              "      <td>0.049976</td>\n",
              "    </tr>\n",
              "    <tr>\n",
              "      <th>4498</th>\n",
              "      <td>16</td>\n",
              "      <td>right</td>\n",
              "      <td>0.032204</td>\n",
              "    </tr>\n",
              "    <tr>\n",
              "      <th>4499</th>\n",
              "      <td>16</td>\n",
              "      <td>right</td>\n",
              "      <td>0.322549</td>\n",
              "    </tr>\n",
              "  </tbody>\n",
              "</table>\n",
              "<p>4500 rows × 3 columns</p>\n",
              "</div>\n",
              "      <button class=\"colab-df-convert\" onclick=\"convertToInteractive('df-3506c005-f35b-4e8d-b0b5-738645ccee09')\"\n",
              "              title=\"Convert this dataframe to an interactive table.\"\n",
              "              style=\"display:none;\">\n",
              "        \n",
              "  <svg xmlns=\"http://www.w3.org/2000/svg\" height=\"24px\"viewBox=\"0 0 24 24\"\n",
              "       width=\"24px\">\n",
              "    <path d=\"M0 0h24v24H0V0z\" fill=\"none\"/>\n",
              "    <path d=\"M18.56 5.44l.94 2.06.94-2.06 2.06-.94-2.06-.94-.94-2.06-.94 2.06-2.06.94zm-11 1L8.5 8.5l.94-2.06 2.06-.94-2.06-.94L8.5 2.5l-.94 2.06-2.06.94zm10 10l.94 2.06.94-2.06 2.06-.94-2.06-.94-.94-2.06-.94 2.06-2.06.94z\"/><path d=\"M17.41 7.96l-1.37-1.37c-.4-.4-.92-.59-1.43-.59-.52 0-1.04.2-1.43.59L10.3 9.45l-7.72 7.72c-.78.78-.78 2.05 0 2.83L4 21.41c.39.39.9.59 1.41.59.51 0 1.02-.2 1.41-.59l7.78-7.78 2.81-2.81c.8-.78.8-2.07 0-2.86zM5.41 20L4 18.59l7.72-7.72 1.47 1.35L5.41 20z\"/>\n",
              "  </svg>\n",
              "      </button>\n",
              "      \n",
              "  <style>\n",
              "    .colab-df-container {\n",
              "      display:flex;\n",
              "      flex-wrap:wrap;\n",
              "      gap: 12px;\n",
              "    }\n",
              "\n",
              "    .colab-df-convert {\n",
              "      background-color: #E8F0FE;\n",
              "      border: none;\n",
              "      border-radius: 50%;\n",
              "      cursor: pointer;\n",
              "      display: none;\n",
              "      fill: #1967D2;\n",
              "      height: 32px;\n",
              "      padding: 0 0 0 0;\n",
              "      width: 32px;\n",
              "    }\n",
              "\n",
              "    .colab-df-convert:hover {\n",
              "      background-color: #E2EBFA;\n",
              "      box-shadow: 0px 1px 2px rgba(60, 64, 67, 0.3), 0px 1px 3px 1px rgba(60, 64, 67, 0.15);\n",
              "      fill: #174EA6;\n",
              "    }\n",
              "\n",
              "    [theme=dark] .colab-df-convert {\n",
              "      background-color: #3B4455;\n",
              "      fill: #D2E3FC;\n",
              "    }\n",
              "\n",
              "    [theme=dark] .colab-df-convert:hover {\n",
              "      background-color: #434B5C;\n",
              "      box-shadow: 0px 1px 3px 1px rgba(0, 0, 0, 0.15);\n",
              "      filter: drop-shadow(0px 1px 2px rgba(0, 0, 0, 0.3));\n",
              "      fill: #FFFFFF;\n",
              "    }\n",
              "  </style>\n",
              "\n",
              "      <script>\n",
              "        const buttonEl =\n",
              "          document.querySelector('#df-3506c005-f35b-4e8d-b0b5-738645ccee09 button.colab-df-convert');\n",
              "        buttonEl.style.display =\n",
              "          google.colab.kernel.accessAllowed ? 'block' : 'none';\n",
              "\n",
              "        async function convertToInteractive(key) {\n",
              "          const element = document.querySelector('#df-3506c005-f35b-4e8d-b0b5-738645ccee09');\n",
              "          const dataTable =\n",
              "            await google.colab.kernel.invokeFunction('convertToInteractive',\n",
              "                                                     [key], {});\n",
              "          if (!dataTable) return;\n",
              "\n",
              "          const docLinkHtml = 'Like what you see? Visit the ' +\n",
              "            '<a target=\"_blank\" href=https://colab.research.google.com/notebooks/data_table.ipynb>data table notebook</a>'\n",
              "            + ' to learn more about interactive tables.';\n",
              "          element.innerHTML = '';\n",
              "          dataTable['output_type'] = 'display_data';\n",
              "          await google.colab.output.renderOutput(dataTable, element);\n",
              "          const docLink = document.createElement('div');\n",
              "          docLink.innerHTML = docLinkHtml;\n",
              "          element.appendChild(docLink);\n",
              "        }\n",
              "      </script>\n",
              "    </div>\n",
              "  </div>\n",
              "  "
            ]
          },
          "metadata": {},
          "execution_count": 51
        }
      ]
    },
    {
      "cell_type": "code",
      "source": [
        "sns.boxplot(x='class', y='energy', hue='epoch', data=df)"
      ],
      "metadata": {
        "colab": {
          "base_uri": "https://localhost:8080/",
          "height": 297
        },
        "id": "453k1ZRTC686",
        "outputId": "d1b19d13-b99f-47b4-dd73-78c997df9262"
      },
      "execution_count": 52,
      "outputs": [
        {
          "output_type": "execute_result",
          "data": {
            "text/plain": [
              "<matplotlib.axes._subplots.AxesSubplot at 0x7f08cfaebf50>"
            ]
          },
          "metadata": {},
          "execution_count": 52
        },
        {
          "output_type": "display_data",
          "data": {
            "text/plain": [
              "<Figure size 432x288 with 1 Axes>"
            ],
            "image/png": "[encoded data removed]"
          },
          "metadata": {
            "needs_background": "light"
          }
        }
      ]
    },
    {
      "cell_type": "code",
      "source": [
        "sns.violinplot(x='class', y='energy', hue='epoch', data=df)"
      ],
      "metadata": {
        "colab": {
          "base_uri": "https://localhost:8080/",
          "height": 297
        },
        "id": "aW8Umrh1CVaX",
        "outputId": "f31a0b81-a6ca-4c14-c9cb-1995ed01d107"
      },
      "execution_count": 53,
      "outputs": [
        {
          "output_type": "execute_result",
          "data": {
            "text/plain": [
              "<matplotlib.axes._subplots.AxesSubplot at 0x7f08cfa477d0>"
            ]
          },
          "metadata": {},
          "execution_count": 53
        },
        {
          "output_type": "display_data",
          "data": {
            "text/plain": [
              "<Figure size 432x288 with 1 Axes>"
            ],
            "image/png": "[encoded data removed]"
          },
          "metadata": {
            "needs_background": "light"
          }
        }
      ]
    },
    {
      "cell_type": "code",
      "source": [
        "from google.colab import drive\n",
        "drive.mount('/content/gdrive')"
      ],
      "metadata": {
        "colab": {
          "base_uri": "https://localhost:8080/"
        },
        "id": "syyc4ir_9Awz",
        "outputId": "96f7f44a-3630-4d29-fcc5-9c94d26e8b31"
      },
      "execution_count": 33,
      "outputs": [
        {
          "output_type": "stream",
          "name": "stdout",
          "text": [
            "Mounted at /content/gdrive\n"
          ]
        }
      ]
    },
    {
      "cell_type": "markdown",
      "source": [
        "## Identify which examples were wrong through training"
      ],
      "metadata": {
        "id": "oFVqCD7e_df5"
      }
    },
    {
      "cell_type": "code",
      "source": [
        "log_train_correct_or_not = []\n",
        "log_params = {}\n",
        "for epoch in range(num_epochs):\n",
        "  start_time = time.time()\n",
        "  for i, (x, y) in enumerate(training_generator):\n",
        "    y = one_hot(y, n_targets)\n",
        "    params = update(params, x, y)\n",
        "\n",
        "  epoch_time = time.time() - start_time\n",
        "\n",
        "  train_acc, train_correct_or_not = accuracy_and_predictions(params, train_images, train_labels)\n",
        "  test_acc = accuracy(params, test_images, test_labels)\n",
        "  print(\"Epoch {} in {:0.2f} sec\".format(epoch, epoch_time))\n",
        "  print(\"Training set accuracy {}\".format(train_acc))\n",
        "  print(\"Test set accuracy {}\".format(test_acc))\n",
        "  print('')\n",
        "\n",
        "  if epoch in [0, 2, 4, 8, 16]:\n",
        "    train_acc, train_correct_or_not = accuracy_and_predictions(params, train_images, train_labels)\n",
        "    log_train_correct_or_not.append(train_correct_or_not)\n",
        "  log_params[epoch] = params\n"
      ],
      "metadata": {
        "colab": {
          "base_uri": "https://localhost:8080/"
        },
        "id": "S4erQPBS9JIS",
        "outputId": "0d2d6810-9259-4174-ac56-eee966319fc9"
      },
      "execution_count": 55,
      "outputs": [
        {
          "output_type": "stream",
          "name": "stdout",
          "text": [
            "Epoch 0 in 12.04 sec\n",
            "Training set accuracy 1.0\n",
            "Test set accuracy 0.9827999472618103\n",
            "\n",
            "Epoch 1 in 9.51 sec\n",
            "Training set accuracy 0.9541666507720947\n",
            "Test set accuracy 0.9827999472618103\n",
            "\n",
            "Epoch 2 in 8.42 sec\n",
            "Training set accuracy 0.9541666507720947\n",
            "Test set accuracy 0.9827999472618103\n",
            "\n",
            "Epoch 3 in 8.39 sec\n",
            "Training set accuracy 0.9847500324249268\n",
            "Test set accuracy 0.9827999472618103\n",
            "\n",
            "Epoch 4 in 8.75 sec\n",
            "Training set accuracy 0.9847500324249268\n",
            "Test set accuracy 0.9827999472618103\n",
            "\n",
            "Epoch 5 in 13.22 sec\n",
            "Training set accuracy 0.9916000366210938\n",
            "Test set accuracy 0.9827999472618103\n",
            "\n",
            "Epoch 6 in 10.96 sec\n",
            "Training set accuracy 0.9916000366210938\n",
            "Test set accuracy 0.9827999472618103\n",
            "\n",
            "Epoch 7 in 11.33 sec\n",
            "Training set accuracy 0.9916000366210938\n",
            "Test set accuracy 0.9827999472618103\n",
            "\n",
            "Epoch 8 in 8.40 sec\n",
            "Training set accuracy 0.9916000366210938\n",
            "Test set accuracy 0.9827999472618103\n",
            "\n",
            "Epoch 9 in 8.41 sec\n",
            "Training set accuracy 0.9977166652679443\n",
            "Test set accuracy 0.9827999472618103\n",
            "\n",
            "Epoch 10 in 8.40 sec\n",
            "Training set accuracy 0.9977166652679443\n",
            "Test set accuracy 0.9827999472618103\n",
            "\n",
            "Epoch 11 in 8.39 sec\n",
            "Training set accuracy 0.9977166652679443\n",
            "Test set accuracy 0.9827999472618103\n",
            "\n",
            "Epoch 12 in 8.49 sec\n",
            "Training set accuracy 0.9977166652679443\n",
            "Test set accuracy 0.9827999472618103\n",
            "\n",
            "Epoch 13 in 8.40 sec\n",
            "Training set accuracy 0.9977166652679443\n",
            "Test set accuracy 0.9827999472618103\n",
            "\n",
            "Epoch 14 in 8.40 sec\n",
            "Training set accuracy 0.9977166652679443\n",
            "Test set accuracy 0.9827999472618103\n",
            "\n",
            "Epoch 15 in 8.40 sec\n",
            "Training set accuracy 0.9977166652679443\n",
            "Test set accuracy 0.9827999472618103\n",
            "\n",
            "Epoch 16 in 8.92 sec\n",
            "Training set accuracy 0.9977166652679443\n",
            "Test set accuracy 0.9827999472618103\n",
            "\n",
            "Epoch 17 in 8.47 sec\n",
            "Training set accuracy 1.0\n",
            "Test set accuracy 0.9827999472618103\n",
            "\n",
            "Epoch 18 in 8.46 sec\n",
            "Training set accuracy 1.0\n",
            "Test set accuracy 0.9827999472618103\n",
            "\n",
            "Epoch 19 in 8.39 sec\n",
            "Training set accuracy 1.0\n",
            "Test set accuracy 0.9827999472618103\n",
            "\n"
          ]
        }
      ]
    },
    {
      "cell_type": "code",
      "source": [
        "def get_idxs(log_train_correct_or_not, val=1, num=70):\n",
        "  log_train_correct_or_not = np.asarray(log_train_correct_or_not)\n",
        "  idxs = np.where(np.sum(log_train_correct_or_not, axis=0) == val)[0]\n",
        "  return np.random.choice(idxs, num)"
      ],
      "metadata": {
        "id": "Ye9KCQHsN-8L"
      },
      "execution_count": 89,
      "outputs": []
    },
    {
      "cell_type": "code",
      "source": [
        "# Given difficult indices, easy idxs, and medium idxs:\n",
        "scaled_idxs = {'easy': get_idxs(log_train_correct_or_not, val=5),\n",
        "        'medium': get_idxs(log_train_correct_or_not, val=2),\n",
        "        'hard': get_idxs(log_train_correct_or_not, val=1),\n",
        "        }\n",
        "\n"
      ],
      "metadata": {
        "id": "akPHMZlPOIqY"
      },
      "execution_count": 90,
      "outputs": []
    },
    {
      "cell_type": "code",
      "source": [
        "for epoch in range(num_epochs):\n",
        "  start_time = time.time()\n",
        "  for i, (x, y) in enumerate(training_generator):\n",
        "    y = one_hot(y, n_targets)\n",
        "    params = update(params, x, y)\n",
        "\n",
        "  epoch_time = time.time() - start_time\n",
        "\n",
        "  train_acc, train_correct_or_not = accuracy_and_predictions(params, train_images, train_labels)\n",
        "  test_acc = accuracy(params, test_images, test_labels)\n",
        "  print(\"Epoch {} in {:0.2f} sec\".format(epoch, epoch_time))\n",
        "  print(\"Training set accuracy {}\".format(train_acc))\n",
        "  print(\"Test set accuracy {}\".format(test_acc))\n",
        "  print('')\n",
        "\n",
        "  log_params[epoch]=params"
      ],
      "metadata": {
        "colab": {
          "base_uri": "https://localhost:8080/"
        },
        "id": "ZFBrF5bBRw1-",
        "outputId": "3b1de941-b402-40ed-f178-dabf491b4c5b"
      },
      "execution_count": 82,
      "outputs": [
        {
          "output_type": "stream",
          "name": "stdout",
          "text": [
            "Epoch 0 in 8.46 sec\n",
            "Training set accuracy 0.9541666507720947\n",
            "Test set accuracy 0.949999988079071\n",
            "\n",
            "Epoch 1 in 8.47 sec\n",
            "Training set accuracy 0.9732666611671448\n",
            "Test set accuracy 0.9663999676704407\n",
            "\n",
            "Epoch 2 in 13.66 sec\n",
            "Training set accuracy 0.9847500324249268\n",
            "Test set accuracy 0.9738999605178833\n",
            "\n",
            "Epoch 3 in 10.54 sec\n",
            "Training set accuracy 0.989983320236206\n",
            "Test set accuracy 0.9763000011444092\n",
            "\n",
            "Epoch 4 in 8.56 sec\n",
            "Training set accuracy 0.9916000366210938\n",
            "Test set accuracy 0.9771999716758728\n",
            "\n",
            "Epoch 5 in 12.00 sec\n",
            "Training set accuracy 0.9940333366394043\n",
            "Test set accuracy 0.9787999987602234\n",
            "\n",
            "Epoch 6 in 15.65 sec\n",
            "Training set accuracy 0.9947666525840759\n",
            "Test set accuracy 0.9783999919891357\n",
            "\n",
            "Epoch 7 in 15.64 sec\n",
            "Training set accuracy 0.9966833591461182\n",
            "Test set accuracy 0.9789999723434448\n",
            "\n",
            "Epoch 8 in 11.81 sec\n",
            "Training set accuracy 0.9977166652679443\n",
            "Test set accuracy 0.979699969291687\n",
            "\n",
            "Epoch 9 in 17.00 sec\n",
            "Training set accuracy 0.9996166825294495\n",
            "Test set accuracy 0.9821999669075012\n",
            "\n",
            "Epoch 10 in 11.93 sec\n",
            "Training set accuracy 0.9997166991233826\n",
            "Test set accuracy 0.9822999835014343\n",
            "\n",
            "Epoch 11 in 8.48 sec\n",
            "Training set accuracy 0.9998500347137451\n",
            "Test set accuracy 0.9825999736785889\n",
            "\n",
            "Epoch 12 in 8.39 sec\n",
            "Training set accuracy 0.9999499917030334\n",
            "Test set accuracy 0.9824999570846558\n",
            "\n",
            "Epoch 13 in 8.50 sec\n",
            "Training set accuracy 0.9999666810035706\n",
            "Test set accuracy 0.9824000000953674\n",
            "\n",
            "Epoch 14 in 8.55 sec\n",
            "Training set accuracy 0.9999833703041077\n",
            "Test set accuracy 0.9824000000953674\n",
            "\n",
            "Epoch 15 in 8.61 sec\n",
            "Training set accuracy 0.9999833703041077\n",
            "Test set accuracy 0.982699990272522\n",
            "\n",
            "Epoch 16 in 8.77 sec\n",
            "Training set accuracy 1.0\n",
            "Test set accuracy 0.9824000000953674\n",
            "\n",
            "Epoch 17 in 8.58 sec\n",
            "Training set accuracy 1.0\n",
            "Test set accuracy 0.9828999638557434\n",
            "\n",
            "Epoch 18 in 8.61 sec\n",
            "Training set accuracy 1.0\n",
            "Test set accuracy 0.9827999472618103\n",
            "\n",
            "Epoch 19 in 8.43 sec\n",
            "Training set accuracy 1.0\n",
            "Test set accuracy 0.9827999472618103\n",
            "\n"
          ]
        }
      ]
    },
    {
      "cell_type": "code",
      "source": [
        "data = []\n",
        "for epoch, eigvec1 in log_eigvec1.items():\n",
        "  for kind, idxs in scaled_idxs.items():\n",
        "    energy_log = get_energy(idxs, log_params[epoch], eigvec1, train_images, train_labels)\n",
        "    plt.hist(energy_log, label=kind, alpha=0.5)\n",
        "    for e, idx in zip(energy_log, idxs):\n",
        "      data.append({'energy': e, 'kind': kind, 'epoch': epoch, 'idx': idx})\n",
        "  plt.legend()\n",
        "  plt.show()"
      ],
      "metadata": {
        "colab": {
          "base_uri": "https://localhost:8080/",
          "height": 1000
        },
        "id": "nRaL2SovRddu",
        "outputId": "8c2f9123-47db-464b-c898-2fe047fac5f6"
      },
      "execution_count": 93,
      "outputs": [
        {
          "output_type": "stream",
          "name": "stdout",
          "text": [
            "|████████████████████████████████████████| 70/70 [100%] in 2.2s (31.58/s) \n",
            "|████████████████████████████████████████| 70/70 [100%] in 2.2s (31.93/s) \n",
            "|████████████████████████████████████████| 70/70 [100%] in 2.2s (32.51/s) \n"
          ]
        },
        {
          "output_type": "display_data",
          "data": {
            "text/plain": [
              "<Figure size 432x288 with 1 Axes>"
            ],
            "image/png": "[encoded data removed]"
          },
          "metadata": {
            "needs_background": "light"
          }
        },
        {
          "output_type": "stream",
          "name": "stdout",
          "text": [
            "|████████████████████████████████████████| 70/70 [100%] in 2.1s (32.56/s) \n",
            "|████████████████████████████████████████| 70/70 [100%] in 2.2s (32.27/s) \n",
            "|████████████████████████████████████████| 70/70 [100%] in 2.1s (33.01/s) \n"
          ]
        },
        {
          "output_type": "display_data",
          "data": {
            "text/plain": [
              "<Figure size 432x288 with 1 Axes>"
            ],
            "image/png": "[encoded data removed]"
          },
          "metadata": {
            "needs_background": "light"
          }
        },
        {
          "output_type": "stream",
          "name": "stdout",
          "text": [
            "|████████████████████████████████████████| 70/70 [100%] in 2.1s (32.73/s) \n",
            "|████████████████████████████████████████| 70/70 [100%] in 2.1s (32.85/s) \n",
            "|████████████████████████████████████████| 70/70 [100%] in 2.1s (32.62/s) \n"
          ]
        },
        {
          "output_type": "display_data",
          "data": {
            "text/plain": [
              "<Figure size 432x288 with 1 Axes>"
            ],
            "image/png": "[encoded data removed]"
          },
          "metadata": {
            "needs_background": "light"
          }
        },
        {
          "output_type": "stream",
          "name": "stdout",
          "text": [
            "|████████████████████████████████████████| 70/70 [100%] in 2.2s (32.30/s) \n",
            "|████████████████████████████████████████| 70/70 [100%] in 2.1s (32.94/s) \n",
            "|████████████████████████████████████████| 70/70 [100%] in 2.2s (32.45/s) \n"
          ]
        },
        {
          "output_type": "display_data",
          "data": {
            "text/plain": [
              "<Figure size 432x288 with 1 Axes>"
            ],
            "image/png": "[encoded data removed]"
          },
          "metadata": {
            "needs_background": "light"
          }
        },
        {
          "output_type": "stream",
          "name": "stdout",
          "text": [
            "|████████████████████████████████████████| 70/70 [100%] in 2.1s (33.17/s) \n",
            "|████████████████████████████████████████| 70/70 [100%] in 2.2s (31.82/s) \n",
            "|████████████████████████████████████████| 70/70 [100%] in 2.2s (32.54/s) \n"
          ]
        },
        {
          "output_type": "display_data",
          "data": {
            "text/plain": [
              "<Figure size 432x288 with 1 Axes>"
            ],
            "image/png": "[encoded data removed]"
          },
          "metadata": {
            "needs_background": "light"
          }
        }
      ]
    },
    {
      "cell_type": "code",
      "source": [
        "sns.violinplot(data=pd.DataFrame(data), x='kind', y='energy', hue='epoch')"
      ],
      "metadata": {
        "colab": {
          "base_uri": "https://localhost:8080/",
          "height": 297
        },
        "id": "7zE9NPA4V5VP",
        "outputId": "a95889e2-c2f7-4819-b770-b7ab8b55584a"
      },
      "execution_count": 97,
      "outputs": [
        {
          "output_type": "execute_result",
          "data": {
            "text/plain": [
              "<matplotlib.axes._subplots.AxesSubplot at 0x7f08cece8150>"
            ]
          },
          "metadata": {},
          "execution_count": 97
        },
        {
          "output_type": "display_data",
          "data": {
            "text/plain": [
              "<Figure size 432x288 with 1 Axes>"
            ],
            "image/png": "[encoded data removed]"
          },
          "metadata": {
            "needs_background": "light"
          }
        }
      ]
    },
    {
      "cell_type": "code",
      "source": [
        "# Power law\n",
        "\n",
        "def power_alg_k(hvp_fn, flat_v, eigvecs=None, iters=10):\n",
        "  hvp_v = hvp_fn(flat_v)\n",
        "  flat_hvp_v = get_flat(hvp_v)\n",
        "\n",
        "  if eigvecs is not None:\n",
        "\n",
        "    if len(flat_v.shape) == 1:\n",
        "      flat_v = flat_v[:, None]\n",
        "    if len(flat_hvp_v.shape) == 1:\n",
        "      flat_hvp_v = flat_hvp_v[:, None]\n",
        "    foo = eigvecs.T @ flat_v\n",
        "    foo = eigvecs @ foo\n",
        "    shifted_hvp_v = (flat_hvp_v - foo)\n",
        "\n",
        "  else:\n",
        "    shifted_hvp_v = flat_hvp_v\n",
        "\n",
        "  normed_shifted_hvp_v = shifted_hvp_v /jnp.linalg.norm(shifted_hvp_v)\n",
        "\n",
        "  if iters == 0:\n",
        "    return jnp.dot(flat_v.T, flat_hvp_v), normed_shifted_hvp_v\n",
        "\n",
        "  return power_alg_k(hvp_fn, normed_shifted_hvp_v, eigvecs=eigvecs, iters=iters-1)\n",
        "\n",
        "def get_hvp(f, flat_params, v, x, y):\n",
        "  return grad(lambda flat_params: jnp.vdot(get_flat(grad(f)(flat_params, x, y)), v))(flat_params)\n",
        "\n",
        "def get_h_eigk(params, x, y, topk=5, iters=20):\n",
        "\n",
        "  eigs = []\n",
        "  eigvecs = []\n",
        "\n",
        "  flat_params = get_flat(params)\n",
        "  flat_v = np.random.rand(*flat_params.shape)\n",
        "  hvp = get_hvp(loss, params, flat_v, x, y)\n",
        "  hvp_fn = lambda flat_v: get_hvp(loss, params, flat_v, x, y)\n",
        "\n",
        "  for k in range(topk):\n",
        "    if eigvecs:\n",
        "      np_eigvecs = jnp.asarray(eigvecs).T\n",
        "    else:\n",
        "      np_eigvecs = None\n",
        "    eig, eigvec = power_alg_k(hvp_fn, flat_v, np_eigvecs, iters=iters)\n",
        "\n",
        "    eigs.append(float(eig))\n",
        "    eigvecs.append(eigvec.reshape([1, -1]))\n",
        "\n",
        "  return eigs, eigvecs\n",
        "eigs, eigvecs = get_h_eigk(params, x[:5, :], y[:5, :], topk=1, iters=10)\n"
      ],
      "metadata": {
        "id": "HSNOk0ysTQWY"
      },
      "execution_count": 27,
      "outputs": []
    },
    {
      "cell_type": "code",
      "source": [
        "eigs"
      ],
      "metadata": {
        "colab": {
          "base_uri": "https://localhost:8080/"
        },
        "id": "wRIJxMLZfPc8",
        "outputId": "4dda051d-30ad-4435-a130-807b9add692c"
      },
      "execution_count": 29,
      "outputs": [
        {
          "output_type": "execute_result",
          "data": {
            "text/plain": [
              "[155.87806701660156]"
            ]
          },
          "metadata": {},
          "execution_count": 29
        }
      ]
    },
    {
      "cell_type": "markdown",
      "source": [
        "## Plots"
      ],
      "metadata": {
        "id": "6D_c7YKwzVUf"
      }
    },
    {
      "cell_type": "code",
      "source": [
        "df = pd.DataFrame(log)"
      ],
      "metadata": {
        "id": "JMS3JOoDbSHH"
      },
      "execution_count": null,
      "outputs": []
    },
    {
      "cell_type": "code",
      "source": [
        "#@title [plot] largest eig v. step v. epoch\n",
        "sns.set_context(context='talk')\n",
        "f = plt.figure()\n",
        "sns.lineplot(data=df, x='step', y='eig1', hue='epoch', markers=True,\n",
        "             legend=False)\n",
        "plt.ylabel('Largest $\\lambda$')\n",
        "\n",
        "figname = f\"{nonlinearity}_mnist_lambda-v-step.pdf\"\n",
        "f.savefig(figname, bbox_inches='tight')\n",
        "files.download(figname) \n"
      ],
      "metadata": {
        "id": "enA_F5pbbZYf"
      },
      "execution_count": null,
      "outputs": []
    },
    {
      "cell_type": "code",
      "source": [
        "#@title [plot] largest eig v. epoch \n",
        "f = plt.figure()\n",
        "sns.boxplot(data=df, x='epoch', y='eig1')\n",
        "plt.ylabel('Largest $\\lambda$')\n",
        "ax2 = plt.twinx()\n",
        "sns.lineplot(data=df, x='epoch', y='train', palette=sns.color_palette(\"Blues\", as_cmap=True), ax=ax2)\n",
        "sns.lineplot(data=df, x='epoch', y='test', palette=sns.color_palette(\"Greens\", as_cmap=True), ax=ax2)\n",
        "plt.ylabel('train / test')\n",
        "\n",
        "figname = f\"{nonlinearity}_mnist_lambda-v-epoch.pdf\"\n",
        "f.savefig(figname, bbox_inches='tight')\n",
        "files.download(figname) \n",
        "\n"
      ],
      "metadata": {
        "colab": {
          "base_uri": "https://localhost:8080/",
          "height": 301
        },
        "id": "G86iVzDLfKIK",
        "outputId": "c5bf90be-8cc8-4580-886c-b6fc34d21ed0"
      },
      "execution_count": null,
      "outputs": [
        {
          "output_type": "display_data",
          "data": {
            "text/plain": [
              "<IPython.core.display.Javascript object>"
            ],
            "application/javascript": [
              "\n",
              "    async function download(id, filename, size) {\n",
              "      if (!google.colab.kernel.accessAllowed) {\n",
              "        return;\n",
              "      }\n",
              "      const div = document.createElement('div');\n",
              "      const label = document.createElement('label');\n",
              "      label.textContent = `Downloading \"${filename}\": `;\n",
              "      div.appendChild(label);\n",
              "      const progress = document.createElement('progress');\n",
              "      progress.max = size;\n",
              "      div.appendChild(progress);\n",
              "      document.body.appendChild(div);\n",
              "\n",
              "      const buffers = [];\n",
              "      let downloaded = 0;\n",
              "\n",
              "      const channel = await google.colab.kernel.comms.open(id);\n",
              "      // Send a message to notify the kernel that we're ready.\n",
              "      channel.send({})\n",
              "\n",
              "      for await (const message of channel.messages) {\n",
              "        // Send a message to notify the kernel that we're ready.\n",
              "        channel.send({})\n",
              "        if (message.buffers) {\n",
              "          for (const buffer of message.buffers) {\n",
              "            buffers.push(buffer);\n",
              "            downloaded += buffer.byteLength;\n",
              "            progress.value = downloaded;\n",
              "          }\n",
              "        }\n",
              "      }\n",
              "      const blob = new Blob(buffers, {type: 'application/binary'});\n",
              "      const a = document.createElement('a');\n",
              "      a.href = window.URL.createObjectURL(blob);\n",
              "      a.download = filename;\n",
              "      div.appendChild(a);\n",
              "      a.click();\n",
              "      div.remove();\n",
              "    }\n",
              "  "
            ]
          },
          "metadata": {}
        },
        {
          "output_type": "display_data",
          "data": {
            "text/plain": [
              "<IPython.core.display.Javascript object>"
            ],
            "application/javascript": [
              "download(\"download_a4b9fa5c-38a0-4a66-87c6-c433177a4e3c\", \"sigmoid_mnist_lambda-v-epoch.pdf\", 19646)"
            ]
          },
          "metadata": {}
        },
        {
          "output_type": "display_data",
          "data": {
            "text/plain": [
              "<Figure size 432x288 with 2 Axes>"
            ],
            "image/png": "[encoded data removed]"
          },
          "metadata": {
            "needs_background": "light"
          }
        }
      ]
    },
    {
      "cell_type": "code",
      "source": [
        ""
      ],
      "metadata": {
        "colab": {
          "base_uri": "https://localhost:8080/",
          "height": 17
        },
        "id": "QlCaCdgMe3Cq",
        "outputId": "c1e3970b-fdac-4a89-df7a-b6ffe39103cc"
      },
      "execution_count": null,
      "outputs": [
        {
          "output_type": "display_data",
          "data": {
            "text/plain": [
              "<IPython.core.display.Javascript object>"
            ],
            "application/javascript": [
              "\n",
              "    async function download(id, filename, size) {\n",
              "      if (!google.colab.kernel.accessAllowed) {\n",
              "        return;\n",
              "      }\n",
              "      const div = document.createElement('div');\n",
              "      const label = document.createElement('label');\n",
              "      label.textContent = `Downloading \"${filename}\": `;\n",
              "      div.appendChild(label);\n",
              "      const progress = document.createElement('progress');\n",
              "      progress.max = size;\n",
              "      div.appendChild(progress);\n",
              "      document.body.appendChild(div);\n",
              "\n",
              "      const buffers = [];\n",
              "      let downloaded = 0;\n",
              "\n",
              "      const channel = await google.colab.kernel.comms.open(id);\n",
              "      // Send a message to notify the kernel that we're ready.\n",
              "      channel.send({})\n",
              "\n",
              "      for await (const message of channel.messages) {\n",
              "        // Send a message to notify the kernel that we're ready.\n",
              "        channel.send({})\n",
              "        if (message.buffers) {\n",
              "          for (const buffer of message.buffers) {\n",
              "            buffers.push(buffer);\n",
              "            downloaded += buffer.byteLength;\n",
              "            progress.value = downloaded;\n",
              "          }\n",
              "        }\n",
              "      }\n",
              "      const blob = new Blob(buffers, {type: 'application/binary'});\n",
              "      const a = document.createElement('a');\n",
              "      a.href = window.URL.createObjectURL(blob);\n",
              "      a.download = filename;\n",
              "      div.appendChild(a);\n",
              "      a.click();\n",
              "      div.remove();\n",
              "    }\n",
              "  "
            ]
          },
          "metadata": {}
        },
        {
          "output_type": "display_data",
          "data": {
            "text/plain": [
              "<IPython.core.display.Javascript object>"
            ],
            "application/javascript": [
              "download(\"download_0e9c5cf2-157b-4dcf-97bb-958d4ded7f44\", \"largest_lambda_mnist.pdf\", 14089)"
            ]
          },
          "metadata": {}
        }
      ]
    },
    {
      "cell_type": "markdown",
      "source": [
        "# Simpler application"
      ],
      "metadata": {
        "id": "WstaEV3pIHzR"
      }
    },
    {
      "cell_type": "code",
      "source": [
        "from jax import jacfwd, jacrev\n"
      ],
      "metadata": {
        "id": "DvXC1gTz2IoN"
      },
      "execution_count": 33,
      "outputs": []
    },
    {
      "cell_type": "code",
      "source": [
        "W = jnp.array([1, 1])\n",
        "b = jnp.array([3, 3])\n"
      ],
      "metadata": {
        "id": "nYLYbrbYIQlP"
      },
      "execution_count": null,
      "outputs": []
    },
    {
      "cell_type": "code",
      "source": [
        "key = random.PRNGKey(0)"
      ],
      "metadata": {
        "id": "Ejx5rlAVI44n"
      },
      "execution_count": 31,
      "outputs": []
    },
    {
      "cell_type": "code",
      "source": [
        "# Outputs probability of a label being true.\n",
        "def predict(W, b, inputs):\n",
        "    return jnp.dot(inputs, W) + b\n",
        "\n",
        "# Build a toy dataset.\n",
        "inputs = jnp.array([[0.52, 1.12,  0.77],\n",
        "                   [0.88, -1.08, 0.15],\n",
        "                   [0.52, 0.06, -1.30],\n",
        "                   [0.74, -2.49, 1.39]])\n",
        "targets = jnp.array([True, True, False, True])\n",
        "\n",
        "# Training loss is the negative log-likelihood of the training examples.\n",
        "def loss(params, inputs, targets):\n",
        "  for W, b in params: # assumes 1 layer\n",
        "    preds = predict(W, b, inputs)\n",
        "  label_probs = preds * targets + (1 - preds) * (1 - targets)\n",
        "  return -jnp.sum(jnp.log(label_probs))\n",
        "\n",
        "# Initialize random model coefficients\n",
        "key, W_key, b_key = random.split(key, 3)\n",
        "W = random.normal(W_key, (3,))\n",
        "b = random.normal(b_key, (1,))\n",
        "\n",
        "def get_params(W, b):\n",
        "  return [[W, b]]\n",
        "\n",
        "params = get_params(W, b)"
      ],
      "metadata": {
        "id": "BTUcSJTzIvGx"
      },
      "execution_count": 32,
      "outputs": []
    },
    {
      "cell_type": "code",
      "source": [
        "def get_flat(grads):\n",
        "  return jnp.concatenate([jnp.concatenate([x[0].flatten(), x[1].flatten()]) for x in grads])\n",
        "\n",
        "def get_hvp(f, params, v, x, y):\n",
        "  return grad(lambda params: jnp.vdot(get_flat(grad(f)(params, x, y)), v))(params)"
      ],
      "metadata": {
        "id": "STCrg3Ok7jvp"
      },
      "execution_count": 29,
      "outputs": []
    },
    {
      "cell_type": "code",
      "source": [
        "print(get_sizes(params))\n",
        "grads = grad(loss)(params, inputs, targets)\n",
        "print(get_sizes(grads))\n",
        "flat_grad = get_flat(grads)\n",
        "print(flat_grad.shape)\n",
        "flat_v = np.random.rand(*flat_grad.shape)\n",
        "print(v.shape)"
      ],
      "metadata": {
        "id": "95BgU0Bm7-Ow",
        "colab": {
          "base_uri": "https://localhost:8080/"
        },
        "outputId": "7e1ff06c-a123-4881-8239-0863640127bf"
      },
      "execution_count": null,
      "outputs": [
        {
          "output_type": "stream",
          "name": "stdout",
          "text": [
            "[[(3,), (1,)]]\n",
            "[[(3,), (1,)]]\n",
            "(4,)\n",
            "(4,)\n"
          ]
        }
      ]
    },
    {
      "cell_type": "code",
      "source": [
        "hvp = get_hvp(loss, params, v, inputs, targets)"
      ],
      "metadata": {
        "id": "z78bpq_44U5v"
      },
      "execution_count": null,
      "outputs": []
    },
    {
      "cell_type": "code",
      "source": [
        "def power_alg(hvp_fn, flat_v, iters=10):\n",
        "  hvp_v = hvp_fn(flat_v)\n",
        "  flat_hvp_v = get_flat(hvp_v)\n",
        "  if iters == 0:\n",
        "    return jnp.dot(flat_v, flat_hvp_v)\n",
        "  normed_hvp_v = flat_hvp_v/jnp.linalg.norm(flat_hvp_v)\n",
        "  return power_alg(hvp_fn, normed_hvp_v, iters=iters-1)\n",
        "\n",
        "hvp_fn = lambda v: get_hvp(loss, params, flat_v, inputs, targets)\n",
        "eig1 = power_alg(hvp_fn, v, iters=10)"
      ],
      "metadata": {
        "id": "OWd5xoeK3uh2"
      },
      "execution_count": null,
      "outputs": []
    },
    {
      "cell_type": "code",
      "source": [
        "eig1"
      ],
      "metadata": {
        "colab": {
          "base_uri": "https://localhost:8080/"
        },
        "id": "Cs_ypqijGFPi",
        "outputId": "6e329890-2b78-4845-f00c-164502bf8273"
      },
      "execution_count": null,
      "outputs": [
        {
          "output_type": "execute_result",
          "data": {
            "text/plain": [
              "DeviceArray(26.773132, dtype=float32)"
            ]
          },
          "metadata": {},
          "execution_count": 114
        }
      ]
    },
    {
      "cell_type": "code",
      "source": [
        ""
      ],
      "metadata": {
        "id": "dWe73n3nNNAj"
      },
      "execution_count": null,
      "outputs": []
    }
  ]
}