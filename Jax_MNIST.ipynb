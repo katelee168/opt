{
  "nbformat": 4,
  "nbformat_minor": 0,
  "metadata": {
    "colab": {
      "name": "Jax MNIST",
      "provenance": [],
      "collapsed_sections": []
    },
    "kernelspec": {
      "name": "python3",
      "display_name": "Python 3"
    },
    "language_info": {
      "name": "python"
    }
  },
  "cells": [
    {
      "cell_type": "code",
      "source": [
        "#@title License\n",
        "# Copyright 2018 Google LLC\n",
        "#\n",
        "# Licensed under the Apache License, Version 2.0 (the \"License\");\n",
        "# you may not use this file except in compliance with the License.\n",
        "# You may obtain a copy of the License at\n",
        "#\n",
        "#     https://www.apache.org/licenses/LICENSE-2.0\n",
        "#\n",
        "# Unless required by applicable law or agreed to in writing, software\n",
        "# distributed under the License is distributed on an \"AS IS\" BASIS,\n",
        "# WITHOUT WARRANTIES OR CONDITIONS OF ANY KIND, either express or implied.\n",
        "# See the License for the specific language governing permissions and\n",
        "# limitations under the License.\n",
        "\n",
        "\"\"\"A basic MNIST example using JAX with the mini-libraries stax and optimizers.\n",
        "\n",
        "The mini-library jax.example_libraries.stax is for neural network building, and\n",
        "the mini-library jax.example_libraries.optimizers is for first-order stochastic\n",
        "optimization.\n",
        "\"\"\""
      ],
      "metadata": {
        "colab": {
          "base_uri": "https://localhost:8080/",
          "height": 70
        },
        "id": "UgFcqL9zzuh6",
        "outputId": "81616edc-84d8-437b-82e7-dfd5458c7410"
      },
      "execution_count": 1,
      "outputs": [
        {
          "output_type": "execute_result",
          "data": {
            "text/plain": [
              "'A basic MNIST example using JAX with the mini-libraries stax and optimizers.\\n\\nThe mini-library jax.example_libraries.stax is for neural network building, and\\nthe mini-library jax.example_libraries.optimizers is for first-order stochastic\\noptimization.\\n'"
            ],
            "application/vnd.google.colaboratory.intrinsic+json": {
              "type": "string"
            }
          },
          "metadata": {},
          "execution_count": 1
        }
      ]
    },
    {
      "cell_type": "code",
      "source": [
        "#@title Imports\n",
        "import time\n",
        "import itertools\n",
        "\n",
        "import jax.numpy as jnp\n",
        "from jax import grad, jit, vmap\n",
        "from jax import random\n",
        "\n",
        "import matplotlib.pyplot as plt\n",
        "import pandas as pd\n",
        "import seaborn as sns\n",
        "\n",
        "from google.colab import files\n",
        "import time\n",
        "\n",
        "!pip install alive_progress\n",
        "from alive_progress import alive_bar"
      ],
      "metadata": {
        "id": "uutSDVLuzxQw",
        "cellView": "form",
        "colab": {
          "base_uri": "https://localhost:8080/"
        },
        "outputId": "e5490603-3f01-43b9-e5e9-3932c303e775"
      },
      "execution_count": 2,
      "outputs": [
        {
          "output_type": "stream",
          "name": "stdout",
          "text": [
            "Requirement already satisfied: alive_progress in /usr/local/lib/python3.7/dist-packages (2.4.1)\n",
            "Requirement already satisfied: grapheme==0.6.0 in /usr/local/lib/python3.7/dist-packages (from alive_progress) (0.6.0)\n",
            "Requirement already satisfied: about-time==3.1.1 in /usr/local/lib/python3.7/dist-packages (from alive_progress) (3.1.1)\n"
          ]
        }
      ]
    },
    {
      "cell_type": "markdown",
      "metadata": {
        "id": "MTVcKi-ZYB3R"
      },
      "source": [
        "## Hyperparameters\n",
        "Let's get a few bookkeeping items out of the way."
      ]
    },
    {
      "cell_type": "code",
      "execution_count": 3,
      "metadata": {
        "id": "-fmWA06xYE7d"
      },
      "outputs": [],
      "source": [
        "# A helper function to randomly initialize weights and biases\n",
        "# for a dense neural network layer\n",
        "def random_layer_params(m, n, key, scale=1e-2):\n",
        "  w_key, b_key = random.split(key)\n",
        "  return scale * random.normal(w_key, (n, m)), scale * random.normal(b_key, (n,))\n",
        "\n",
        "# Initialize all layers for a fully-connected neural network with sizes \"sizes\"\n",
        "def init_network_params(sizes, key):\n",
        "  keys = random.split(key, len(sizes))\n",
        "  return [random_layer_params(m, n, k) for m, n, k in zip(sizes[:-1], sizes[1:], keys)]"
      ]
    },
    {
      "cell_type": "markdown",
      "metadata": {
        "id": "BtoNk_yxWtIw"
      },
      "source": [
        "## Auto-batching predictions\n",
        "\n",
        "Let us first define our prediction function. Note that we're defining this for a _single_ image example. We're going to use JAX's `vmap` function to automatically handle mini-batches, with no performance penalty."
      ]
    },
    {
      "cell_type": "code",
      "source": [
        "nonlinearity = \"relu\""
      ],
      "metadata": {
        "id": "nNfFdMT5Ejlj"
      },
      "execution_count": 4,
      "outputs": []
    },
    {
      "cell_type": "code",
      "execution_count": 5,
      "metadata": {
        "id": "7APc6tD7TiuZ"
      },
      "outputs": [],
      "source": [
        "from jax.scipy.special import logsumexp\n",
        "from jax.nn import sigmoid\n",
        "\n",
        "def relu(x):\n",
        "  return jnp.maximum(0, x)\n",
        "\n",
        "def predict(params, image):\n",
        "  # per-example predictions\n",
        "  activations = image\n",
        "  for w, b in params[:-1]:\n",
        "    outputs = jnp.dot(w, activations) + b\n",
        "    if nonlinearity == 'relu':\n",
        "      activations = relu(outputs)\n",
        "    elif nonlinearity == \"sigmoid\":\n",
        "      activations = sigmoid(outputs)\n",
        "    else:\n",
        "      raise ValueError(f'{nonlinearity} not supported')\n",
        "  \n",
        "  final_w, final_b = params[-1]\n",
        "  logits = jnp.dot(final_w, activations) + final_b\n",
        "  return logits - logsumexp(logits)"
      ]
    },
    {
      "cell_type": "markdown",
      "metadata": {
        "id": "dRW_TvCTWgaP"
      },
      "source": [
        "Let's check that our prediction function only works on single images."
      ]
    },
    {
      "cell_type": "code",
      "source": [
        "layer_sizes = [784, 512, 512, 10]\n",
        "# layer_sizes = [784, 24, 24, 10]\n",
        "step_size = 0.1\n",
        "batch_size = 128\n",
        "n_targets = 10\n",
        "params = init_network_params(layer_sizes, random.PRNGKey(0))"
      ],
      "metadata": {
        "colab": {
          "base_uri": "https://localhost:8080/"
        },
        "id": "-juK_aSoY7zR",
        "outputId": "eae95031-cb6a-46b1-9761-697df74d4030"
      },
      "execution_count": 6,
      "outputs": [
        {
          "output_type": "stream",
          "name": "stderr",
          "text": [
            "WARNING:absl:No GPU/TPU found, falling back to CPU. (Set TF_CPP_MIN_LOG_LEVEL=0 and rerun for more info.)\n"
          ]
        }
      ]
    },
    {
      "cell_type": "code",
      "execution_count": 7,
      "metadata": {
        "id": "4sW2A5mnXHc5",
        "outputId": "8e465996-8d5c-4a02-c4fa-5912064d8af5",
        "colab": {
          "base_uri": "https://localhost:8080/"
        }
      },
      "outputs": [
        {
          "output_type": "stream",
          "name": "stdout",
          "text": [
            "(10,)\n"
          ]
        }
      ],
      "source": [
        "# This works on single examples\n",
        "random_flattened_image = random.normal(random.PRNGKey(1), (28 * 28,))\n",
        "preds = predict(params, random_flattened_image)\n",
        "print(preds.shape)"
      ]
    },
    {
      "cell_type": "code",
      "execution_count": 8,
      "metadata": {
        "id": "PpyQxuedXfhp",
        "outputId": "f14f9152-1605-46ba-cd84-964e7bdd0d4e",
        "colab": {
          "base_uri": "https://localhost:8080/"
        }
      },
      "outputs": [
        {
          "output_type": "stream",
          "name": "stdout",
          "text": [
            "Invalid shapes!\n"
          ]
        }
      ],
      "source": [
        "# Doesn't work with a batch\n",
        "random_flattened_images = random.normal(random.PRNGKey(1), (10, 28 * 28))\n",
        "try:\n",
        "  preds = predict(params, random_flattened_images)\n",
        "except TypeError:\n",
        "  print('Invalid shapes!')"
      ]
    },
    {
      "cell_type": "code",
      "execution_count": 9,
      "metadata": {
        "id": "oJOOncKMXbwK",
        "outputId": "24122655-6aab-4d1e-d46b-6608932271b2",
        "colab": {
          "base_uri": "https://localhost:8080/"
        }
      },
      "outputs": [
        {
          "output_type": "stream",
          "name": "stdout",
          "text": [
            "(10, 10)\n"
          ]
        }
      ],
      "source": [
        "# Let's upgrade it to handle batches using `vmap`\n",
        "\n",
        "# Make a batched version of the `predict` function\n",
        "batched_predict = vmap(predict, in_axes=(None, 0))\n",
        "\n",
        "# `batched_predict` has the same call signature as `predict`\n",
        "batched_preds = batched_predict(params, random_flattened_images)\n",
        "print(batched_preds.shape)"
      ]
    },
    {
      "cell_type": "markdown",
      "metadata": {
        "id": "elsG6nX03BvW"
      },
      "source": [
        "At this point, we have all the ingredients we need to define our neural network and train it. We've built an auto-batched version of `predict`, which we should be able to use in a loss function. We should be able to use `grad` to take the derivative of the loss with respect to the neural network parameters. Last, we should be able to use `jit` to speed up everything."
      ]
    },
    {
      "cell_type": "markdown",
      "metadata": {
        "id": "NwDuFqc9X7ER"
      },
      "source": [
        "## Utility and loss functions"
      ]
    },
    {
      "cell_type": "code",
      "execution_count": 10,
      "metadata": {
        "id": "6lTI6I4lWdh5"
      },
      "outputs": [],
      "source": [
        "def one_hot(x, k, dtype=jnp.float32):\n",
        "  \"\"\"Create a one-hot encoding of x of size k.\"\"\"\n",
        "  return jnp.array(x[:, None] == jnp.arange(k), dtype)\n",
        "  \n",
        "def accuracy(params, images, targets):\n",
        "  target_class = jnp.argmax(targets, axis=1)\n",
        "  predicted_class = jnp.argmax(batched_predict(params, images), axis=1)\n",
        "  return jnp.mean(predicted_class == target_class)\n",
        "\n",
        "def accuracy_and_predictions(params, images, targets):\n",
        "  target_class = jnp.argmax(targets, axis=1)\n",
        "  predicted_class = jnp.argmax(batched_predict(params, images), axis=1)\n",
        "  correct_or_not = predicted_class == target_class\n",
        "  return jnp.mean(correct_or_not), correct_or_not\n",
        "\n",
        "def loss(params, images, targets):\n",
        "  preds = batched_predict(params, images)\n",
        "  return -jnp.mean(preds * targets)\n",
        "\n",
        "@jit\n",
        "def update(params, x, y):\n",
        "  grads = grad(loss)(params, x, y)\n",
        "  return [(w - step_size * dw, b - step_size * db)\n",
        "          for (w, b), (dw, db) in zip(params, grads)]"
      ]
    },
    {
      "cell_type": "markdown",
      "metadata": {
        "id": "umJJGZCC2oKl"
      },
      "source": [
        "## Data Loading with PyTorch\n",
        "\n",
        "JAX is laser-focused on program transformations and accelerator-backed NumPy, so we don't include data loading or munging in the JAX library. There are already a lot of great data loaders out there, so let's just use them instead of reinventing anything. We'll grab PyTorch's data loader, and make a tiny shim to make it work with NumPy arrays."
      ]
    },
    {
      "cell_type": "code",
      "execution_count": 11,
      "metadata": {
        "id": "gEvWt8_u2pqG",
        "outputId": "cc2e2798-c646-42d5-ba05-872df8ce3ae7",
        "colab": {
          "base_uri": "https://localhost:8080/"
        }
      },
      "outputs": [
        {
          "output_type": "stream",
          "name": "stdout",
          "text": [
            "Requirement already satisfied: torch in /usr/local/lib/python3.7/dist-packages (1.11.0+cu113)\n",
            "Requirement already satisfied: torchvision in /usr/local/lib/python3.7/dist-packages (0.12.0+cu113)\n",
            "Requirement already satisfied: typing-extensions in /usr/local/lib/python3.7/dist-packages (from torch) (4.2.0)\n",
            "Requirement already satisfied: requests in /usr/local/lib/python3.7/dist-packages (from torchvision) (2.23.0)\n",
            "Requirement already satisfied: numpy in /usr/local/lib/python3.7/dist-packages (from torchvision) (1.21.6)\n",
            "Requirement already satisfied: pillow!=8.3.*,>=5.3.0 in /usr/local/lib/python3.7/dist-packages (from torchvision) (7.1.2)\n",
            "Requirement already satisfied: chardet<4,>=3.0.2 in /usr/local/lib/python3.7/dist-packages (from requests->torchvision) (3.0.4)\n",
            "Requirement already satisfied: idna<3,>=2.5 in /usr/local/lib/python3.7/dist-packages (from requests->torchvision) (2.10)\n",
            "Requirement already satisfied: certifi>=2017.4.17 in /usr/local/lib/python3.7/dist-packages (from requests->torchvision) (2021.10.8)\n",
            "Requirement already satisfied: urllib3!=1.25.0,!=1.25.1,<1.26,>=1.21.1 in /usr/local/lib/python3.7/dist-packages (from requests->torchvision) (1.24.3)\n"
          ]
        }
      ],
      "source": [
        "!pip install torch torchvision"
      ]
    },
    {
      "cell_type": "code",
      "execution_count": 12,
      "metadata": {
        "cellView": "both",
        "id": "94PjXZ8y3dVF"
      },
      "outputs": [],
      "source": [
        "import numpy as np\n",
        "from torch.utils import data\n",
        "from torchvision.datasets import MNIST\n",
        "\n",
        "def numpy_collate(batch):\n",
        "  if isinstance(batch[0], np.ndarray):\n",
        "    return np.stack(batch)\n",
        "  elif isinstance(batch[0], (tuple,list)):\n",
        "    transposed = zip(*batch)\n",
        "    return [numpy_collate(samples) for samples in transposed]\n",
        "  else:\n",
        "    return np.array(batch)\n",
        "\n",
        "class NumpyLoader(data.DataLoader):\n",
        "  def __init__(self, dataset, batch_size=1,\n",
        "                shuffle=False, sampler=None,\n",
        "                batch_sampler=None, num_workers=0,\n",
        "                pin_memory=False, drop_last=False,\n",
        "                timeout=0, worker_init_fn=None):\n",
        "    super(self.__class__, self).__init__(dataset,\n",
        "        batch_size=batch_size,\n",
        "        shuffle=shuffle,\n",
        "        sampler=sampler,\n",
        "        batch_sampler=batch_sampler,\n",
        "        num_workers=num_workers,\n",
        "        collate_fn=numpy_collate,\n",
        "        pin_memory=pin_memory,\n",
        "        drop_last=drop_last,\n",
        "        timeout=timeout,\n",
        "        worker_init_fn=worker_init_fn)\n",
        "\n",
        "class FlattenAndCast(object):\n",
        "  def __call__(self, pic):\n",
        "    return np.ravel(np.array(pic, dtype=jnp.float32))"
      ]
    },
    {
      "cell_type": "code",
      "execution_count": 13,
      "metadata": {
        "id": "l314jsfP4TN4"
      },
      "outputs": [],
      "source": [
        "# Define our dataset, using torch datasets\n",
        "mnist_dataset = MNIST('/tmp/mnist/', download=True, transform=FlattenAndCast())\n",
        "training_generator = NumpyLoader(mnist_dataset, batch_size=batch_size, num_workers=0)"
      ]
    },
    {
      "cell_type": "code",
      "execution_count": 14,
      "metadata": {
        "id": "FTNo4beUvb6t",
        "outputId": "9973ec29-d6d7-4473-efab-ce8815e0137e",
        "colab": {
          "base_uri": "https://localhost:8080/"
        }
      },
      "outputs": [
        {
          "output_type": "stream",
          "name": "stderr",
          "text": [
            "/usr/local/lib/python3.7/dist-packages/torchvision/datasets/mnist.py:75: UserWarning: train_data has been renamed data\n",
            "  warnings.warn(\"train_data has been renamed data\")\n",
            "/usr/local/lib/python3.7/dist-packages/torchvision/datasets/mnist.py:65: UserWarning: train_labels has been renamed targets\n",
            "  warnings.warn(\"train_labels has been renamed targets\")\n",
            "/usr/local/lib/python3.7/dist-packages/torchvision/datasets/mnist.py:80: UserWarning: test_data has been renamed data\n",
            "  warnings.warn(\"test_data has been renamed data\")\n",
            "/usr/local/lib/python3.7/dist-packages/torchvision/datasets/mnist.py:70: UserWarning: test_labels has been renamed targets\n",
            "  warnings.warn(\"test_labels has been renamed targets\")\n"
          ]
        }
      ],
      "source": [
        "# Get the full train dataset (for checking accuracy while training)\n",
        "train_images = np.array(mnist_dataset.train_data).reshape(len(mnist_dataset.train_data), -1)\n",
        "train_labels = one_hot(np.array(mnist_dataset.train_labels), n_targets)\n",
        "\n",
        "# Get full test dataset\n",
        "mnist_dataset_test = MNIST('/tmp/mnist/', download=True, train=False)\n",
        "test_images = jnp.array(mnist_dataset_test.test_data.numpy().reshape(len(mnist_dataset_test.test_data), -1), dtype=jnp.float32)\n",
        "test_labels = one_hot(np.array(mnist_dataset_test.test_labels), n_targets)"
      ]
    },
    {
      "cell_type": "markdown",
      "metadata": {
        "id": "xxPd6Qw3Z98v"
      },
      "source": [
        "## Training Loop"
      ]
    },
    {
      "cell_type": "code",
      "source": [
        "def get_sizes(l):\n",
        "  \"\"\"Get size of arrays in tuples in list\"\"\"\n",
        "  return [[x.shape for x in y] for y in l]\n",
        "\n",
        "def get_flat(list_tuple_array):\n",
        "  \"\"\"Flatten all parameters or gradients\"\"\"\n",
        "  return jnp.concatenate([jnp.concatenate([x[0].flatten(), x[1].flatten()]) for x in list_tuple_array])\n",
        "\n",
        "def get_hvp(f, flat_params, v, x, y):\n",
        "  return grad(lambda flat_params: jnp.vdot(get_flat(grad(f)(flat_params, x, y)), v))(flat_params)"
      ],
      "metadata": {
        "id": "5gGYRjgJI8xE"
      },
      "execution_count": 15,
      "outputs": []
    },
    {
      "cell_type": "code",
      "source": [
        "def power_alg(hvp_fn, flat_v, iters=10):\n",
        "  hvp_v = hvp_fn(flat_v)\n",
        "  flat_hvp_v = get_flat(hvp_v)\n",
        "  normed_hvp_v = flat_hvp_v/jnp.linalg.norm(flat_hvp_v)\n",
        "  if iters == 0:\n",
        "    return jnp.dot(flat_v, flat_hvp_v), normed_hvp_v\n",
        "\n",
        "  return power_alg(hvp_fn, normed_hvp_v, iters=iters-1)"
      ],
      "metadata": {
        "id": "PUeRtILKQS9v"
      },
      "execution_count": 16,
      "outputs": []
    },
    {
      "cell_type": "code",
      "source": [
        "num_epochs = 1\n",
        "LOG_DATA = False\n",
        "LOG_EVERY = 25"
      ],
      "metadata": {
        "id": "cq92RPrxZsZO"
      },
      "execution_count": 17,
      "outputs": []
    },
    {
      "cell_type": "code",
      "source": [
        "layer_sizes = [784, 512, 512, 10]\n",
        "# layer_sizes = [784, 24, 24, 10]\n",
        "step_size = 0.1\n",
        "batch_size = 128\n",
        "n_targets = 10\n",
        "params = init_network_params(layer_sizes, random.PRNGKey(0))"
      ],
      "metadata": {
        "id": "dXMkcZJJOYbT"
      },
      "execution_count": 18,
      "outputs": []
    },
    {
      "cell_type": "code",
      "source": [
        "def get_h_eig1(params, x, y, iters=20):\n",
        "  flat_params = get_flat(params)\n",
        "  flat_v = np.random.rand(*flat_params.shape)\n",
        "  hvp = get_hvp(loss, params, flat_v, x, y)\n",
        "  hvp_fn = lambda flat_v: get_hvp(loss, params, flat_v, x, y)\n",
        "\n",
        "  eig1, eigvec1 = power_alg(hvp_fn, flat_v, iters=iters)\n",
        "  return eig1, eigvec1"
      ],
      "metadata": {
        "id": "iDVLOac75Xe-"
      },
      "execution_count": 19,
      "outputs": []
    },
    {
      "cell_type": "code",
      "execution_count": 20,
      "metadata": {
        "id": "X2DnZo3iYj18",
        "colab": {
          "base_uri": "https://localhost:8080/"
        },
        "outputId": "3d3a71bf-a9fd-4cb3-ad11-85433e0d49a2"
      },
      "outputs": [
        {
          "output_type": "stream",
          "name": "stdout",
          "text": [
            "Epoch 0 in 21.47 sec\n",
            "Training set accuracy 0.9541666507720947\n",
            "Test set accuracy 0.949999988079071\n",
            "\n"
          ]
        }
      ],
      "source": [
        "log = []\n",
        "for epoch in range(num_epochs):\n",
        "  start_time = time.time()\n",
        "  for i, (x, y) in enumerate(training_generator):\n",
        "    y = one_hot(y, n_targets)\n",
        "    params = update(params, x, y)\n",
        "\n",
        "    if LOG_DATA:\n",
        "      if i % LOG_EVERY == 0:\n",
        "        \n",
        "        eig1, eigvec1 = get_h_eig1(params, x, y, iters=20)\n",
        "        # train_acc = accuracy(params, train_images, train_labels)\n",
        "        train_acc, train_correct_or_not = accuracy_and_predictions(params, train_images, train_labels)\n",
        "        test_acc = accuracy(params, test_images, test_labels)\n",
        "        log.append({'step': i, \n",
        "                    'epoch': epoch, \n",
        "                    'eig1': float(eig1),\n",
        "                    'train': float(train_acc),\n",
        "                    'test': float(test_acc),}\n",
        "                  )\n",
        "\n",
        "  epoch_time = time.time() - start_time\n",
        "\n",
        "  train_acc, train_correct_or_not = accuracy_and_predictions(params, train_images, train_labels)\n",
        "  test_acc = accuracy(params, test_images, test_labels)\n",
        "  print(\"Epoch {} in {:0.2f} sec\".format(epoch, epoch_time))\n",
        "  print(\"Training set accuracy {}\".format(train_acc))\n",
        "  print(\"Test set accuracy {}\".format(test_acc))\n",
        "  if LOG_DATA:\n",
        "    print('Eig1: ', eig1)\n",
        "  print('')\n",
        "\n",
        "  "
      ]
    },
    {
      "cell_type": "code",
      "source": [
        "startt = time.time()\n",
        "eig1, eigvec1 = get_h_eig1(params, x, y, iters=10)\n",
        "print(time.time()-startt)"
      ],
      "metadata": {
        "colab": {
          "base_uri": "https://localhost:8080/"
        },
        "id": "V8c9qfKQ5idH",
        "outputId": "a0e3e00c-8327-4eda-b91f-908b2ea3d579"
      },
      "execution_count": 21,
      "outputs": [
        {
          "output_type": "stream",
          "name": "stdout",
          "text": [
            "3.22920823097229\n"
          ]
        }
      ]
    },
    {
      "cell_type": "code",
      "source": [
        "# 1. list of datapoints that are misclassified\n",
        "wrong_idxs = np.where(~train_correct_or_not)[0]\n",
        "right_idxs = np.where(train_correct_or_not)[0]\n"
      ],
      "metadata": {
        "id": "w1wDkzP1zLfj"
      },
      "execution_count": null,
      "outputs": []
    },
    {
      "cell_type": "code",
      "source": [
        "def get_energy(idxs, params, eigvec1, x, y):\n",
        "  energy_log = []\n",
        "  with alive_bar(1000) as bar:\n",
        "    for i, idx in enumerate(idxs):\n",
        "      bar()\n",
        "      ex = x[idx][None, :]\n",
        "      ey = y[idx][None, :]\n",
        "      # 2. The gradient at the examples\n",
        "      egrad = grad(loss)(params, ex, ey)\n",
        "\n",
        "      # 3. top k eigvec of H \n",
        "      flat_egrad = get_flat(egrad)\n",
        "      eproj1 = np.dot(flat_egrad, eigvec1) * eigvec1\n",
        "\n",
        "      # 4. ✨ energy ✨\n",
        "      eenergy = np.linalg.norm(eproj1) / np.linalg.norm(flat_egrad)\n",
        "      energy_log.append(eenergy)\n",
        "  return energy_log\n",
        "  "
      ],
      "metadata": {
        "id": "O5G32XyG0US8"
      },
      "execution_count": 49,
      "outputs": []
    },
    {
      "cell_type": "code",
      "source": [
        "sub_right_idxs = np.random.choice(right_idxs, 1000)\n",
        "sub_wrong_idxs = np.random.choice(wrong_idxs, 1000)\n"
      ],
      "metadata": {
        "id": "UDd5Wdtp7IQ9"
      },
      "execution_count": null,
      "outputs": []
    },
    {
      "cell_type": "code",
      "source": [
        "wrong_energy = get_energy(sub_wrong_idxs, params, eigvec1, train_images, train_labels)\n",
        "\n",
        "right_energy = get_energy(sub_right_idxs, params, eigvec1, train_images, train_labels)\n"
      ],
      "metadata": {
        "colab": {
          "base_uri": "https://localhost:8080/"
        },
        "id": "ucJv_WYX20o7",
        "outputId": "50882071-5172-4dce-f4f5-e4e22841c8f3"
      },
      "execution_count": null,
      "outputs": [
        {
          "output_type": "stream",
          "name": "stdout",
          "text": [
            "|████████████████████████████████████████| 1000/1000 [100%] in 28.0s (35.74/s) \n",
            "|████████████████████████████████████████| 1000/1000 [100%] in 27.9s (35.85/s) \n"
          ]
        }
      ]
    },
    {
      "cell_type": "code",
      "source": [
        "plt.hist(wrong_energy, label='wrong', alpha=0.5)\n",
        "plt.hist(right_energy, label='right', alpha=0.5)\n",
        "plt.legend()"
      ],
      "metadata": {
        "colab": {
          "base_uri": "https://localhost:8080/",
          "height": 282
        },
        "id": "CfutAbq18B9a",
        "outputId": "596373af-7650-491f-ee9f-832e2cb4c07c"
      },
      "execution_count": null,
      "outputs": [
        {
          "output_type": "execute_result",
          "data": {
            "text/plain": [
              "<matplotlib.legend.Legend at 0x7f9abf843790>"
            ]
          },
          "metadata": {},
          "execution_count": 115
        },
        {
          "output_type": "display_data",
          "data": {
            "text/plain": [
              "<Figure size 432x288 with 1 Axes>"
            ],
            "image/png": "[encoded data removed]"
          },
          "metadata": {
            "needs_background": "light"
          }
        }
      ]
    },
    {
      "cell_type": "code",
      "source": [
        "a = np.asarray([0]).reshape([1, ])"
      ],
      "metadata": {
        "id": "7JUtT8vLemdR"
      },
      "execution_count": 25,
      "outputs": []
    },
    {
      "cell_type": "code",
      "source": [
        "a.shape"
      ],
      "metadata": {
        "colab": {
          "base_uri": "https://localhost:8080/"
        },
        "id": "nNqQvCP3eqfd",
        "outputId": "c24dd2be-3a15-43e0-aa41-a3996306cccc"
      },
      "execution_count": 26,
      "outputs": [
        {
          "output_type": "execute_result",
          "data": {
            "text/plain": [
              "(1,)"
            ]
          },
          "metadata": {},
          "execution_count": 26
        }
      ]
    },
    {
      "cell_type": "code",
      "source": [
        "len(a.shape) == 0"
      ],
      "metadata": {
        "colab": {
          "base_uri": "https://localhost:8080/"
        },
        "id": "A46UMpG8erO_",
        "outputId": "d87ee816-2289-45c6-d219-dba7d091fd96"
      },
      "execution_count": 27,
      "outputs": [
        {
          "output_type": "execute_result",
          "data": {
            "text/plain": [
              "1"
            ]
          },
          "metadata": {},
          "execution_count": 27
        }
      ]
    },
    {
      "cell_type": "code",
      "source": [
        "# Power law\n",
        "\n",
        "def power_alg_k(hvp_fn, flat_v, eigvecs=None, iters=10):\n",
        "  hvp_v = hvp_fn(flat_v)\n",
        "  flat_hvp_v = get_flat(hvp_v)\n",
        "\n",
        "  if eigvecs is not None:\n",
        "\n",
        "    if len(flat_v.shape) == 1:\n",
        "      flat_v = flat_v[:, None]\n",
        "    if len(flat_hvp_v.shape) == 1:\n",
        "      flat_hvp_v = flat_hvp_v[:, None]\n",
        "    foo = eigvecs.T @ flat_v\n",
        "    foo = eigvecs @ foo\n",
        "    shifted_hvp_v = (flat_hvp_v - foo)\n",
        "\n",
        "  else:\n",
        "    shifted_hvp_v = flat_hvp_v\n",
        "\n",
        "  normed_shifted_hvp_v = shifted_hvp_v /jnp.linalg.norm(shifted_hvp_v)\n",
        "\n",
        "  if iters == 0:\n",
        "    return jnp.dot(flat_v.T, flat_hvp_v), normed_shifted_hvp_v\n",
        "\n",
        "  return power_alg_k(hvp_fn, normed_shifted_hvp_v, eigvecs=eigvecs, iters=iters-1)\n",
        "\n",
        "def get_hvp(f, flat_params, v, x, y):\n",
        "  return grad(lambda flat_params: jnp.vdot(get_flat(grad(f)(flat_params, x, y)), v))(flat_params)\n",
        "\n",
        "def get_h_eigk(params, x, y, topk=5, iters=20):\n",
        "\n",
        "  eigs = []\n",
        "  eigvecs = []\n",
        "\n",
        "  flat_params = get_flat(params)\n",
        "  flat_v = np.random.rand(*flat_params.shape)\n",
        "  hvp = get_hvp(loss, params, flat_v, x, y)\n",
        "  hvp_fn = lambda flat_v: get_hvp(loss, params, flat_v, x, y)\n",
        "\n",
        "  for k in range(topk):\n",
        "    if eigvecs:\n",
        "      np_eigvecs = jnp.asarray(eigvecs).T\n",
        "    else:\n",
        "      np_eigvecs = None\n",
        "    eig, eigvec = power_alg_k(hvp_fn, flat_v, np_eigvecs, iters=iters)\n",
        "\n",
        "    eigs.append(float(eig))\n",
        "    eigvecs.append(eigvec.reshape([1, -1]))\n",
        "\n",
        "  return eigs, eigvecs\n",
        "eigs, eigvecs = get_h_eigk(params, x[:5, :], y[:5, :], topk=2, iters=10)\n"
      ],
      "metadata": {
        "colab": {
          "base_uri": "https://localhost:8080/"
        },
        "id": "HSNOk0ysTQWY",
        "outputId": "2270fdc7-142c-4a4f-efec-4183cc873986"
      },
      "execution_count": null,
      "outputs": [
        {
          "name": "stdout",
          "output_type": "stream",
          "text": [
            "> <ipython-input-47-64632916072d>(49)get_h_eigk()\n",
            "-> eigvecs.append(eigvec.reshape([1, -1]))\n",
            "(Pdb) c\n"
          ]
        }
      ]
    },
    {
      "cell_type": "code",
      "source": [
        "eigs"
      ],
      "metadata": {
        "colab": {
          "base_uri": "https://localhost:8080/",
          "height": 166
        },
        "id": "wRIJxMLZfPc8",
        "outputId": "7d9a2ffd-3512-41e3-efb9-4a29f9046f98"
      },
      "execution_count": 1,
      "outputs": [
        {
          "output_type": "error",
          "ename": "NameError",
          "evalue": "ignored",
          "traceback": [
            "\u001b[0;31m---------------------------------------------------------------------------\u001b[0m",
            "\u001b[0;31mNameError\u001b[0m                                 Traceback (most recent call last)",
            "\u001b[0;32m<ipython-input-1-e89131936efd>\u001b[0m in \u001b[0;36m<module>\u001b[0;34m()\u001b[0m\n\u001b[0;32m----> 1\u001b[0;31m \u001b[0meigs\u001b[0m\u001b[0;34m\u001b[0m\u001b[0;34m\u001b[0m\u001b[0m\n\u001b[0m",
            "\u001b[0;31mNameError\u001b[0m: name 'eigs' is not defined"
          ]
        }
      ]
    },
    {
      "cell_type": "markdown",
      "source": [
        "## Plots"
      ],
      "metadata": {
        "id": "6D_c7YKwzVUf"
      }
    },
    {
      "cell_type": "code",
      "source": [
        "df = pd.DataFrame(log)"
      ],
      "metadata": {
        "id": "JMS3JOoDbSHH"
      },
      "execution_count": null,
      "outputs": []
    },
    {
      "cell_type": "code",
      "source": [
        "#@title [plot] largest eig v. step v. epoch\n",
        "sns.set_context(context='talk')\n",
        "f = plt.figure()\n",
        "sns.lineplot(data=df, x='step', y='eig1', hue='epoch', markers=True,\n",
        "             legend=False)\n",
        "plt.ylabel('Largest $\\lambda$')\n",
        "\n",
        "figname = f\"{nonlinearity}_mnist_lambda-v-step.pdf\"\n",
        "f.savefig(figname, bbox_inches='tight')\n",
        "files.download(figname) \n"
      ],
      "metadata": {
        "id": "enA_F5pbbZYf"
      },
      "execution_count": null,
      "outputs": []
    },
    {
      "cell_type": "code",
      "source": [
        "#@title [plot] largest eig v. epoch \n",
        "f = plt.figure()\n",
        "sns.boxplot(data=df, x='epoch', y='eig1')\n",
        "plt.ylabel('Largest $\\lambda$')\n",
        "ax2 = plt.twinx()\n",
        "sns.lineplot(data=df, x='epoch', y='train', palette=sns.color_palette(\"Blues\", as_cmap=True), ax=ax2)\n",
        "sns.lineplot(data=df, x='epoch', y='test', palette=sns.color_palette(\"Greens\", as_cmap=True), ax=ax2)\n",
        "plt.ylabel('train / test')\n",
        "\n",
        "figname = f\"{nonlinearity}_mnist_lambda-v-epoch.pdf\"\n",
        "f.savefig(figname, bbox_inches='tight')\n",
        "files.download(figname) \n",
        "\n"
      ],
      "metadata": {
        "colab": {
          "base_uri": "https://localhost:8080/",
          "height": 301
        },
        "id": "G86iVzDLfKIK",
        "outputId": "c5bf90be-8cc8-4580-886c-b6fc34d21ed0"
      },
      "execution_count": null,
      "outputs": [
        {
          "output_type": "display_data",
          "data": {
            "text/plain": [
              "<IPython.core.display.Javascript object>"
            ],
            "application/javascript": [
              "\n",
              "    async function download(id, filename, size) {\n",
              "      if (!google.colab.kernel.accessAllowed) {\n",
              "        return;\n",
              "      }\n",
              "      const div = document.createElement('div');\n",
              "      const label = document.createElement('label');\n",
              "      label.textContent = `Downloading \"${filename}\": `;\n",
              "      div.appendChild(label);\n",
              "      const progress = document.createElement('progress');\n",
              "      progress.max = size;\n",
              "      div.appendChild(progress);\n",
              "      document.body.appendChild(div);\n",
              "\n",
              "      const buffers = [];\n",
              "      let downloaded = 0;\n",
              "\n",
              "      const channel = await google.colab.kernel.comms.open(id);\n",
              "      // Send a message to notify the kernel that we're ready.\n",
              "      channel.send({})\n",
              "\n",
              "      for await (const message of channel.messages) {\n",
              "        // Send a message to notify the kernel that we're ready.\n",
              "        channel.send({})\n",
              "        if (message.buffers) {\n",
              "          for (const buffer of message.buffers) {\n",
              "            buffers.push(buffer);\n",
              "            downloaded += buffer.byteLength;\n",
              "            progress.value = downloaded;\n",
              "          }\n",
              "        }\n",
              "      }\n",
              "      const blob = new Blob(buffers, {type: 'application/binary'});\n",
              "      const a = document.createElement('a');\n",
              "      a.href = window.URL.createObjectURL(blob);\n",
              "      a.download = filename;\n",
              "      div.appendChild(a);\n",
              "      a.click();\n",
              "      div.remove();\n",
              "    }\n",
              "  "
            ]
          },
          "metadata": {}
        },
        {
          "output_type": "display_data",
          "data": {
            "text/plain": [
              "<IPython.core.display.Javascript object>"
            ],
            "application/javascript": [
              "download(\"download_a4b9fa5c-38a0-4a66-87c6-c433177a4e3c\", \"sigmoid_mnist_lambda-v-epoch.pdf\", 19646)"
            ]
          },
          "metadata": {}
        },
        {
          "output_type": "display_data",
          "data": {
            "text/plain": [
              "<Figure size 432x288 with 2 Axes>"
            ],
            "image/png": "[encoded data removed]"
          },
          "metadata": {
            "needs_background": "light"
          }
        }
      ]
    },
    {
      "cell_type": "code",
      "source": [
        ""
      ],
      "metadata": {
        "colab": {
          "base_uri": "https://localhost:8080/",
          "height": 17
        },
        "id": "QlCaCdgMe3Cq",
        "outputId": "c1e3970b-fdac-4a89-df7a-b6ffe39103cc"
      },
      "execution_count": null,
      "outputs": [
        {
          "output_type": "display_data",
          "data": {
            "text/plain": [
              "<IPython.core.display.Javascript object>"
            ],
            "application/javascript": [
              "\n",
              "    async function download(id, filename, size) {\n",
              "      if (!google.colab.kernel.accessAllowed) {\n",
              "        return;\n",
              "      }\n",
              "      const div = document.createElement('div');\n",
              "      const label = document.createElement('label');\n",
              "      label.textContent = `Downloading \"${filename}\": `;\n",
              "      div.appendChild(label);\n",
              "      const progress = document.createElement('progress');\n",
              "      progress.max = size;\n",
              "      div.appendChild(progress);\n",
              "      document.body.appendChild(div);\n",
              "\n",
              "      const buffers = [];\n",
              "      let downloaded = 0;\n",
              "\n",
              "      const channel = await google.colab.kernel.comms.open(id);\n",
              "      // Send a message to notify the kernel that we're ready.\n",
              "      channel.send({})\n",
              "\n",
              "      for await (const message of channel.messages) {\n",
              "        // Send a message to notify the kernel that we're ready.\n",
              "        channel.send({})\n",
              "        if (message.buffers) {\n",
              "          for (const buffer of message.buffers) {\n",
              "            buffers.push(buffer);\n",
              "            downloaded += buffer.byteLength;\n",
              "            progress.value = downloaded;\n",
              "          }\n",
              "        }\n",
              "      }\n",
              "      const blob = new Blob(buffers, {type: 'application/binary'});\n",
              "      const a = document.createElement('a');\n",
              "      a.href = window.URL.createObjectURL(blob);\n",
              "      a.download = filename;\n",
              "      div.appendChild(a);\n",
              "      a.click();\n",
              "      div.remove();\n",
              "    }\n",
              "  "
            ]
          },
          "metadata": {}
        },
        {
          "output_type": "display_data",
          "data": {
            "text/plain": [
              "<IPython.core.display.Javascript object>"
            ],
            "application/javascript": [
              "download(\"download_0e9c5cf2-157b-4dcf-97bb-958d4ded7f44\", \"largest_lambda_mnist.pdf\", 14089)"
            ]
          },
          "metadata": {}
        }
      ]
    },
    {
      "cell_type": "markdown",
      "source": [
        "# Simpler application"
      ],
      "metadata": {
        "id": "WstaEV3pIHzR"
      }
    },
    {
      "cell_type": "code",
      "source": [
        "from jax import jacfwd, jacrev\n"
      ],
      "metadata": {
        "id": "DvXC1gTz2IoN"
      },
      "execution_count": 33,
      "outputs": []
    },
    {
      "cell_type": "code",
      "source": [
        "W = jnp.array([1, 1])\n",
        "b = jnp.array([3, 3])\n"
      ],
      "metadata": {
        "id": "nYLYbrbYIQlP"
      },
      "execution_count": null,
      "outputs": []
    },
    {
      "cell_type": "code",
      "source": [
        "key = random.PRNGKey(0)"
      ],
      "metadata": {
        "id": "Ejx5rlAVI44n"
      },
      "execution_count": 31,
      "outputs": []
    },
    {
      "cell_type": "code",
      "source": [
        "# Outputs probability of a label being true.\n",
        "def predict(W, b, inputs):\n",
        "    return jnp.dot(inputs, W) + b\n",
        "\n",
        "# Build a toy dataset.\n",
        "inputs = jnp.array([[0.52, 1.12,  0.77],\n",
        "                   [0.88, -1.08, 0.15],\n",
        "                   [0.52, 0.06, -1.30],\n",
        "                   [0.74, -2.49, 1.39]])\n",
        "targets = jnp.array([True, True, False, True])\n",
        "\n",
        "# Training loss is the negative log-likelihood of the training examples.\n",
        "def loss(params, inputs, targets):\n",
        "  for W, b in params: # assumes 1 layer\n",
        "    preds = predict(W, b, inputs)\n",
        "  label_probs = preds * targets + (1 - preds) * (1 - targets)\n",
        "  return -jnp.sum(jnp.log(label_probs))\n",
        "\n",
        "# Initialize random model coefficients\n",
        "key, W_key, b_key = random.split(key, 3)\n",
        "W = random.normal(W_key, (3,))\n",
        "b = random.normal(b_key, (1,))\n",
        "\n",
        "def get_params(W, b):\n",
        "  return [[W, b]]\n",
        "\n",
        "params = get_params(W, b)"
      ],
      "metadata": {
        "id": "BTUcSJTzIvGx"
      },
      "execution_count": 32,
      "outputs": []
    },
    {
      "cell_type": "code",
      "source": [
        "def get_flat(grads):\n",
        "  return jnp.concatenate([jnp.concatenate([x[0].flatten(), x[1].flatten()]) for x in grads])\n",
        "\n",
        "def get_hvp(f, params, v, x, y):\n",
        "  return grad(lambda params: jnp.vdot(get_flat(grad(f)(params, x, y)), v))(params)"
      ],
      "metadata": {
        "id": "STCrg3Ok7jvp"
      },
      "execution_count": 29,
      "outputs": []
    },
    {
      "cell_type": "code",
      "source": [
        "print(get_sizes(params))\n",
        "grads = grad(loss)(params, inputs, targets)\n",
        "print(get_sizes(grads))\n",
        "flat_grad = get_flat(grads)\n",
        "print(flat_grad.shape)\n",
        "flat_v = np.random.rand(*flat_grad.shape)\n",
        "print(v.shape)"
      ],
      "metadata": {
        "id": "95BgU0Bm7-Ow",
        "colab": {
          "base_uri": "https://localhost:8080/"
        },
        "outputId": "7e1ff06c-a123-4881-8239-0863640127bf"
      },
      "execution_count": null,
      "outputs": [
        {
          "output_type": "stream",
          "name": "stdout",
          "text": [
            "[[(3,), (1,)]]\n",
            "[[(3,), (1,)]]\n",
            "(4,)\n",
            "(4,)\n"
          ]
        }
      ]
    },
    {
      "cell_type": "code",
      "source": [
        "hvp = get_hvp(loss, params, v, inputs, targets)"
      ],
      "metadata": {
        "id": "z78bpq_44U5v"
      },
      "execution_count": null,
      "outputs": []
    },
    {
      "cell_type": "code",
      "source": [
        "def power_alg(hvp_fn, flat_v, iters=10):\n",
        "  hvp_v = hvp_fn(flat_v)\n",
        "  flat_hvp_v = get_flat(hvp_v)\n",
        "  if iters == 0:\n",
        "    return jnp.dot(flat_v, flat_hvp_v)\n",
        "  normed_hvp_v = flat_hvp_v/jnp.linalg.norm(flat_hvp_v)\n",
        "  return power_alg(hvp_fn, normed_hvp_v, iters=iters-1)\n",
        "\n",
        "hvp_fn = lambda v: get_hvp(loss, params, flat_v, inputs, targets)\n",
        "eig1 = power_alg(hvp_fn, v, iters=10)"
      ],
      "metadata": {
        "id": "OWd5xoeK3uh2"
      },
      "execution_count": null,
      "outputs": []
    },
    {
      "cell_type": "code",
      "source": [
        "eig1"
      ],
      "metadata": {
        "colab": {
          "base_uri": "https://localhost:8080/"
        },
        "id": "Cs_ypqijGFPi",
        "outputId": "6e329890-2b78-4845-f00c-164502bf8273"
      },
      "execution_count": null,
      "outputs": [
        {
          "output_type": "execute_result",
          "data": {
            "text/plain": [
              "DeviceArray(26.773132, dtype=float32)"
            ]
          },
          "metadata": {},
          "execution_count": 114
        }
      ]
    },
    {
      "cell_type": "code",
      "source": [
        ""
      ],
      "metadata": {
        "id": "dWe73n3nNNAj"
      },
      "execution_count": null,
      "outputs": []
    }
  ]
}