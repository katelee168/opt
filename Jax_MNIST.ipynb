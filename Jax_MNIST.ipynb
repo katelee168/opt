{
  "nbformat": 4,
  "nbformat_minor": 0,
  "metadata": {
    "colab": {
      "name": "Jax MNIST",
      "provenance": [],
      "collapsed_sections": []
    },
    "kernelspec": {
      "name": "python3",
      "display_name": "Python 3"
    },
    "language_info": {
      "name": "python"
    }
  },
  "cells": [
    {
      "cell_type": "code",
      "source": [
        "#@title License\n",
        "# Copyright 2018 Google LLC\n",
        "#\n",
        "# Licensed under the Apache License, Version 2.0 (the \"License\");\n",
        "# you may not use this file except in compliance with the License.\n",
        "# You may obtain a copy of the License at\n",
        "#\n",
        "#     https://www.apache.org/licenses/LICENSE-2.0\n",
        "#\n",
        "# Unless required by applicable law or agreed to in writing, software\n",
        "# distributed under the License is distributed on an \"AS IS\" BASIS,\n",
        "# WITHOUT WARRANTIES OR CONDITIONS OF ANY KIND, either express or implied.\n",
        "# See the License for the specific language governing permissions and\n",
        "# limitations under the License.\n",
        "\n",
        "\"\"\"A basic MNIST example using JAX with the mini-libraries stax and optimizers.\n",
        "\n",
        "The mini-library jax.example_libraries.stax is for neural network building, and\n",
        "the mini-library jax.example_libraries.optimizers is for first-order stochastic\n",
        "optimization.\n",
        "\"\"\""
      ],
      "metadata": {
        "cellView": "form",
        "colab": {
          "base_uri": "https://localhost:8080/",
          "height": 89
        },
        "id": "UgFcqL9zzuh6",
        "outputId": "2ced4382-aff7-4952-c531-307e3a31be64"
      },
      "execution_count": null,
      "outputs": [
        {
          "output_type": "execute_result",
          "data": {
            "text/plain": [
              "'A basic MNIST example using JAX with the mini-libraries stax and optimizers.\\n\\nThe mini-library jax.example_libraries.stax is for neural network building, and\\nthe mini-library jax.example_libraries.optimizers is for first-order stochastic\\noptimization.\\n'"
            ],
            "application/vnd.google.colaboratory.intrinsic+json": {
              "type": "string"
            }
          },
          "metadata": {},
          "execution_count": 1
        }
      ]
    },
    {
      "cell_type": "code",
      "source": [
        "#@title Imports\n",
        "import time\n",
        "import itertools\n",
        "\n",
        "import jax.numpy as jnp\n",
        "from jax import grad, jit, vmap\n",
        "from jax import random\n",
        "\n",
        "import matplotlib.pyplot as plt\n",
        "import pandas as pd\n",
        "import seaborn as sns\n",
        "\n",
        "from google.colab import files\n"
      ],
      "metadata": {
        "id": "uutSDVLuzxQw"
      },
      "execution_count": 123,
      "outputs": []
    },
    {
      "cell_type": "markdown",
      "metadata": {
        "id": "MTVcKi-ZYB3R"
      },
      "source": [
        "## Hyperparameters\n",
        "Let's get a few bookkeeping items out of the way."
      ]
    },
    {
      "cell_type": "code",
      "execution_count": 124,
      "metadata": {
        "id": "-fmWA06xYE7d"
      },
      "outputs": [],
      "source": [
        "# A helper function to randomly initialize weights and biases\n",
        "# for a dense neural network layer\n",
        "def random_layer_params(m, n, key, scale=1e-2):\n",
        "  w_key, b_key = random.split(key)\n",
        "  return scale * random.normal(w_key, (n, m)), scale * random.normal(b_key, (n,))\n",
        "\n",
        "# Initialize all layers for a fully-connected neural network with sizes \"sizes\"\n",
        "def init_network_params(sizes, key):\n",
        "  keys = random.split(key, len(sizes))\n",
        "  return [random_layer_params(m, n, k) for m, n, k in zip(sizes[:-1], sizes[1:], keys)]\n",
        "\n",
        "layer_sizes = [784,100,100,10] #[784, 512, 512, 10]\n",
        "step_size = 0.01\n",
        "num_epochs = 8\n",
        "batch_size = 128\n",
        "n_targets = 10\n",
        "params = init_network_params(layer_sizes, random.PRNGKey(0))"
      ]
    },
    {
      "cell_type": "markdown",
      "metadata": {
        "id": "BtoNk_yxWtIw"
      },
      "source": [
        "## Auto-batching predictions\n",
        "\n",
        "Let us first define our prediction function. Note that we're defining this for a _single_ image example. We're going to use JAX's `vmap` function to automatically handle mini-batches, with no performance penalty."
      ]
    },
    {
      "cell_type": "code",
      "execution_count": 125,
      "metadata": {
        "id": "7APc6tD7TiuZ"
      },
      "outputs": [],
      "source": [
        "from jax.scipy.special import logsumexp\n",
        "\n",
        "def relu(x):\n",
        "  return jnp.maximum(0, x)\n",
        "\n",
        "def predict(params, image):\n",
        "  # per-example predictions\n",
        "  activations = image\n",
        "  for w, b in params[:-1]:\n",
        "    outputs = jnp.dot(w, activations) + b\n",
        "    activations = relu(outputs)\n",
        "  \n",
        "  final_w, final_b = params[-1]\n",
        "  logits = jnp.dot(final_w, activations) + final_b\n",
        "  return logits - logsumexp(logits)"
      ]
    },
    {
      "cell_type": "markdown",
      "metadata": {
        "id": "dRW_TvCTWgaP"
      },
      "source": [
        "Let's check that our prediction function only works on single images."
      ]
    },
    {
      "cell_type": "code",
      "execution_count": 126,
      "metadata": {
        "id": "4sW2A5mnXHc5",
        "outputId": "dd6f755e-baba-4512-867a-80cba886e102",
        "colab": {
          "base_uri": "https://localhost:8080/"
        }
      },
      "outputs": [
        {
          "output_type": "stream",
          "name": "stdout",
          "text": [
            "(10,)\n"
          ]
        }
      ],
      "source": [
        "# This works on single examples\n",
        "random_flattened_image = random.normal(random.PRNGKey(1), (28 * 28,))\n",
        "preds = predict(params, random_flattened_image)\n",
        "print(preds.shape)"
      ]
    },
    {
      "cell_type": "code",
      "execution_count": 127,
      "metadata": {
        "id": "PpyQxuedXfhp",
        "outputId": "9190d87c-a7e8-44f2-c353-1c3e8d1e4a8a",
        "colab": {
          "base_uri": "https://localhost:8080/"
        }
      },
      "outputs": [
        {
          "output_type": "stream",
          "name": "stdout",
          "text": [
            "Invalid shapes!\n"
          ]
        }
      ],
      "source": [
        "# Doesn't work with a batch\n",
        "random_flattened_images = random.normal(random.PRNGKey(1), (10, 28 * 28))\n",
        "try:\n",
        "  preds = predict(params, random_flattened_images)\n",
        "except TypeError:\n",
        "  print('Invalid shapes!')"
      ]
    },
    {
      "cell_type": "code",
      "execution_count": 128,
      "metadata": {
        "id": "oJOOncKMXbwK",
        "outputId": "7c055cc5-c47c-44f5-852a-4c54f2070c7a",
        "colab": {
          "base_uri": "https://localhost:8080/"
        }
      },
      "outputs": [
        {
          "output_type": "stream",
          "name": "stdout",
          "text": [
            "(10, 10)\n"
          ]
        }
      ],
      "source": [
        "# Let's upgrade it to handle batches using `vmap`\n",
        "\n",
        "# Make a batched version of the `predict` function\n",
        "batched_predict = vmap(predict, in_axes=(None, 0))\n",
        "\n",
        "# `batched_predict` has the same call signature as `predict`\n",
        "batched_preds = batched_predict(params, random_flattened_images)\n",
        "print(batched_preds.shape)"
      ]
    },
    {
      "cell_type": "markdown",
      "metadata": {
        "id": "elsG6nX03BvW"
      },
      "source": [
        "At this point, we have all the ingredients we need to define our neural network and train it. We've built an auto-batched version of `predict`, which we should be able to use in a loss function. We should be able to use `grad` to take the derivative of the loss with respect to the neural network parameters. Last, we should be able to use `jit` to speed up everything."
      ]
    },
    {
      "cell_type": "markdown",
      "metadata": {
        "id": "NwDuFqc9X7ER"
      },
      "source": [
        "## Utility and loss functions"
      ]
    },
    {
      "cell_type": "code",
      "execution_count": 139,
      "metadata": {
        "id": "6lTI6I4lWdh5"
      },
      "outputs": [],
      "source": [
        "def one_hot(x, k, dtype=jnp.float32):\n",
        "  \"\"\"Create a one-hot encoding of x of size k.\"\"\"\n",
        "  return jnp.array(x[:, None] == jnp.arange(k), dtype)\n",
        "  \n",
        "def accuracy(params, images, targets):\n",
        "  target_class = jnp.argmax(targets, axis=1)\n",
        "  predicted_class = jnp.argmax(batched_predict(params, images), axis=1)\n",
        "  return jnp.mean(predicted_class == target_class)\n",
        "\n",
        "def loss(params, images, targets):\n",
        "  preds = batched_predict(params, images)\n",
        "  return -jnp.mean(preds * targets)\n",
        "\n",
        "@jit\n",
        "def update(params, x, y):\n",
        "  grads = grad(loss)(params, x, y)\n",
        "  return [(w - step_size * dw, b - step_size * db)\n",
        "          for (w, b), (dw, db) in zip(params, grads)]"
      ]
    },
    {
      "cell_type": "markdown",
      "metadata": {
        "id": "umJJGZCC2oKl"
      },
      "source": [
        "## Data Loading with PyTorch\n",
        "\n",
        "JAX is laser-focused on program transformations and accelerator-backed NumPy, so we don't include data loading or munging in the JAX library. There are already a lot of great data loaders out there, so let's just use them instead of reinventing anything. We'll grab PyTorch's data loader, and make a tiny shim to make it work with NumPy arrays."
      ]
    },
    {
      "cell_type": "code",
      "execution_count": 130,
      "metadata": {
        "id": "gEvWt8_u2pqG",
        "outputId": "eabb18a6-b526-4e4e-a1cb-525d38a70947",
        "colab": {
          "base_uri": "https://localhost:8080/"
        }
      },
      "outputs": [
        {
          "output_type": "stream",
          "name": "stdout",
          "text": [
            "Requirement already satisfied: torch in /usr/local/lib/python3.7/dist-packages (1.10.0+cu111)\n",
            "Requirement already satisfied: torchvision in /usr/local/lib/python3.7/dist-packages (0.11.1+cu111)\n",
            "Requirement already satisfied: typing-extensions in /usr/local/lib/python3.7/dist-packages (from torch) (3.10.0.2)\n",
            "Requirement already satisfied: numpy in /usr/local/lib/python3.7/dist-packages (from torchvision) (1.21.5)\n",
            "Requirement already satisfied: pillow!=8.3.0,>=5.3.0 in /usr/local/lib/python3.7/dist-packages (from torchvision) (7.1.2)\n"
          ]
        }
      ],
      "source": [
        "!pip install torch torchvision"
      ]
    },
    {
      "cell_type": "code",
      "execution_count": 131,
      "metadata": {
        "cellView": "both",
        "id": "94PjXZ8y3dVF"
      },
      "outputs": [],
      "source": [
        "import numpy as np\n",
        "from torch.utils import data\n",
        "from torchvision.datasets import MNIST\n",
        "\n",
        "def numpy_collate(batch):\n",
        "  if isinstance(batch[0], np.ndarray):\n",
        "    return np.stack(batch)\n",
        "  elif isinstance(batch[0], (tuple,list)):\n",
        "    transposed = zip(*batch)\n",
        "    return [numpy_collate(samples) for samples in transposed]\n",
        "  else:\n",
        "    return np.array(batch)\n",
        "\n",
        "class NumpyLoader(data.DataLoader):\n",
        "  def __init__(self, dataset, batch_size=1,\n",
        "                shuffle=False, sampler=None,\n",
        "                batch_sampler=None, num_workers=0,\n",
        "                pin_memory=False, drop_last=False,\n",
        "                timeout=0, worker_init_fn=None):\n",
        "    super(self.__class__, self).__init__(dataset,\n",
        "        batch_size=batch_size,\n",
        "        shuffle=shuffle,\n",
        "        sampler=sampler,\n",
        "        batch_sampler=batch_sampler,\n",
        "        num_workers=num_workers,\n",
        "        collate_fn=numpy_collate,\n",
        "        pin_memory=pin_memory,\n",
        "        drop_last=drop_last,\n",
        "        timeout=timeout,\n",
        "        worker_init_fn=worker_init_fn)\n",
        "\n",
        "class FlattenAndCast(object):\n",
        "  def __call__(self, pic):\n",
        "    return np.ravel(np.array(pic, dtype=jnp.float32))"
      ]
    },
    {
      "cell_type": "code",
      "execution_count": 132,
      "metadata": {
        "id": "l314jsfP4TN4"
      },
      "outputs": [],
      "source": [
        "# Define our dataset, using torch datasets\n",
        "mnist_dataset = MNIST('/tmp/mnist/', download=True, transform=FlattenAndCast())\n",
        "training_generator = NumpyLoader(mnist_dataset, batch_size=batch_size, num_workers=0)"
      ]
    },
    {
      "cell_type": "code",
      "execution_count": 133,
      "metadata": {
        "id": "FTNo4beUvb6t",
        "outputId": "c951debe-e550-4433-966a-013f9d3bfb9e",
        "colab": {
          "base_uri": "https://localhost:8080/"
        }
      },
      "outputs": [
        {
          "output_type": "stream",
          "name": "stderr",
          "text": [
            "/usr/local/lib/python3.7/dist-packages/torchvision/datasets/mnist.py:62: UserWarning: train_data has been renamed data\n",
            "  warnings.warn(\"train_data has been renamed data\")\n",
            "/usr/local/lib/python3.7/dist-packages/torchvision/datasets/mnist.py:52: UserWarning: train_labels has been renamed targets\n",
            "  warnings.warn(\"train_labels has been renamed targets\")\n",
            "/usr/local/lib/python3.7/dist-packages/torchvision/datasets/mnist.py:67: UserWarning: test_data has been renamed data\n",
            "  warnings.warn(\"test_data has been renamed data\")\n",
            "/usr/local/lib/python3.7/dist-packages/torchvision/datasets/mnist.py:57: UserWarning: test_labels has been renamed targets\n",
            "  warnings.warn(\"test_labels has been renamed targets\")\n"
          ]
        }
      ],
      "source": [
        "# Get the full train dataset (for checking accuracy while training)\n",
        "train_images = np.array(mnist_dataset.train_data).reshape(len(mnist_dataset.train_data), -1)\n",
        "train_labels = one_hot(np.array(mnist_dataset.train_labels), n_targets)\n",
        "\n",
        "# Get full test dataset\n",
        "mnist_dataset_test = MNIST('/tmp/mnist/', download=True, train=False)\n",
        "test_images = jnp.array(mnist_dataset_test.test_data.numpy().reshape(len(mnist_dataset_test.test_data), -1), dtype=jnp.float32)\n",
        "test_labels = one_hot(np.array(mnist_dataset_test.test_labels), n_targets)"
      ]
    },
    {
      "cell_type": "markdown",
      "metadata": {
        "id": "xxPd6Qw3Z98v"
      },
      "source": [
        "## Training Loop"
      ]
    },
    {
      "cell_type": "code",
      "source": [
        "def get_sizes(l):\n",
        "  return [[x.shape for x in y] for y in l]"
      ],
      "metadata": {
        "id": "5gGYRjgJI8xE"
      },
      "execution_count": 141,
      "outputs": []
    },
    {
      "cell_type": "code",
      "source": [
        "def get_flat(grads):\n",
        "  return jnp.concatenate([jnp.concatenate([x[0].flatten(), x[1].flatten()]) for x in grads])\n",
        "\n",
        "def get_hvp(f, params, v, x, y):\n",
        "  return grad(lambda params: jnp.vdot(get_flat(grad(f)(params, x, y)), v))(params)"
      ],
      "metadata": {
        "id": "8ODV6TjpXz5F"
      },
      "execution_count": 142,
      "outputs": []
    },
    {
      "cell_type": "code",
      "source": [
        "print(get_sizes(params))\n",
        "grads = grad(loss)(params, x, y)\n",
        "print(get_sizes(grads))\n",
        "flat_grad = get_flat(grads)\n",
        "print(flat_grad.shape)\n",
        "flat_v = np.random.rand(*flat_grad.shape)\n",
        "print(v.shape)"
      ],
      "metadata": {
        "colab": {
          "base_uri": "https://localhost:8080/"
        },
        "id": "HXdHJi2yI8xE",
        "outputId": "a88b6d7e-8327-4e97-859e-ca4d6d8540d1"
      },
      "execution_count": 122,
      "outputs": [
        {
          "output_type": "stream",
          "name": "stdout",
          "text": [
            "[[(3,), (1,)]]\n",
            "[[(3,), (1,)]]\n",
            "(4,)\n",
            "(4,)\n"
          ]
        }
      ]
    },
    {
      "cell_type": "code",
      "source": [
        "def power_alg(hvp_fn, flat_v, iters=10):\n",
        "  hvp_v = hvp_fn(flat_v)\n",
        "  flat_hvp_v = get_flat(hvp_v)\n",
        "  if iters == 0:\n",
        "    return jnp.dot(flat_v, flat_hvp_v)\n",
        "  normed_hvp_v = flat_hvp_v/jnp.linalg.norm(flat_hvp_v)\n",
        "  return power_alg(hvp_fn, normed_hvp_v, iters=iters-1)\n",
        "\n",
        "hvp_fn = lambda v: get_hvp(loss, params, flat_v, x, y)\n",
        "eig1 = power_alg(hvp_fn, v, iters=10)"
      ],
      "metadata": {
        "id": "zYkF7LfzI8xG"
      },
      "execution_count": 147,
      "outputs": []
    },
    {
      "cell_type": "code",
      "source": [
        "num_epochs = 20"
      ],
      "metadata": {
        "id": "cq92RPrxZsZO"
      },
      "execution_count": 206,
      "outputs": []
    },
    {
      "cell_type": "code",
      "source": [
        "foo = []\n",
        "for x in log:\n",
        "  x['train'] = float(x['train'])\n",
        "  x['test'] = float(x['test'])\n",
        "  foo.append(x)\n",
        "log = foo"
      ],
      "metadata": {
        "id": "CWJue1hXipWL"
      },
      "execution_count": 215,
      "outputs": []
    },
    {
      "cell_type": "code",
      "execution_count": 208,
      "metadata": {
        "id": "X2DnZo3iYj18",
        "colab": {
          "base_uri": "https://localhost:8080/"
        },
        "outputId": "212bde62-5e9e-44e9-822d-af711e6763ca"
      },
      "outputs": [
        {
          "output_type": "stream",
          "name": "stdout",
          "text": [
            "Epoch 0 in 28.11 sec\n",
            "Training set accuracy 0.9855833649635315\n",
            "Test set accuracy 0.973099946975708\n",
            "Eig1:  288.65112\n",
            "Epoch 1 in 27.39 sec\n",
            "Training set accuracy 0.98621666431427\n",
            "Test set accuracy 0.9729999899864197\n",
            "Eig1:  279.78198\n",
            "Epoch 2 in 28.06 sec\n",
            "Training set accuracy 0.9868666529655457\n",
            "Test set accuracy 0.973099946975708\n",
            "Eig1:  291.2206\n",
            "Epoch 3 in 28.56 sec\n",
            "Training set accuracy 0.9873999953269958\n",
            "Test set accuracy 0.973800003528595\n",
            "Eig1:  283.8095\n",
            "Epoch 4 in 27.13 sec\n",
            "Training set accuracy 0.9879833459854126\n",
            "Test set accuracy 0.9741999506950378\n",
            "Eig1:  287.6483\n",
            "Epoch 5 in 27.33 sec\n",
            "Training set accuracy 0.9884166717529297\n",
            "Test set accuracy 0.9745000004768372\n",
            "Eig1:  282.54153\n",
            "Epoch 6 in 27.18 sec\n",
            "Training set accuracy 0.9888666868209839\n",
            "Test set accuracy 0.97489994764328\n",
            "Eig1:  264.8455\n",
            "Epoch 7 in 26.85 sec\n",
            "Training set accuracy 0.9894333481788635\n",
            "Test set accuracy 0.9751999974250793\n",
            "Eig1:  287.7535\n",
            "Epoch 8 in 27.28 sec\n",
            "Training set accuracy 0.9897000193595886\n",
            "Test set accuracy 0.9746999740600586\n",
            "Eig1:  281.43066\n",
            "Epoch 9 in 27.19 sec\n",
            "Training set accuracy 0.9901833534240723\n",
            "Test set accuracy 0.9746999740600586\n",
            "Eig1:  284.08795\n",
            "Epoch 10 in 27.48 sec\n",
            "Training set accuracy 0.9906666874885559\n",
            "Test set accuracy 0.9749999642372131\n",
            "Eig1:  284.51468\n",
            "Epoch 11 in 27.60 sec\n",
            "Training set accuracy 0.9910666942596436\n",
            "Test set accuracy 0.97489994764328\n",
            "Eig1:  290.2432\n",
            "Epoch 12 in 30.15 sec\n",
            "Training set accuracy 0.9915000200271606\n",
            "Test set accuracy 0.9747999906539917\n",
            "Eig1:  268.8274\n",
            "Epoch 13 in 29.61 sec\n",
            "Training set accuracy 0.9918500185012817\n",
            "Test set accuracy 0.9747999906539917\n",
            "Eig1:  256.04044\n",
            "Epoch 14 in 27.17 sec\n",
            "Training set accuracy 0.9921500086784363\n",
            "Test set accuracy 0.9749999642372131\n",
            "Eig1:  236.74461\n",
            "Epoch 15 in 27.37 sec\n",
            "Training set accuracy 0.9924166798591614\n",
            "Test set accuracy 0.9746999740600586\n",
            "Eig1:  274.2593\n",
            "Epoch 16 in 27.46 sec\n",
            "Training set accuracy 0.9925500154495239\n",
            "Test set accuracy 0.9746999740600586\n",
            "Eig1:  256.8142\n",
            "Epoch 17 in 27.29 sec\n",
            "Training set accuracy 0.992983341217041\n",
            "Test set accuracy 0.9746999740600586\n",
            "Eig1:  245.06526\n",
            "Epoch 18 in 32.43 sec\n",
            "Training set accuracy 0.9933666586875916\n",
            "Test set accuracy 0.9745000004768372\n",
            "Eig1:  259.9212\n",
            "Epoch 19 in 30.39 sec\n",
            "Training set accuracy 0.9936333298683167\n",
            "Test set accuracy 0.974399983882904\n",
            "Eig1:  238.3792\n"
          ]
        }
      ],
      "source": [
        "import time\n",
        "\n",
        "log = []\n",
        "for epoch in range(num_epochs):\n",
        "  start_time = time.time()\n",
        "  for i, (x, y) in enumerate(training_generator):\n",
        "    y = one_hot(y, n_targets)\n",
        "    params = update(params, x, y)\n",
        "\n",
        "    if i % 25 == 0:\n",
        "      flat_params = get_flat(params)\n",
        "      flat_v = np.random.rand(*flat_params.shape)\n",
        "      hvp = get_hvp(loss, params, flat_v, x, y)\n",
        "      hvp_fn = lambda v: get_hvp(loss, params, flat_v, x, y)\n",
        "      eig1 = power_alg(hvp_fn, v, iters=20)\n",
        "\n",
        "      train_acc = accuracy(params, train_images, train_labels)\n",
        "      test_acc = accuracy(params, test_images, test_labels)\n",
        "      log.append({'step': i, 'epoch': epoch, 'eig1': float(eig1),\n",
        "                 'train': float(train_acc),\n",
        "                 'test': float(test_acc),}\n",
        "                 )\n",
        "\n",
        "    # H = get_hessian(loss)(params, x, y)\n",
        "  epoch_time = time.time() - start_time\n",
        "\n",
        "  train_acc = accuracy(params, train_images, train_labels)\n",
        "  test_acc = accuracy(params, test_images, test_labels)\n",
        "  print(\"Epoch {} in {:0.2f} sec\".format(epoch, epoch_time))\n",
        "  print(\"Training set accuracy {}\".format(train_acc))\n",
        "  print(\"Test set accuracy {}\".format(test_acc))\n",
        "  print('Eig1: ', eig1)\n",
        "\n",
        "  "
      ]
    },
    {
      "cell_type": "code",
      "source": [
        "df = pd.DataFrame(log)"
      ],
      "metadata": {
        "id": "JMS3JOoDbSHH"
      },
      "execution_count": 216,
      "outputs": []
    },
    {
      "cell_type": "code",
      "source": [
        "sns.set_context(context='talk')\n",
        "f = plt.figure()\n",
        "sns.lineplot(data=df, x='step', y='eig1', hue='epoch', markers=True)\n",
        "plt.ylabel('Largest $\\lambda$')\n",
        "\n",
        "figname = \"largest_lambda_mnist.pdf\"\n",
        "f.savefig(figname, bbox_inches='tight')\n",
        "files.download(figname) \n"
      ],
      "metadata": {
        "colab": {
          "base_uri": "https://localhost:8080/",
          "height": 301
        },
        "id": "enA_F5pbbZYf",
        "outputId": "4ffaf12a-179f-4094-ca8b-2ba329168ccd"
      },
      "execution_count": 228,
      "outputs": [
        {
          "output_type": "display_data",
          "data": {
            "text/plain": [
              "<IPython.core.display.Javascript object>"
            ],
            "application/javascript": [
              "\n",
              "    async function download(id, filename, size) {\n",
              "      if (!google.colab.kernel.accessAllowed) {\n",
              "        return;\n",
              "      }\n",
              "      const div = document.createElement('div');\n",
              "      const label = document.createElement('label');\n",
              "      label.textContent = `Downloading \"${filename}\": `;\n",
              "      div.appendChild(label);\n",
              "      const progress = document.createElement('progress');\n",
              "      progress.max = size;\n",
              "      div.appendChild(progress);\n",
              "      document.body.appendChild(div);\n",
              "\n",
              "      const buffers = [];\n",
              "      let downloaded = 0;\n",
              "\n",
              "      const channel = await google.colab.kernel.comms.open(id);\n",
              "      // Send a message to notify the kernel that we're ready.\n",
              "      channel.send({})\n",
              "\n",
              "      for await (const message of channel.messages) {\n",
              "        // Send a message to notify the kernel that we're ready.\n",
              "        channel.send({})\n",
              "        if (message.buffers) {\n",
              "          for (const buffer of message.buffers) {\n",
              "            buffers.push(buffer);\n",
              "            downloaded += buffer.byteLength;\n",
              "            progress.value = downloaded;\n",
              "          }\n",
              "        }\n",
              "      }\n",
              "      const blob = new Blob(buffers, {type: 'application/binary'});\n",
              "      const a = document.createElement('a');\n",
              "      a.href = window.URL.createObjectURL(blob);\n",
              "      a.download = filename;\n",
              "      div.appendChild(a);\n",
              "      a.click();\n",
              "      div.remove();\n",
              "    }\n",
              "  "
            ]
          },
          "metadata": {}
        },
        {
          "output_type": "display_data",
          "data": {
            "text/plain": [
              "<IPython.core.display.Javascript object>"
            ],
            "application/javascript": [
              "download(\"download_b75fd55e-23af-4ca6-a67e-6a3cdd912f66\", \"largest_lambda_mnist.pdf\", 15602)"
            ]
          },
          "metadata": {}
        },
        {
          "output_type": "display_data",
          "data": {
            "text/plain": [
              "<Figure size 432x288 with 1 Axes>"
            ],
            "image/png": "[encoded data removed]"
          },
          "metadata": {
            "needs_background": "light"
          }
        }
      ]
    },
    {
      "cell_type": "code",
      "source": [
        "sns.boxplot(data=df, x='epoch', y='eig1')\n",
        "plt.ylabel('Largest $\\lambda$')\n",
        "ax2 = plt.twinx()\n",
        "sns.lineplot(data=df, x='epoch', y='train', palette=sns.color_palette(\"Blues\", as_cmap=True), ax=ax2)\n",
        "sns.lineplot(data=df, x='epoch', y='test', palette=sns.color_palette(\"Greens\", as_cmap=True), ax=ax2)\n",
        "plt.ylabel('train / test')\n",
        "\n",
        "figname = \"largest-lambda_mnist_epoch_vs_eig1.pdf\"\n",
        "f.savefig(figname, bbox_inches='tight')\n",
        "files.download(figname) \n",
        "\n"
      ],
      "metadata": {
        "colab": {
          "base_uri": "https://localhost:8080/",
          "height": 301
        },
        "id": "G86iVzDLfKIK",
        "outputId": "2dbaff59-a7d7-4bce-bf8d-fbeca42495f7"
      },
      "execution_count": 229,
      "outputs": [
        {
          "output_type": "display_data",
          "data": {
            "text/plain": [
              "<IPython.core.display.Javascript object>"
            ],
            "application/javascript": [
              "\n",
              "    async function download(id, filename, size) {\n",
              "      if (!google.colab.kernel.accessAllowed) {\n",
              "        return;\n",
              "      }\n",
              "      const div = document.createElement('div');\n",
              "      const label = document.createElement('label');\n",
              "      label.textContent = `Downloading \"${filename}\": `;\n",
              "      div.appendChild(label);\n",
              "      const progress = document.createElement('progress');\n",
              "      progress.max = size;\n",
              "      div.appendChild(progress);\n",
              "      document.body.appendChild(div);\n",
              "\n",
              "      const buffers = [];\n",
              "      let downloaded = 0;\n",
              "\n",
              "      const channel = await google.colab.kernel.comms.open(id);\n",
              "      // Send a message to notify the kernel that we're ready.\n",
              "      channel.send({})\n",
              "\n",
              "      for await (const message of channel.messages) {\n",
              "        // Send a message to notify the kernel that we're ready.\n",
              "        channel.send({})\n",
              "        if (message.buffers) {\n",
              "          for (const buffer of message.buffers) {\n",
              "            buffers.push(buffer);\n",
              "            downloaded += buffer.byteLength;\n",
              "            progress.value = downloaded;\n",
              "          }\n",
              "        }\n",
              "      }\n",
              "      const blob = new Blob(buffers, {type: 'application/binary'});\n",
              "      const a = document.createElement('a');\n",
              "      a.href = window.URL.createObjectURL(blob);\n",
              "      a.download = filename;\n",
              "      div.appendChild(a);\n",
              "      a.click();\n",
              "      div.remove();\n",
              "    }\n",
              "  "
            ]
          },
          "metadata": {}
        },
        {
          "output_type": "display_data",
          "data": {
            "text/plain": [
              "<IPython.core.display.Javascript object>"
            ],
            "application/javascript": [
              "download(\"download_00a451e6-44b6-447c-8954-8b16245b7c7c\", \"largest-lambda_mnist_epoch_vs_eig1.pdf\", 15602)"
            ]
          },
          "metadata": {}
        },
        {
          "output_type": "display_data",
          "data": {
            "text/plain": [
              "<Figure size 432x288 with 2 Axes>"
            ],
            "image/png": "[encoded data removed]"
          },
          "metadata": {
            "needs_background": "light"
          }
        }
      ]
    },
    {
      "cell_type": "code",
      "source": [
        ""
      ],
      "metadata": {
        "colab": {
          "base_uri": "https://localhost:8080/",
          "height": 17
        },
        "id": "QlCaCdgMe3Cq",
        "outputId": "c1e3970b-fdac-4a89-df7a-b6ffe39103cc"
      },
      "execution_count": 202,
      "outputs": [
        {
          "output_type": "display_data",
          "data": {
            "text/plain": [
              "<IPython.core.display.Javascript object>"
            ],
            "application/javascript": [
              "\n",
              "    async function download(id, filename, size) {\n",
              "      if (!google.colab.kernel.accessAllowed) {\n",
              "        return;\n",
              "      }\n",
              "      const div = document.createElement('div');\n",
              "      const label = document.createElement('label');\n",
              "      label.textContent = `Downloading \"${filename}\": `;\n",
              "      div.appendChild(label);\n",
              "      const progress = document.createElement('progress');\n",
              "      progress.max = size;\n",
              "      div.appendChild(progress);\n",
              "      document.body.appendChild(div);\n",
              "\n",
              "      const buffers = [];\n",
              "      let downloaded = 0;\n",
              "\n",
              "      const channel = await google.colab.kernel.comms.open(id);\n",
              "      // Send a message to notify the kernel that we're ready.\n",
              "      channel.send({})\n",
              "\n",
              "      for await (const message of channel.messages) {\n",
              "        // Send a message to notify the kernel that we're ready.\n",
              "        channel.send({})\n",
              "        if (message.buffers) {\n",
              "          for (const buffer of message.buffers) {\n",
              "            buffers.push(buffer);\n",
              "            downloaded += buffer.byteLength;\n",
              "            progress.value = downloaded;\n",
              "          }\n",
              "        }\n",
              "      }\n",
              "      const blob = new Blob(buffers, {type: 'application/binary'});\n",
              "      const a = document.createElement('a');\n",
              "      a.href = window.URL.createObjectURL(blob);\n",
              "      a.download = filename;\n",
              "      div.appendChild(a);\n",
              "      a.click();\n",
              "      div.remove();\n",
              "    }\n",
              "  "
            ]
          },
          "metadata": {}
        },
        {
          "output_type": "display_data",
          "data": {
            "text/plain": [
              "<IPython.core.display.Javascript object>"
            ],
            "application/javascript": [
              "download(\"download_0e9c5cf2-157b-4dcf-97bb-958d4ded7f44\", \"largest_lambda_mnist.pdf\", 14089)"
            ]
          },
          "metadata": {}
        }
      ]
    },
    {
      "cell_type": "markdown",
      "source": [
        "# Simpler application"
      ],
      "metadata": {
        "id": "WstaEV3pIHzR"
      }
    },
    {
      "cell_type": "code",
      "source": [
        "from jax import jacfwd, jacrev\n"
      ],
      "metadata": {
        "id": "DvXC1gTz2IoN"
      },
      "execution_count": null,
      "outputs": []
    },
    {
      "cell_type": "code",
      "source": [
        "W = jnp.array([1, 1])\n",
        "b = jnp.array([3, 3])\n"
      ],
      "metadata": {
        "id": "nYLYbrbYIQlP"
      },
      "execution_count": 65,
      "outputs": []
    },
    {
      "cell_type": "code",
      "source": [
        "key = random.PRNGKey(0)"
      ],
      "metadata": {
        "id": "Ejx5rlAVI44n"
      },
      "execution_count": 67,
      "outputs": []
    },
    {
      "cell_type": "code",
      "source": [
        "# Outputs probability of a label being true.\n",
        "def predict(W, b, inputs):\n",
        "    return jnp.dot(inputs, W) + b\n",
        "\n",
        "# Build a toy dataset.\n",
        "inputs = jnp.array([[0.52, 1.12,  0.77],\n",
        "                   [0.88, -1.08, 0.15],\n",
        "                   [0.52, 0.06, -1.30],\n",
        "                   [0.74, -2.49, 1.39]])\n",
        "targets = jnp.array([True, True, False, True])\n",
        "\n",
        "# Training loss is the negative log-likelihood of the training examples.\n",
        "def loss(params, inputs, targets):\n",
        "  for W, b in params: # assumes 1 layer\n",
        "    preds = predict(W, b, inputs)\n",
        "  label_probs = preds * targets + (1 - preds) * (1 - targets)\n",
        "  return -jnp.sum(jnp.log(label_probs))\n",
        "\n",
        "# Initialize random model coefficients\n",
        "key, W_key, b_key = random.split(key, 3)\n",
        "W = random.normal(W_key, (3,))\n",
        "b = random.normal(b_key, (1,))\n",
        "\n",
        "def get_params(W, b):\n",
        "  return [[W, b]]\n",
        "\n",
        "params = get_params(W, b)"
      ],
      "metadata": {
        "id": "BTUcSJTzIvGx"
      },
      "execution_count": 87,
      "outputs": []
    },
    {
      "cell_type": "code",
      "source": [
        "def get_flat(grads):\n",
        "  return jnp.concatenate([jnp.concatenate([x[0].flatten(), x[1].flatten()]) for x in grads])\n",
        "\n",
        "def get_hvp(f, params, v, x, y):\n",
        "  return grad(lambda params: jnp.vdot(get_flat(grad(f)(params, x, y)), v))(params)"
      ],
      "metadata": {
        "id": "STCrg3Ok7jvp"
      },
      "execution_count": 107,
      "outputs": []
    },
    {
      "cell_type": "code",
      "source": [
        "print(get_sizes(params))\n",
        "grads = grad(loss)(params, inputs, targets)\n",
        "print(get_sizes(grads))\n",
        "flat_grad = get_flat(grads)\n",
        "print(flat_grad.shape)\n",
        "flat_v = np.random.rand(*flat_grad.shape)\n",
        "print(v.shape)"
      ],
      "metadata": {
        "id": "95BgU0Bm7-Ow",
        "colab": {
          "base_uri": "https://localhost:8080/"
        },
        "outputId": "7e1ff06c-a123-4881-8239-0863640127bf"
      },
      "execution_count": 111,
      "outputs": [
        {
          "output_type": "stream",
          "name": "stdout",
          "text": [
            "[[(3,), (1,)]]\n",
            "[[(3,), (1,)]]\n",
            "(4,)\n",
            "(4,)\n"
          ]
        }
      ]
    },
    {
      "cell_type": "code",
      "source": [
        "hvp = get_hvp(loss, params, v, inputs, targets)"
      ],
      "metadata": {
        "id": "z78bpq_44U5v"
      },
      "execution_count": 93,
      "outputs": []
    },
    {
      "cell_type": "code",
      "source": [
        "def power_alg(hvp_fn, flat_v, iters=10):\n",
        "  hvp_v = hvp_fn(flat_v)\n",
        "  flat_hvp_v = get_flat(hvp_v)\n",
        "  if iters == 0:\n",
        "    return jnp.dot(flat_v, flat_hvp_v)\n",
        "  normed_hvp_v = flat_hvp_v/jnp.linalg.norm(flat_hvp_v)\n",
        "  return power_alg(hvp_fn, normed_hvp_v, iters=iters-1)\n",
        "\n",
        "hvp_fn = lambda v: get_hvp(loss, params, flat_v, inputs, targets)\n",
        "eig1 = power_alg(hvp_fn, v, iters=10)"
      ],
      "metadata": {
        "id": "OWd5xoeK3uh2"
      },
      "execution_count": 113,
      "outputs": []
    },
    {
      "cell_type": "code",
      "source": [
        "eig1"
      ],
      "metadata": {
        "colab": {
          "base_uri": "https://localhost:8080/"
        },
        "id": "Cs_ypqijGFPi",
        "outputId": "6e329890-2b78-4845-f00c-164502bf8273"
      },
      "execution_count": 114,
      "outputs": [
        {
          "output_type": "execute_result",
          "data": {
            "text/plain": [
              "DeviceArray(26.773132, dtype=float32)"
            ]
          },
          "metadata": {},
          "execution_count": 114
        }
      ]
    },
    {
      "cell_type": "code",
      "source": [
        ""
      ],
      "metadata": {
        "id": "dWe73n3nNNAj"
      },
      "execution_count": null,
      "outputs": []
    }
  ]
}